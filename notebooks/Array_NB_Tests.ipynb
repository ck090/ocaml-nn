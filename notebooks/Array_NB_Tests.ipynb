{
 "cells": [
  {
   "cell_type": "code",
   "execution_count": 1,
   "id": "6f160104-304f-4bf5-bc27-7626a27a666b",
   "metadata": {},
   "outputs": [
    {
     "data": {
      "text/plain": [
       "val asrt : bool * string -> unit = <fun>\n"
      ]
     },
     "execution_count": 1,
     "metadata": {},
     "output_type": "execute_result"
    }
   ],
   "source": [
    "(* Required definitions *)\n",
    "let asrt = function\n",
    " | (true,_) -> ()\n",
    " | (false, str) -> failwith (\"Assertion failure: \"^str)"
   ]
  },
  {
   "cell_type": "code",
   "execution_count": 2,
   "id": "57d0521e-037e-4d65-a4c8-defe7fc5e102",
   "metadata": {},
   "outputs": [
    {
     "data": {
      "text/plain": [
       "module Util :\n",
       "  sig\n",
       "    type 'a t = float array array\n",
       "    val shape : 'a t -> int * int\n",
       "    val float_1d : int -> float array\n",
       "    val float_2d : int -> int -> float array array\n",
       "    val float_2d_zeros : int -> int -> float array array\n",
       "    val transpose : 'a array array -> 'a array array\n",
       "    val dot_product :\n",
       "      float array array -> float array array -> float array array\n",
       "    val add_scalar : float -> float array array -> float array array\n",
       "    val sub_scalar : float array array -> float -> float array array\n",
       "    val mult_scalar : float -> float array array -> float array array\n",
       "    val add_mat : float array array -> float array array -> float array array\n",
       "    val sub_mat : float array array -> float array array -> float array array\n",
       "    val mult_mat :\n",
       "      float array array -> float array array -> float array array\n",
       "    val sum_2d_matrix : float array array -> float\n",
       "    val one_hot : int array -> float array array\n",
       "    val init_params :\n",
       "      float array array * float array array * float array array *\n",
       "      float array array * float array array * float * float array array *\n",
       "      float\n",
       "    val random_indices : int -> int -> int -> int array\n",
       "    val select_indices : 'a array -> int array -> 'a array\n",
       "  end\n"
      ]
     },
     "execution_count": 2,
     "metadata": {},
     "output_type": "execute_result"
    }
   ],
   "source": [
    "module Util = struct\n",
    "  type 'a t = float array array\n",
    "\n",
    "  let shape (a: 'a t) = \n",
    "    let rows = Array.length a in\n",
    "    let cols = Array.length a.(0) in\n",
    "    (rows, cols)\n",
    "\n",
    "  let float_1d size = Array.init size (fun _ -> (Random.float 1.0) -. 0.5)\n",
    "\n",
    "  let float_2d rows cols = Array.init rows (fun _ -> Array.init cols (fun _ -> (Random.float 1.0) -. 0.5))\n",
    "\n",
    "  let float_2d_zeros rows cols = Array.make_matrix rows cols 0.0\n",
    "\n",
    "  let transpose (a : 'a array array) : 'a array array =\n",
    "    let rows = Array.length a in\n",
    "    let cols = Array.length a.(0) in\n",
    "    let transposed = Array.make_matrix cols rows a.(0).(0) in\n",
    "      for i = 0 to rows - 1 do\n",
    "        for j = 0 to cols - 1 do\n",
    "          transposed.(j).(i) <- a.(i).(j)\n",
    "        done\n",
    "      done;\n",
    "    transposed\n",
    "\n",
    "  let dot_product (a1 : float array array) (a2 : float array array) : float array array =\n",
    "    let rows_a1, cols_a1 = shape a1 in\n",
    "    let rows_a2, cols_a2 = shape a2 in\n",
    "    let transposed = transpose a2 in\n",
    "    let result = Array.make_matrix rows_a1 cols_a2 0.0 in\n",
    "      for i = 0 to rows_a1 - 1 do\n",
    "        for j = 0 to cols_a2 - 1 do\n",
    "          let dot_product = Array.mapi (fun k x -> x *. transposed.(j).(k)) a1.(i) |> Array.fold_left (+.) 0.0 in\n",
    "          result.(i).(j) <- dot_product\n",
    "        done\n",
    "      done;\n",
    "    result\n",
    "\n",
    "  let add_scalar (s : float) (a : float array array) = Array.map (fun row -> Array.map (fun x -> x +. s) row) a\n",
    "  \n",
    "  let sub_scalar (a: float array array) (s: float) = Array.map (fun row -> Array.map (fun x -> x -. s) row) a\n",
    "\n",
    "  let mult_scalar (s : float) (a : float array array) = Array.map (fun row -> Array.map (fun x -> x *. s) row) a\n",
    "  \n",
    "  let add_mat (m1 : float array array) (m2 : float array array) : float array array =\n",
    "    let n_rows1, n_cols1 = shape m1 in\n",
    "    let n_rows2, n_cols2 = shape m2 in\n",
    "    if n_rows1 <> n_rows2 || n_cols1 <> n_cols2 then\n",
    "    let m1_resized = Array.init n_rows1 (fun i -> Array.make n_cols2 m1.(i).(0)) in\n",
    "    for i = 0 to n_rows1 - 1 do\n",
    "      for j = 0 to n_cols2 - 1 do\n",
    "        m1_resized.(i).(j) <- m1.(i).(0)\n",
    "      done\n",
    "    done;\n",
    "    Array.map2 (Array.map2 (+.)) m1_resized m2\n",
    "    else\n",
    "    Array.map2 (Array.map2 (+.)) m1 m2\n",
    "\n",
    "  let sub_mat (l1: float array array) (l2: float array array) = \n",
    "    Array.map2 (fun row1 row2 -> Array.map2 (fun x y -> x -. y) row1 row2) l1 l2\n",
    "\n",
    "  let mult_mat (l1: float array array) (l2: float array array) = \n",
    "    Array.map2 (fun row1 row2 -> Array.map2 (fun x y -> x *. y) row1 row2) l1 l2\n",
    " \n",
    "  let sum_2d_matrix (matrix : float array array) : float =\n",
    "    Array.fold_left (fun acc row -> acc +. Array.fold_left (+.) 0.0 row) 0.0 matrix\n",
    "\n",
    "  let one_hot (y: int array): float array array =\n",
    "    let n = Array.fold_left max 0 y + 1 in\n",
    "    let temp = Array.init (Array.length y) (fun i -> Array.init n (fun j -> if j = y.(i) then 1.0 else 0.0)) in\n",
    "    transpose temp\n",
    "    \n",
    "  let init_params =\n",
    "    let w1 = float_2d 20 784 in\n",
    "    let b1 = float_2d 20 1 in\n",
    "    let v_w1 = float_2d_zeros 20 784 in\n",
    "    let v_b1 = 0.0 in\n",
    "    let w2 = float_2d 10 20 in\n",
    "    let b2 = float_2d 10 1 in\n",
    "    let v_w2 = float_2d_zeros 10 20 in\n",
    "    let v_b2 = 0.0 in\n",
    "    (w1, b1, w2, b2, v_w1, v_b1, v_w2, v_b2)\n",
    "    \n",
    "  let random_indices n x y =\n",
    "  let rec aux acc n =\n",
    "    if n = 0 then acc\n",
    "    else\n",
    "      let r = Random.int (y - x + 1) + x in\n",
    "      if Array.mem r acc then aux acc n\n",
    "      else aux (Array.append [|r|] acc) (n-1)\n",
    "  in aux [||] n\n",
    "\n",
    "  let select_indices matrix indices =\n",
    "    Array.map (fun i -> matrix.(i)) indices\n",
    "end"
   ]
  },
  {
   "cell_type": "code",
   "execution_count": 3,
   "id": "15adbea2-971a-4bd6-b1df-f08db562d620",
   "metadata": {},
   "outputs": [
    {
     "data": {
      "text/plain": [
       "module Activation :\n",
       "  sig\n",
       "    type 'a t = float array array\n",
       "    type type_ = TanH | ReLU | Sigmoid\n",
       "    val sech : float -> float\n",
       "    val tanh_derivative : float -> float\n",
       "    val relu : 'a t -> 'a t\n",
       "    val relu_derive : 'a t -> 'a t\n",
       "    val softmax : 'a t -> 'a t\n",
       "    val tanh : 'a t -> 'a t\n",
       "    val tanh_derive : 'a t -> 'a t\n",
       "    val sigmoid : 'a t -> 'a t\n",
       "    val sigmoid_derive : 'a t -> 'a t\n",
       "    val activate : 'a t -> type_ -> 'a t\n",
       "    val activate_derive : 'a t -> type_ -> 'a t\n",
       "  end\n"
      ]
     },
     "execution_count": 3,
     "metadata": {},
     "output_type": "execute_result"
    }
   ],
   "source": [
    "module Activation = struct\n",
    "  type 'a t = float array array\n",
    "  type type_ = TanH | ReLU | Sigmoid\n",
    "  \n",
    "  let sech x = 1.0 /. cosh x\n",
    "  let tanh_derivative x = sech x ** 2.0\n",
    "  \n",
    "  let relu (z : 'a t) : 'a t =\n",
    "    Array.map (fun arr -> Array.map (fun x -> max x 0.0) arr) z\n",
    "\n",
    "  let relu_derive (z : 'a t) : 'a t =\n",
    "    Array.map (fun arr -> Array.map (fun x -> if x > 0.0 then 1.0 else 0.0) arr) z\n",
    "\n",
    "  let softmax (z : 'a t) : 'a t =\n",
    "    let softmax_row row =\n",
    "      let exp_row = Array.map exp row in\n",
    "      let sum_exp_row = Array.fold_left (+.) 0.0 exp_row in\n",
    "      Array.map (fun x -> x /. sum_exp_row) exp_row\n",
    "    in\n",
    "    let smax = Array.map softmax_row (Util.transpose z) in\n",
    "    Util.transpose smax\n",
    "\n",
    "  let tanh (z : 'a t) : 'a t =\n",
    "    Array.map (fun arr -> Array.map (fun x -> tanh x) arr) z\n",
    "    \n",
    "  let tanh_derive (z : 'a t) : 'a t =\n",
    "    Array.map (fun arr -> Array.map (fun x -> tanh_derivative x) arr) z\n",
    "\n",
    "  let sigmoid (z : 'a t) : 'a t =\n",
    "    let sigmoid_scalar y = 1.0 /. (1.0 +. exp (-. y)) in\n",
    "    let sigmoid_row row = Array.map sigmoid_scalar row in\n",
    "    Array.map sigmoid_row z\n",
    "\n",
    "  let sigmoid_derive (z : 'a t) : 'a t =\n",
    "    let sigmoid_scalar x = 1.0 /. (1.0 +. exp (-. x)) in\n",
    "    Array.map (fun row -> Array.map (fun x -> let s = sigmoid_scalar x in s *. (1.0 -. s)) row) z\n",
    "    \n",
    "  let activate (z : 'a t) (act : type_) : 'a t = \n",
    "    match act with\n",
    "    | TanH -> tanh z\n",
    "    | ReLU -> relu z\n",
    "    | Sigmoid -> sigmoid z\n",
    "    \n",
    "  let activate_derive (z : 'a t) (act : type_) : 'a t = \n",
    "    match act with\n",
    "    | TanH -> tanh_derive z\n",
    "    | ReLU -> relu_derive z\n",
    "    | Sigmoid -> sigmoid_derive z\n",
    "    \n",
    "end"
   ]
  },
  {
   "cell_type": "code",
   "execution_count": 4,
   "id": "f14506d9-ecc6-4dcf-b189-304473c7a402",
   "metadata": {},
   "outputs": [
    {
     "data": {
      "text/plain": [
       "val load_csv : string -> (string -> 'a) -> 'a array array = <fun>\n"
      ]
     },
     "execution_count": 4,
     "metadata": {},
     "output_type": "execute_result"
    }
   ],
   "source": [
    "#require \"Csv\"\n",
    "\n",
    "let load_csv (file_name: string) (f: string -> 'a) = \n",
    "  Csv.load file_name \n",
    "  |> List.map Array.of_list\n",
    "  |> Array.of_list\n",
    "  |> Array.map (Array.map f)"
   ]
  },
  {
   "cell_type": "code",
   "execution_count": 5,
   "id": "1a7db74b-574d-47bd-9ea8-f3153e9ed54e",
   "metadata": {},
   "outputs": [
    {
     "data": {
      "text/plain": [
       "val train_x : float array array =\n",
       "  [|[|0.; 0.; 0.; 0.; 0.; 0.; 0.; 0.; 0.; 0.; 0.; 0.; 0.; 0.; 0.; 0.; 0.; 0.;\n",
       "      0.; 0.; 0.; 0.; 0.; 0.; 0.; 0.; 0.; 0.; 0.; 0.; 0.; 0.; 0.; 0.; 0.; 0.;\n",
       "      0.; 0.; 0.; 0.; 0.; 0.; 0.; 0.; 0.; 0.; 0.; 0.; 0.; 0.; 0.; 0.; 0.; 0.;\n",
       "      0.; 0.; 0.; 0.; 0.; 0.; 0.; 0.; 0.; 0.; 0.; 0.; 0.; 0.; 0.; 0.; 0.; 0.;\n",
       "      0.; 0.; 0.; 0.; 0.; 0.; 0.; 0.; 0.; 0.; 0.; 0.; 0.; 0.; 0.; 0.; 0.; 0.;\n",
       "      0.; 0.; 0.; 0.; 0.; 0.; 0.; 0.; 0.; 0.; 0.; 0.; 0.; 0.; 0.; 0.; 0.; 0.;\n",
       "      0.; 0.; 0.; 0.; 0.; 0.; 0.; 0.; 0.; 0.; 0.; 0.; 0.; 0.; 0.; 0.; 0.; 0.;\n",
       "      0.; 0.; 0.; 0.; 0.; 0.; 0.; 0.; 0.; 0.; 0.; 0.; 0.; 0.; 0.; 0.; 0.; 0.;\n",
       "      0.; 0.; 0.; 0.; 0.; 0.; 0.; 0.; 0.; 0.; 0.; 0.; 0.; 0.; 0.; 0.; 0.; 0.;\n",
       "      0.; 0.; 0.; 0.; 0.; 0.; 0.; 0.; 0.; 0.; 0.; 0.; 0.; 0.; 0.; 0.; 0.; 0.;\n",
       "      0.; 0.; 0.; 0.; 0.; 0.; 0.; 0.; 0.; 0.; 0.; 0.; 0.; 0.; 0.; 0.; 0.; 0.;\n",
       "      0.; 0.; 0.; 0.; 0.; 0.; 0.; 0.; 0.; 0.; 0.; 0.; 0.; 0.; 0.; 0.; 0.; 0.;\n",
       "      0.; 0.; 0.; 0.; 0.; 0.; 0.; 0.; 0.; 0.; 0.; 0.; 0.; 0.; 0.; 0.; 0.; 0.;\n",
       "      0.; 0.; 0.; 0.; 0.; 0.; 0.; 0.; 0.; 0.; 0.; 0.; 0.; 0.; 0.; 0.; 0.; 0.;\n",
       "      0.; 0.; 0.; 0.; 0.; 0.; 0.; 0.; 0.; 0.; 0.; 0.; 0.; 0.; 0.; 0.; 0.; 0.;\n",
       "      0.; 0.; 0.; 0.; 0.; 0.; 0.; 0.; 0.; 0.; 0.; 0.; 0.; 0.; 0.; 0.; 0.; 0.;\n",
       "      0.; 0.; 0.; 0.; 0.; 0.; 0.; 0.; 0.; 0.; ...|];\n",
       "    ...|]\n"
      ]
     },
     "execution_count": 5,
     "metadata": {},
     "output_type": "execute_result"
    },
    {
     "data": {
      "text/plain": [
       "val train_y : int array =\n",
       "  [|1; 0; 1; 4; 0; 0; 7; 3; 5; 3; 8; 9; 1; 3; 3; 1; 2; 0; 7; 5; 8; 6; 2; 0;\n",
       "    2; 3; 6; 9; 9; 7; 8; 9; 4; 9; 2; 1; 3; 1; 1; 4; 9; 1; 4; 4; 2; 6; 3; 7;\n",
       "    7; 4; 7; 5; 1; 9; 0; 2; 2; 3; 9; 1; 1; 1; 5; 0; 6; 3; 4; 8; 1; 0; 3; 9;\n",
       "    6; 2; 6; 4; 7; 1; 4; 1; 5; 4; 8; 9; 2; 9; 9; 8; 9; 6; 3; 6; 4; 6; 2; 9;\n",
       "    1; 2; 0; 5; 9; 2; 7; 7; 2; 8; 8; 5; 0; 6; 0; 0; 2; 9; 0; 4; 7; 7; 1; 5;\n",
       "    7; 9; 4; 6; 1; 5; 7; 6; 5; 0; 4; 8; 7; 6; 1; 8; 7; 3; 7; 3; 1; 0; 3; 4;\n",
       "    5; 4; 0; 5; 4; 0; 3; 5; 1; 0; 8; 3; 7; 0; 9; 6; 6; 9; 5; 4; 6; 9; 3; 5;\n",
       "    4; 2; 4; 8; 7; 7; 5; 8; 8; 8; 2; 6; 9; 3; 1; 0; 4; 1; 5; 9; 0; 6; 2; 1;\n",
       "    3; 0; 6; 0; 0; 8; 3; 2; 0; 0; 6; 0; 0; 4; 7; 2; 7; 1; 9; 9; 3; 9; 8; 4;\n",
       "    6; 6; 5; 3; 8; 1; 8; 7; 1; 3; 7; 6; 3; 6; 3; 6; 3; 2; 3; 2; 2; 7; 9; 2;\n",
       "    3; 2; 7; 5; 5; 8; 8; 2; 0; 1; 4; 0; 6; 3; 7; 1; 1; 1; 4; 7; 0; 2; 9; 2;\n",
       "    0; 5; 6; 0; 8; 9; 6; 2; 0; 0; 7; 2; 0; 4; 2; 0; 9; 1; 6; 9; 3; 0; 0; 2;\n",
       "    0; 6; 8; 4; 0; 7; 2; 1; 9; 5; 2; ...|]\n"
      ]
     },
     "execution_count": 5,
     "metadata": {},
     "output_type": "execute_result"
    }
   ],
   "source": [
    "let train_x : float array array = \n",
    "  let temp = load_csv \"../data/train_small.csv\" float_of_string in\n",
    "  Util.transpose temp \n",
    "  |> Array.map (Array.map (fun x -> x /. 255.0))\n",
    "  \n",
    "let train_y : int array = \n",
    "  let temp = load_csv \"../data/train_small_labels.csv\" int_of_string in\n",
    "  Array.map (fun row -> row.(0)) temp"
   ]
  },
  {
   "cell_type": "code",
   "execution_count": 6,
   "id": "b2d01365-fdc4-4e7b-8479-d082c7f112e8",
   "metadata": {},
   "outputs": [
    {
     "data": {
      "text/plain": [
       "module Prop :\n",
       "  sig\n",
       "    val forward_prop :\n",
       "      float array array ->\n",
       "      float array array ->\n",
       "      float array array ->\n",
       "      float array array ->\n",
       "      float array array ->\n",
       "      Activation.type_ ->\n",
       "      float array array * float array array * float array array\n",
       "    val backward_prop :\n",
       "      float array array ->\n",
       "      float array array ->\n",
       "      float array array ->\n",
       "      float array array ->\n",
       "      float array array ->\n",
       "      float array array ->\n",
       "      Activation.type_ ->\n",
       "      float array array * float * float array array * float\n",
       "    val update_params_gd :\n",
       "      float array array ->\n",
       "      float array array ->\n",
       "      float array array ->\n",
       "      float array array ->\n",
       "      float array array ->\n",
       "      float ->\n",
       "      float array array ->\n",
       "      float ->\n",
       "      float ->\n",
       "      float array array * float array array * float array array *\n",
       "      float array array\n",
       "    val update_params_gdm :\n",
       "      float array array ->\n",
       "      float array array ->\n",
       "      float array array ->\n",
       "      float array array ->\n",
       "      float array array ->\n",
       "      float ->\n",
       "      float array array ->\n",
       "      float ->\n",
       "      float array array ->\n",
       "      float ->\n",
       "      float array array ->\n",
       "      float ->\n",
       "      float ->\n",
       "      float ->\n",
       "      float ->\n",
       "      float array array * float array array * float array array *\n",
       "      float array array * float array array * float * float array array *\n",
       "      float\n",
       "  end\n"
      ]
     },
     "execution_count": 6,
     "metadata": {},
     "output_type": "execute_result"
    }
   ],
   "source": [
    "module Prop  = struct\n",
    "  let forward_prop (w1: float array array) (b1: float array array) (w2: float array array) (b2: float array array) (train_x: float array array) (activate: Activation.type_) = \n",
    "    let z1_dot = Util.dot_product w1 train_x in\n",
    "(*     let _ = asrt(10=100, \"\"^(string_of_int (fst (Util.shape b1)))^\" \"^(string_of_int (snd (Util.shape b1)))) in *)\n",
    "    let z1 = Util.add_mat b1 z1_dot in\n",
    "    let a1 = Activation.activate z1 activate in\n",
    "    let z2 = Util.dot_product w2 a1\n",
    "    |> Util.add_mat b2 in\n",
    "    let a2 = Activation.sigmoid z2 in\n",
    "    (z1, a1, a2)\n",
    "    \n",
    "  let backward_prop z1 a1 a2 w2 train_x train_y activate:\n",
    "    (float array array * float * float array array * float) =\n",
    "    let m_inv = (1. /. (float_of_int (Array.length train_y))) in\n",
    "    let dz2 = Util.sub_mat a2 train_y in\n",
    "    let dw2 = Util.dot_product dz2 (Util.transpose a1) \n",
    "    |> Util.mult_scalar m_inv in\n",
    "    let db2 = m_inv *. Util.sum_2d_matrix dz2 in\n",
    "    let dz1 = Util.dot_product (Util.transpose w2) dz2 \n",
    "    |> Util.mult_mat (Activation.activate_derive z1 activate) in\n",
    "    let dw1 = Util.dot_product dz1 (Util.transpose train_x) \n",
    "    |> Util.mult_scalar m_inv in\n",
    "    let db1 = m_inv *. Util.sum_2d_matrix dz1 in\n",
    "    (dw1, db1, dw2, db2)\n",
    "    \n",
    "  let update_params_gd w1 b1 w2 b2 dw1 db1 dw2 db2 lr = \n",
    "    let w1 = Util.mult_scalar lr dw1 \n",
    "    |> Util.sub_mat w1 in\n",
    "    let b1 = lr *. db1 \n",
    "    |> Util.sub_scalar b1 in\n",
    "    let w2 = Util.mult_scalar lr dw2 \n",
    "    |> Util.sub_mat w2 in\n",
    "    let b2 = lr *. db2 \n",
    "    |> Util.sub_scalar b2 in\n",
    "    (w1, b1, w2, b2)\n",
    "    \n",
    "  let update_params_gdm w1 b1 w2 b2 dw1 db1 dw2 db2 v_dw1 v_db1 v_dw2 v_db2 lr beta1 beta2 = \n",
    "    let v_dw1 = Util.add_mat (Util.mult_scalar beta1 v_dw1) (Util.mult_scalar beta2 dw1) in\n",
    "    let v_db1 = (beta2 *. db1) +. (beta1 *. v_db1) in\n",
    "    let v_dw2 = Util.add_mat (Util.mult_scalar beta1 v_dw2) (Util.mult_scalar beta2 dw2) in\n",
    "    let v_db2 = (beta2 *. db2) +. (beta1 *. v_db2) in\n",
    "    let w1 = Util.sub_mat w1 (Util.mult_scalar lr v_dw1) in\n",
    "    let b1 = Util.sub_scalar b1 (lr *. v_db1) in\n",
    "    let w2 = Util.sub_mat w2 (Util.mult_scalar lr v_dw2) in\n",
    "    let b2 = Util.sub_scalar b2 (lr *. v_db2) in\n",
    "    (w1, b1, w2, b2, v_dw1, v_db1, v_dw2, v_db2)\n",
    "end"
   ]
  },
  {
   "cell_type": "code",
   "execution_count": 7,
   "id": "4983134a-29b3-4934-9c42-86d55ed2a9ca",
   "metadata": {},
   "outputs": [
    {
     "data": {
      "text/plain": [
       "module type MONAD =\n",
       "  sig\n",
       "    type 'a t\n",
       "    val return : 'a -> 'a t\n",
       "    val ( >>= ) : 'a t -> ('a -> 'b t) -> 'b t\n",
       "    val run : 'a t -> 'a\n",
       "  end\n"
      ]
     },
     "execution_count": 7,
     "metadata": {},
     "output_type": "execute_result"
    },
    {
     "data": {
      "text/plain": [
       "module Monad : MONAD\n"
      ]
     },
     "execution_count": 7,
     "metadata": {},
     "output_type": "execute_result"
    }
   ],
   "source": [
    "module type MONAD = sig\n",
    "  type 'a t\n",
    "  val return : 'a -> 'a t\n",
    "  val (>>=)  : 'a t -> ('a -> 'b t) -> 'b t\n",
    "  val run : 'a t -> 'a\n",
    "end\n",
    "\n",
    "module Monad : MONAD = struct\n",
    "  type 'a t = 'a\n",
    "  let return x = x\n",
    "  let (>>=) x f = f x\n",
    "  let run x = x\n",
    "end"
   ]
  },
  {
   "cell_type": "code",
   "execution_count": 8,
   "id": "810eb914-ba37-4b8c-9e8b-7ddeb3db47be",
   "metadata": {},
   "outputs": [
    {
     "data": {
      "text/plain": [
       "module Gd :\n",
       "  sig\n",
       "    type algorithm_type = GD | SGD | MBGD\n",
       "    val data :\n",
       "      float array array ->\n",
       "      float array array ->\n",
       "      algorithm_type -> float array array * float array array\n",
       "  end\n"
      ]
     },
     "execution_count": 8,
     "metadata": {},
     "output_type": "execute_result"
    }
   ],
   "source": [
    "module Gd = struct\n",
    "  type algorithm_type = GD | SGD | MBGD\n",
    "  let data x y type_ = \n",
    "    match type_ with\n",
    "    | GD -> (x, y)\n",
    "    | SGD -> \n",
    "      let size = snd (Util.shape x) in\n",
    "      let _ = asrt (snd (Util.shape x) = snd (Util.shape y), \"Shape error..\") in\n",
    "      let ri = Util.random_indices 1 0 (size-1) in\n",
    "      let x', y' = Util.select_indices (Util.transpose x) ri, Util.select_indices (Util.transpose y) ri in\n",
    "      (Util.transpose x', Util.transpose y')\n",
    "    | MBGD ->\n",
    "      let size = snd (Util.shape x) in\n",
    "      let _ = asrt (snd (Util.shape x) = snd (Util.shape y), \"Shape error..\") in\n",
    "      let ri = Util.random_indices 4 0 (size-1) in\n",
    "      let x', y' = Util.select_indices (Util.transpose x) ri, Util.select_indices (Util.transpose y) ri in\n",
    "      (Util.transpose x', Util.transpose y')\n",
    "end"
   ]
  },
  {
   "cell_type": "code",
   "execution_count": 9,
   "id": "3dadf313-3470-46ea-b091-9398ee614f67",
   "metadata": {},
   "outputs": [
    {
     "data": {
      "text/plain": [
       "type optim = VGD | GDM\n"
      ]
     },
     "execution_count": 9,
     "metadata": {},
     "output_type": "execute_result"
    }
   ],
   "source": [
    "type optim = VGD | GDM"
   ]
  },
  {
   "cell_type": "code",
   "execution_count": 10,
   "id": "43e18cc4-338a-4620-a9f6-7964af598ce2",
   "metadata": {},
   "outputs": [
    {
     "data": {
      "text/plain": [
       "val gradient_descent :\n",
       "  float array array ->\n",
       "  float array array ->\n",
       "  float ->\n",
       "  int ->\n",
       "  Gd.algorithm_type ->\n",
       "  optim ->\n",
       "  float ->\n",
       "  float ->\n",
       "  Activation.type_ ->\n",
       "  (float array array * float array array * float array array *\n",
       "   float array array)\n",
       "  Monad.t = <fun>\n"
      ]
     },
     "execution_count": 10,
     "metadata": {},
     "output_type": "execute_result"
    }
   ],
   "source": [
    "let gradient_descent train_x train_y lr iterations type_ optim_ beta1 beta2 activate =\n",
    "  let open Monad in\n",
    "  let w1, b1, w2, b2, v_w1, v_b1, v_w2, v_b2 = Util.init_params in\n",
    "  let rec batch_loop i w1 b1 w2 b2 v_w1 (v_b1: float) v_w2 (v_b2: float) iterations train_x train_y (x, y) lr =\n",
    "    if i = iterations then return (w1, b1, w2, b2)\n",
    "    else Prop.forward_prop w1 b1 w2 b2 x activate\n",
    "         |> return >>= fun (z1, a1, a2) ->\n",
    "         Prop.backward_prop z1 a1 a2 w2 x y activate\n",
    "         |> return >>= fun (dw1, db1, dw2, db2) ->\n",
    "         if optim_ = GDM then \n",
    "           Prop.update_params_gdm w1 b1 w2 b2 dw1 db1 dw2 db2 v_w1 v_b1 v_w2 v_b2 lr beta1 beta2\n",
    "           |> return >>= fun (w1', b1', w2', b2', v_dw1', v_db1', v_dw2', v_db2') ->\n",
    "           if i mod 10 = 0 then Printf.printf \"Iteration: %d\\n\" i;\n",
    "           batch_loop (i + 1) w1' b1' w2' b2' v_dw1' v_db1' v_dw2' v_db2' iterations train_x train_y (Gd.data train_x train_y type_) lr\n",
    "         else \n",
    "           Prop.update_params_gd w1 b1 w2 b2 dw1 db1 dw2 db2 lr \n",
    "           |> return >>= fun (w1', b1', w2', b2') ->\n",
    "           batch_loop (i + 1) w1' b1' w2' b2' v_w1 v_b1 v_w2 v_b2 iterations train_x train_y (Gd.data train_x train_y type_) lr\n",
    "  in\n",
    "  batch_loop 0 w1 b1 w2 b2 v_w1 v_b1 v_w2 v_b2 iterations train_x train_y (Gd.data train_x train_y type_) lr"
   ]
  },
  {
   "cell_type": "code",
   "execution_count": 11,
   "id": "1933240f-63a5-4966-a09a-3e3f7af59a83",
   "metadata": {},
   "outputs": [
    {
     "data": {
      "text/plain": [
       "- : int * int = (784, 4000)\n"
      ]
     },
     "execution_count": 11,
     "metadata": {},
     "output_type": "execute_result"
    },
    {
     "data": {
      "text/plain": [
       "- : int * int = (10, 4000)\n"
      ]
     },
     "execution_count": 11,
     "metadata": {},
     "output_type": "execute_result"
    }
   ],
   "source": [
    "(Util.shape train_x);; \n",
    "(Util.shape (Util.one_hot train_y));;"
   ]
  },
  {
   "cell_type": "code",
   "execution_count": 12,
   "id": "c09afd2e-7145-4f70-aefd-10b5185cce72",
   "metadata": {},
   "outputs": [
    {
     "data": {
      "text/plain": [
       "val result :\n",
       "  (float array array * float array array * float array array *\n",
       "   float array array)\n",
       "  Monad.t = <abstr>\n"
      ]
     },
     "execution_count": 12,
     "metadata": {},
     "output_type": "execute_result"
    },
    {
     "data": {
      "text/plain": [
       "val w1 : float array array =\n",
       "  [|[|0.426038888360971146; -0.158361411401767904; 0.0978229458531059137;\n",
       "      0.366881591014789565; 0.286668034537743921; 0.125315015859070122;\n",
       "      -0.409011015216012297; -0.188990030213231575; 0.059742196386998736;\n",
       "      -0.34615215119734255; -0.490233784604748313; 0.256637587325766692;\n",
       "      -0.251656740474212159; 0.152787092477089326; 0.48717731495272254;\n",
       "      -0.332554522532503172; 0.0574582248835058262; 0.258516786217372951;\n",
       "      0.18532904647625259; -0.0324781508558906196; -0.171649560924790556;\n",
       "      0.225258114528568254; 0.260843272481697697; 0.444543207513039773;\n",
       "      -0.0466829106219362466; 0.0396486806025953; 0.36819664704757471;\n",
       "      0.0449662633954558411; 0.130257917730493555; -0.42187402863574619;\n",
       "      -0.375256835869513194; -0.022730071996965362; -0.229233104415120292;\n",
       "      0.38945947157575922; -0.199121535032691421; -0.217841553708043145;\n",
       "      0.0565473408327369365; -0.395243482567093907; 0.10405582793297212;\n",
       "      0.360498012127178691; 0.489457136806495774; -0.339421352855940828;\n",
       "      -0.426662975664213351; -0.134614463655489; 0.0631346809649549201;\n",
       "      0.488855800219377135; -0.405824100775576957; 0.207942539774618851;\n",
       "      -0.351462418586837744; 0.448945076777336749; -0.239606332907712327;\n",
       "      -0.212734158871041967; 0.00853007567102504; -0.337843484576465458;\n",
       "      -0.122118054449384505; 0.376042480026804182; -0.313138545844993899;\n",
       "      -0.0596257194518746703; 0.246738814001851936; 0.0318424309062490529;\n",
       "      -0.27952546455631716; 0.0864373979228165862; 0.223323576520247702;\n",
       "      -0.0127044473842728503; -0.00571599051874573626; 0.332757581589595619;\n",
       "      0.428166233067322655; 0.212146949353123726; 0.339599690218541417;\n",
       "      -0.167793870979911386; -0.375982817626356214; 0.315205816747316;\n",
       "      -0.41611897973079981; -0.484409085219918767; 0.293984785337924437;\n",
       "      -0.0629808453479602653; -0.00383133968446100655;\n",
       "      -0.0418163877910419091; -0.282760529098994962; 0.214969066503596484;\n",
       "      0.197996660137878422; -0.163429852580197432; 0.0532280498237949207;\n",
       "      -0.382350618403808; 0.060894172660677981; 0.149029289156137779;\n",
       "      -0.417487863577329699; 0.0817998697415434073; -0.192981163695874536;\n",
       "      -0.26385478243192434; -0.269554199845418729; -0.424494619834513809;\n",
       "      0.0907865284608700557; 0.35109432964606524; 0.427987382897235591;\n",
       "      0.00865656744248691559; -0.169959476764795364; 0.275287458007672181;\n",
       "      0.351148143785739109; 0.29988596726636807; -0.274371154412330898;\n",
       "      0.232215675644615371; 0.100969653490365893; 0.178781636725181187;\n",
       "      -0.361283644978042273; -0.00315573381021522562; 0.195520798122522071;\n",
       "      0.490720286419556395; -0.215611252721761515; -0.0495035770534623734;\n",
       "      -0.485958711732674686; 0.0584299011323263784; -0.0679344359060337077;\n",
       "      0.0357188362682961946; -0.235698665575383492; 0.431517784813786331;\n",
       "      -0.248882563550097941; -0.119986225774755248; 0.435324672572266314;\n",
       "      0.29118181514002045; 0.491394728603611552; 0.107574338789054383;\n",
       "      -0.258237160450849323; 0.360107819845329635; 0.399224939599907902;\n",
       "      -0.284645473180054565; 0.12578380401999284; 0.100292822222942696;\n",
       "      -0.356654735004676926; 0.348387706526703089; -0.0873641354711872237;\n",
       "      -0.174482385012261793; 0.144694539841446285; -0.241634308142287479;\n",
       "      0.027214961521219487; -0.494360852327176858; 0.0265972464611092425;\n",
       "      -0.408300829623278405; -0.392814469580859582; -0.0216106871327469419;\n",
       "      0.113175606616649049; 0.252972584853219384; 0.185418949283025492;\n",
       "      -0.366866880709379; -0.316775441928842549; 0.156193390365590073;\n",
       "      -0.156851538153056941; -0.381016551920856206; -0.256552155534077342;\n",
       "      -0.214481307704565721; -0.180512142345390841; 0.435570476011777952;\n",
       "      -0.157249030455054034; -0.310250757152459; 0.340490765006128238;\n",
       "      0.542090981576955788; 0.542775996862123744; 0.241726839604158361;\n",
       "      -0.399270880801221695; 0.227219828638860699; -0.457129106584781619;\n",
       "      0.425962008447605733; 0.358500704708770934; 0.374857963412785322;\n",
       "      0.385787105909217; 0.470956661008870847; -0.293234291038157235;\n",
       "      0.156048243859832486; 0.42022529790391816; -0.0424375442557174964;\n",
       "      -0.0624670131163351239; 0.491542715612318937; 0.194018213648511684;\n",
       "      -0.138146453085881443; 0.0427103042184980228; -0.0415937988837646946;\n",
       "      0.286796566493607; 0.144075358357030725; 0.482754747634559611;\n",
       "      -0.317946247375574587; 0.157602351922378509; -0.377656739936001296;\n",
       "      -0.0645086221582676644; 0.136277641241880132; -0.0475342273364086354;\n",
       "      0.0267350323376834564; 0.0261560513375488565; 0.448017212088934191;\n",
       "      -0.283906185434361469; -0.26285506756752508; 0.389696874053166942;\n",
       "      0.472328781392306885; -0.00407314884295266553; -0.00109906857739417796;\n",
       "      -0.408986641547871621; -0.500064322052921728; 0.369384380515687116;\n",
       "      -0.184494641162808393; 0.108513426269889662; 0.450042602623495547;\n",
       "      -0.0860329564864398266; 0.362179088723869336; -0.00536656763547120521;\n",
       "      0.482956739294829906; -0.0347927962228737689; 0.0372433256123145817;\n",
       "      -0.418988095333860389; 0.302724077352663767; 0.147220270489520355;\n",
       "      -0.420441376112131671; -0.138058353850831317; -0.132856434744846513;\n",
       "      0.124909276881870715; -0.225585580259965862; -0.27531319518120817;\n",
       "      0.271746467496187138; -0.421929768280050244; -0.11067850201115341;\n",
       "      0.155401196315490098; 0.0926416631863060808; -0.088511743766845119;\n",
       "      0.472354215129001942; 0.376340031190613267; 0.0679071506315707119;\n",
       "      -0.496443511799976311; -0.297381370910329956; -0.434904822474965369;\n",
       "      -0.22657214444998261; 0.0693688693235747361; -0.40611355856240805;\n",
       "      -0.267274261831781212; 0.0878414062827721359; 0.431412741292095669;\n",
       "      -0.299017496993121634; -0.460055806443729565; -0.497360094435640387;\n",
       "      0.00668963702057177693; 0.0449290565698621663; -0.199651552512090269;\n",
       "      0.218692594873036356; -0.354716402422114552; -0.467977034739304742;\n",
       "      -0.353364452387099903; 0.102107150146295775; -0.317672606091758;\n",
       "      -0.435925952991234489; 0.184986502540886333; -0.0166755057441148082;\n",
       "      0.436636446909677678; 0.385701158729347404; -0.3279923342628836;\n",
       "      0.0381976297129990039; -0.0903022321394401639; -0.337539348951350626;\n",
       "      -0.31224248448502534; 0.08587825083285959; 0.0568772257579872598;\n",
       "      0.473149103495329681; 0.285715814785185762; -0.316594805990551953;\n",
       "      -0.115338422352494877; 0.0877010246391496384; 0.0305403266974564;\n",
       "      -0.163661181819691; -0.339132918081101353; -0.385389289146435832;\n",
       "      -0.00860444664868413; -0.343276989817677181; -0.250977721472400883;\n",
       "      0.162781767919927933; -0.480643034886353959; -0.171681117936131583;\n",
       "      0.0889342152136125413; -0.227577364334007548; -0.106012803622671861;\n",
       "      -0.00653022617447845434; -0.0182793631228078748; 0.201146281817962819;\n",
       "      -0.370241559417494148; -0.456680850177444253; -0.244966455142828332;\n",
       "      0.380886195136337868; -0.247659458921294262; -0.243083075506982;\n",
       "      -0.183687417606503117; 0.226771971823341245; -0.0989222962126590916;\n",
       "      0.37647967364765228; -0.192951051729928574; -0.306152821437241096;\n",
       "      -0.352872789928335429; 0.272639741973206506; 0.443140325994260453;\n",
       "      -0.249842439752346351; -0.262400713739190827; -0.265522493663633952;\n",
       "      0.0400910695903582207; -0.475705822119188215; ...|];\n",
       "    ...|]\n",
       "val b1 : float array array =\n",
       "  [|[|-0.380318962625800283|]; [|-0.58724412556838923|];\n",
       "    [|-0.268245506509221132|]; [|0.086217360090618|];\n",
       "    [|-0.0537675992929253291|]; [|0.150963215986925275|];\n",
       "    [|-0.0178941534398303348|]; [|-0.0325467113562460317|];\n",
       "    [|0.197635905010945218|]; [|-0.290691364417954623|];\n",
       "    [|0.0098650938791019372|]; [|0.196986994283586819|];\n",
       "    [|0.110195778240770426|]; [|0.390120951022396467|];\n",
       "    [|-0.317059598925188|]; [|-0.0762704025130579166|];\n",
       "    [|-0.0754317749308181795|]; [|0.211144227639377374|];\n",
       "    [|0.199008846327410033|]; [|0.305032541802635|]|]\n",
       "val w2 : float array array =\n",
       "  [|[|-0.106800886758407737; 0.343578882913688599; 0.0715141677012788;\n",
       "      0.508128813884563657; -0.806153924562477808; -0.213854177921330157;\n",
       "      -0.296148796787320034; -0.638073785981832842; 0.135714504953273335;\n",
       "      0.0518893188876431433; -0.665120680305940848; -0.50037706260415038;\n",
       "      0.643766714777645466; 0.118609785110566759; 0.0803441844698322555;\n",
       "      0.0504643874001202489; -0.500311041903689246; -0.157269977850162168;\n",
       "      -0.213471811779580495; 0.324886594927393135|];\n",
       "    [|0.186127332565307696; 0.061803787720781489; -0.164482805884999361;\n",
       "      -0.26460798032456806; -0.0119283482440529897; -0.189151853220389909;\n",
       "      0.138156014859898646; -0.0256005132625159899; -0.207311161228623725;\n",
       "      0.0545430240427274213; 0.612486138558834492; 0.849831640285415801;\n",
       "      0.451351974029297609; -0.359464465340617823; -0.439142480592742079;\n",
       "      -0.634824669385011; -0.729815670079702272; -0.417877966600197381;\n",
       "      0.214434366639105395; -0.566678825241587747|];\n",
       "    [|0.330842905741200621; -0.0347556799105839739; 0.122181011582565197;\n",
       "      -0.588497331088886466; 0.119027274284265058; -0.654696153540498149;\n",
       "      0.161974189010250791; 0.196551900377227529; 0.229758151214385836;\n",
       "      -0.737598322919231775; 0.477169248322187323; -0.779753549309632255;\n",
       "      -0.187846834113890609; -0.375079410850502948; 0.626596685005421428;\n",
       "      -0.481887336533053101; -0.0676686238433108489; 0.209686519120179549;\n",
       "      0.0390368225829600957; -0.556284013452311377|];\n",
       "    [|0.202775596745590314; 0.077659938943869522; -0.0936215431626669092;\n",
       "      -0.786840857080768; -0.466013411678916967; -0.143369033853238792;\n",
       "      -0.193762555270679454; -0.484168376535816403; -0.546753598172378119;\n",
       "      -0.0388291110049120147; -0.0717826534586854526; -0.0586833405793821608;\n",
       "      0.604081240143669818; -0.368284710664726178; 0.190623165554521135;\n",
       "      0.225057938550281805; -0.0873110287656666817; -0.591550947964008;\n",
       "      0.287854274139673738; 0.391630300421142552|];\n",
       "    [|-0.303800617708458454; 0.24780245527838754; -0.167196184143284937;\n",
       "      0.243813233716035416; -0.0140272776443531866; 0.072720347707401517;\n",
       "      -0.40093278672820809; -0.0712963573919114108; 0.167265550335668922;\n",
       "      -0.475506602020258184; -0.436354393947854802; -0.027577741241522534;\n",
       "      0.126525194004530744; -0.740138456112828469; -0.0188215091266258662;\n",
       "      -0.163252107733900836; -0.434332772218230578; 0.375530151263477663;\n",
       "      -0.177599671369132489; 0.184568775349610498|];\n",
       "    [|-0.324894051550199903; 0.374704857431466309; 0.263032787192107931;\n",
       "      -0.0836599940170265621; 0.0346465126364118789; -0.16151870883466668;\n",
       "      -0.454650462457565352; -0.465383055686860614; -0.206183492322532608;\n",
       "      0.491209409564538457; -0.330527824813659388; -0.30855080749651842;\n",
       "      0.0727083706988724682; -0.00153212393158130324; -0.205757793292858288;\n",
       "      -0.0680853538988875212; -0.214003965589578959; -0.369276079932757684;\n",
       "      -0.214129548554684107; 0.300794394592502345|];\n",
       "    [|0.261946055297634928; 0.230649086694632216; 0.218011482672496482;\n",
       "      -0.507153086252786101; -0.153331231767621395; -0.338977749791021521;\n",
       "      -0.313615189265524397; -0.246900437108541065; 0.286541178707811706;\n",
       "      -0.604410113245836933; 0.10620352604209024; -0.124481844153003923;\n",
       "      0.178791918707791; -0.0408109056912284579; 0.353891174721173596;\n",
       "      0.0899629954998140136; -0.173260413896861; 0.570714431645213183;\n",
       "      -0.163793080577200073; -0.167094487974642186|];\n",
       "    [|-0.800593446958551058; 0.229891102735031716; -0.26537215212470433;\n",
       "      0.237745794286740419; -0.376102655941304598; -0.372125441246901223;\n",
       "      0.430338067502457; 0.512271513075903; 0.307228808096980277;\n",
       "      -0.517159535462469289; -0.468615991633602846; 0.528277636763437086;\n",
       "      -0.696296523063990369; -0.480430265471127216; -0.258506321844781117;\n",
       "      0.480175203817118645; 0.164513403023503368; 0.365007251787806075;\n",
       "      -0.0224833893317911288; -0.297172700969679904|];\n",
       "    [|-0.0312680696238105404; -0.266254850086808215; -0.424827827231408162;\n",
       "      -0.0101113216017648389; 0.160811585578259725; 0.13757804397526685;\n",
       "      -0.0835782259103243635; 0.0504973411566833758; 0.309409678465267179;\n",
       "      0.627666186347940358; 0.396266730332932249; -0.722274444913166502;\n",
       "      -0.472210341579876181; -0.395620617164989807; 0.0136573474802982528;\n",
       "      -0.236767702739940467; -0.353557822188745152; -0.588630707978021;\n",
       "      -0.141261087974944299; 0.202038954301407753|];\n",
       "    [|-0.526926268515347851; 0.0796660992504982235; -0.215944566406218674;\n",
       "      -0.0324328950089975213; 0.197374894859010469; 0.279306700957788145;\n",
       "      -0.253949921648965182; 0.328443007029046052; 0.445319407548396051;\n",
       "      -0.568006297728052112; -0.32533077677667005; -0.339856293396316678;\n",
       "      -0.484375870886415039; 0.224027993928147401; -0.621333046453698579;\n",
       "      -0.320798659074561121; 0.068215382779953912; -0.122084395531716725;\n",
       "      0.190531315681556457; -0.194286958672587|]|]\n",
       "val b2 : float array array =\n",
       "  [|[|-1.18389997330918439|]; [|-1.0421894237903031|];\n",
       "    [|-1.19296372195836309|]; [|-1.31049391677935012|];\n",
       "    [|-1.18670317419798588|]; [|-1.33108138239534268|];\n",
       "    [|-1.96263672028982583|]; [|-1.11362216323735952|];\n",
       "    [|-1.28103742121662778|]; [|-1.46728130645046684|]|]\n"
      ]
     },
     "execution_count": 12,
     "metadata": {},
     "output_type": "execute_result"
    }
   ],
   "source": [
    "let result = gradient_descent train_x (Util.one_hot train_y) 0.09 500 MBGD VGD 0.9 0.1 Sigmoid;;\n",
    "let w1, b1, w2, b2 = Monad.run result;;"
   ]
  },
  {
   "cell_type": "code",
   "execution_count": 13,
   "id": "9bc433f1-1ff3-4425-9de8-f7ecb53ab607",
   "metadata": {},
   "outputs": [
    {
     "data": {
      "text/plain": [
       "val get_predictions : float array array -> int array = <fun>\n"
      ]
     },
     "execution_count": 13,
     "metadata": {},
     "output_type": "execute_result"
    }
   ],
   "source": [
    "let get_predictions (a2 : float array array) : int array =\n",
    "  let n_rows = Array.length a2 in\n",
    "  let result = Array.make n_rows (-1) in\n",
    "  for i = 0 to n_rows - 1 do\n",
    "    let row = a2.(i) in\n",
    "    let n_cols = Array.length row in\n",
    "    let max_val = ref row.(0) in\n",
    "    let max_index = ref 0 in\n",
    "    for j = 1 to n_cols - 1 do\n",
    "      let x = row.(j) in\n",
    "      if x > !max_val then begin\n",
    "        max_val := x;\n",
    "        max_index := j;\n",
    "      end\n",
    "    done;\n",
    "    result.(i) <- !max_index\n",
    "  done;\n",
    "  result"
   ]
  },
  {
   "cell_type": "code",
   "execution_count": 14,
   "id": "4ae6120e-c4f3-48a4-ab68-7e254a2b29b9",
   "metadata": {},
   "outputs": [
    {
     "data": {
      "text/plain": [
       "val get_accuracy : 'a array -> 'a array -> float = <fun>\n"
      ]
     },
     "execution_count": 14,
     "metadata": {},
     "output_type": "execute_result"
    }
   ],
   "source": [
    "let get_accuracy pred y : float =\n",
    "  let diff = Array.map2 (fun v1 v2 -> if v1 = v2 then 1 else 0) pred y in\n",
    "  let sum_and_len = Array.fold_left (fun (s,l) x -> s+x, l+1) (0,0) diff in\n",
    "  float_of_int (fst (sum_and_len)) /. float_of_int (snd (sum_and_len))"
   ]
  },
  {
   "cell_type": "code",
   "execution_count": 15,
   "id": "e56e6b4c-0caf-4441-a91a-4ed7bf838b6f",
   "metadata": {},
   "outputs": [
    {
     "data": {
      "text/plain": [
       "val test_x : float array array =\n",
       "  [|[|0.; 0.; 0.; 0.; 0.; 0.; 0.; 0.; 0.; 0.; 0.; 0.; 0.; 0.; 0.; 0.; 0.; 0.;\n",
       "      0.|];\n",
       "    [|0.; 0.; 0.; 0.; 0.; 0.; 0.; 0.; 0.; 0.; 0.; 0.; 0.; 0.; 0.; 0.; 0.; 0.;\n",
       "      0.|];\n",
       "    [|0.; 0.; 0.; 0.; 0.; 0.; 0.; 0.; 0.; 0.; 0.; 0.; 0.; 0.; 0.; 0.; 0.; 0.;\n",
       "      0.|];\n",
       "    [|0.; 0.; 0.; 0.; 0.; 0.; 0.; 0.; 0.; 0.; 0.; 0.; 0.; 0.; 0.; 0.; 0.; 0.;\n",
       "      0.|];\n",
       "    [|0.; 0.; 0.; 0.; 0.; 0.; 0.; 0.; 0.; 0.; 0.; 0.; 0.; 0.; 0.; 0.; 0.; 0.;\n",
       "      0.|];\n",
       "    [|0.; 0.; 0.; 0.; 0.; 0.; 0.; 0.; 0.; 0.; 0.; 0.; 0.; 0.; 0.; 0.; 0.; 0.;\n",
       "      0.|];\n",
       "    [|0.; 0.; 0.; 0.; 0.; 0.; 0.; 0.; 0.; 0.; 0.; 0.; 0.; 0.; 0.; 0.; 0.; 0.;\n",
       "      0.|];\n",
       "    [|0.; 0.; 0.; 0.; 0.; 0.; 0.; 0.; 0.; 0.; 0.; 0.; 0.; 0.; 0.; 0.; 0.; 0.;\n",
       "      0.|];\n",
       "    [|0.; 0.; 0.; 0.; 0.; 0.; 0.; 0.; 0.; 0.; 0.; 0.; 0.; 0.; 0.; 0.; 0.; 0.;\n",
       "      0.|];\n",
       "    [|0.; 0.; 0.; 0.; 0.; 0.; 0.; 0.; 0.; 0.; 0.; 0.; 0.; 0.; 0.; 0.; 0.; 0.;\n",
       "      0.|];\n",
       "    [|0.; 0.; 0.; 0.; 0.; 0.; 0.; 0.; 0.; 0.; 0.; 0.; 0.; 0.; 0.; 0.; 0.; 0.;\n",
       "      0.|];\n",
       "    [|0.; 0.; 0.; 0.; 0.; 0.; 0.; 0.; 0.; 0.; 0.; 0.; 0.; 0.; 0.; 0.; 0.; 0.;\n",
       "      0.|];\n",
       "    [|0.; 0.; 0.; 0.; 0.; 0.; 0.; 0.; 0.; 0.; 0.; 0.; 0.; 0.; 0.; 0.; 0.; 0.;\n",
       "      0.|];\n",
       "    [|0.; 0.; 0.; 0.; 0.; 0.; 0.; 0.; 0.; 0.; 0.; 0.; 0.; 0.; 0.; 0.; 0.; 0.;\n",
       "      0.|];\n",
       "    [|0.; 0.; 0.; 0.; 0.; 0.; 0.; 0.; 0.; 0.; 0.; 0.; 0.; 0.; 0.; 0.; 0.; 0.;\n",
       "      ...|];\n",
       "    ...|]\n"
      ]
     },
     "execution_count": 15,
     "metadata": {},
     "output_type": "execute_result"
    },
    {
     "data": {
      "text/plain": [
       "val test_y : int array =\n",
       "  [|1; 0; 1; 4; 0; 0; 7; 3; 5; 3; 8; 9; 1; 3; 3; 1; 2; 0; 7|]\n"
      ]
     },
     "execution_count": 15,
     "metadata": {},
     "output_type": "execute_result"
    }
   ],
   "source": [
    "let test_x : float array array = \n",
    "  let temp = load_csv \"../data/test_small.csv\" float_of_string in\n",
    "  Util.transpose temp \n",
    "  |> Array.map (Array.map (fun x -> x /. 255.0))\n",
    "  \n",
    "let test_y : int array = \n",
    "  let temp = load_csv \"../data/test_small_labels.csv\" int_of_string in\n",
    "  Array.map (fun row -> row.(0)) temp"
   ]
  },
  {
   "cell_type": "code",
   "execution_count": 16,
   "id": "4e4a816e-3439-4b89-a70d-875e069b5b42",
   "metadata": {},
   "outputs": [
    {
     "data": {
      "text/plain": [
       "- : int = 19\n"
      ]
     },
     "execution_count": 16,
     "metadata": {},
     "output_type": "execute_result"
    }
   ],
   "source": [
    "Array.length test_y"
   ]
  },
  {
   "cell_type": "code",
   "execution_count": 17,
   "id": "03be74c7-7e61-4d07-8955-7bcd93d3764d",
   "metadata": {},
   "outputs": [
    {
     "data": {
      "text/plain": [
       "- : int array * float =\n",
       "([|1; 0; 1; 2; 0; 8; 7; 8; 8; 1; 8; 7; 1; 8; 8; 1; 2; 0; 7|],\n",
       " 0.578947368421052655)\n"
      ]
     },
     "execution_count": 17,
     "metadata": {},
     "output_type": "execute_result"
    }
   ],
   "source": [
    "let _, _, a2 = Prop.forward_prop w1 b1 w2 b2 test_x Sigmoid in\n",
    "let preds = get_predictions (Util.transpose a2) in\n",
    "(preds, get_accuracy preds test_y)"
   ]
  },
  {
   "cell_type": "code",
   "execution_count": null,
   "id": "82bce3de-bcea-49e0-9497-a1409f74bcc1",
   "metadata": {},
   "outputs": [],
   "source": []
  }
 ],
 "metadata": {
  "kernelspec": {
   "display_name": "OCaml 4.12.1",
   "language": "OCaml",
   "name": "ocaml-jupyter"
  },
  "language_info": {
   "codemirror_mode": "text/x-ocaml",
   "file_extension": ".ml",
   "mimetype": "text/x-ocaml",
   "name": "OCaml",
   "nbconverter_exporter": null,
   "pygments_lexer": "OCaml",
   "version": "4.12.1"
  },
  "varInspector": {
   "cols": {
    "lenName": 16,
    "lenType": 16,
    "lenVar": 40
   },
   "kernels_config": {
    "python": {
     "delete_cmd_postfix": "",
     "delete_cmd_prefix": "del ",
     "library": "var_list.py",
     "varRefreshCmd": "print(var_dic_list())"
    },
    "r": {
     "delete_cmd_postfix": ") ",
     "delete_cmd_prefix": "rm(",
     "library": "var_list.r",
     "varRefreshCmd": "cat(var_dic_list()) "
    }
   },
   "types_to_exclude": [
    "module",
    "function",
    "builtin_function_or_method",
    "instance",
    "_Feature"
   ],
   "window_display": false
  },
  "widgets": {
   "application/vnd.jupyter.widget-state+json": {
    "state": {},
    "version_major": 2,
    "version_minor": 0
   }
  }
 },
 "nbformat": 4,
 "nbformat_minor": 5
}
