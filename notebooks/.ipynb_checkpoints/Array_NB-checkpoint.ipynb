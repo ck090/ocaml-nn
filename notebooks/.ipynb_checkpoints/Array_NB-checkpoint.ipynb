{
 "cells": [
  {
   "cell_type": "code",
   "execution_count": 1,
   "id": "6f160104-304f-4bf5-bc27-7626a27a666b",
   "metadata": {},
   "outputs": [
    {
     "name": "stdout",
     "output_type": "stream",
     "text": [
      "Findlib has been successfully loaded. Additional directives:\n",
      "  #require \"package\";;      to load a package\n",
      "  #list;;                   to list the available packages\n",
      "  #camlp4o;;                to load camlp4 (standard syntax)\n",
      "  #camlp4r;;                to load camlp4 (revised syntax)\n",
      "  #predicates \"p,q,...\";;   to set these predicates\n",
      "  Topfind.reset();;         to force that packages will be reloaded\n",
      "  #thread;;                 to enable threads\n",
      "\n"
     ]
    },
    {
     "data": {
      "text/plain": [
       "val asrt : bool * string -> unit = <fun>\n"
      ]
     },
     "execution_count": 1,
     "metadata": {},
     "output_type": "execute_result"
    }
   ],
   "source": [
    "(* Required definitions *)\n",
    "let asrt = function\n",
    " | (true,_) -> ()\n",
    " | (false, str) -> failwith (\"Assertion failure: \"^str)"
   ]
  },
  {
   "cell_type": "code",
   "execution_count": 2,
   "id": "57d0521e-037e-4d65-a4c8-defe7fc5e102",
   "metadata": {},
   "outputs": [
    {
     "data": {
      "text/plain": [
       "module Util :\n",
       "  sig\n",
       "    type 'a t = float array array\n",
       "    val shape : 'a t -> int * int\n",
       "    val float_1d : int -> float array\n",
       "    val float_2d : int -> int -> float array array\n",
       "    val float_2d_zeros : int -> int -> float array array\n",
       "    val transpose : 'a array array -> 'a array array\n",
       "    val dot_product :\n",
       "      float array array -> float array array -> float array array\n",
       "    val add_scalar : float -> float array array -> float array array\n",
       "    val sub_scalar : float array array -> float -> float array array\n",
       "    val mult_scalar : float -> float array array -> float array array\n",
       "    val add_mat : float array array -> float array array -> float array array\n",
       "    val sub_mat : float array array -> float array array -> float array array\n",
       "    val mult_mat :\n",
       "      float array array -> float array array -> float array array\n",
       "    val sum_2d_matrix : float array array -> float\n",
       "    val one_hot : int array -> float array array\n",
       "    val init_params :\n",
       "      float array array * float array array * float array array *\n",
       "      float array array * float array array * float * float array array *\n",
       "      float\n",
       "    val random_indices : int -> int -> int -> int array\n",
       "    val select_indices : 'a array -> int array -> 'a array\n",
       "  end\n"
      ]
     },
     "execution_count": 2,
     "metadata": {},
     "output_type": "execute_result"
    }
   ],
   "source": [
    "module Util = struct\n",
    "  type 'a t = float array array\n",
    "\n",
    "  let shape (a: 'a t) = \n",
    "    let rows = Array.length a in\n",
    "    let cols = Array.length a.(0) in\n",
    "    (rows, cols)\n",
    "\n",
    "  let float_1d size = Array.init size (fun _ -> (Random.float 1.0) -. 0.5)\n",
    "\n",
    "  let float_2d rows cols = Array.init rows (fun _ -> Array.init cols (fun _ -> (Random.float 1.0) -. 0.5))\n",
    "\n",
    "  let float_2d_zeros rows cols = Array.make_matrix rows cols 0.0\n",
    "\n",
    "  let transpose (a : 'a array array) : 'a array array =\n",
    "    let rows = Array.length a in\n",
    "    let cols = Array.length a.(0) in\n",
    "    let transposed = Array.make_matrix cols rows a.(0).(0) in\n",
    "      for i = 0 to rows - 1 do\n",
    "        for j = 0 to cols - 1 do\n",
    "          transposed.(j).(i) <- a.(i).(j)\n",
    "        done\n",
    "      done;\n",
    "    transposed\n",
    "\n",
    "  let dot_product (a1 : float array array) (a2 : float array array) : float array array =\n",
    "    let rows_a1, cols_a1 = shape a1 in\n",
    "    let rows_a2, cols_a2 = shape a2 in\n",
    "    let transposed = transpose a2 in\n",
    "    let result = Array.make_matrix rows_a1 cols_a2 0.0 in\n",
    "      for i = 0 to rows_a1 - 1 do\n",
    "        for j = 0 to cols_a2 - 1 do\n",
    "          let dot_product = Array.mapi (fun k x -> x *. transposed.(j).(k)) a1.(i) |> Array.fold_left (+.) 0.0 in\n",
    "          result.(i).(j) <- dot_product\n",
    "        done\n",
    "      done;\n",
    "    result\n",
    "\n",
    "  let add_scalar (s : float) (a : float array array) = Array.map (fun row -> Array.map (fun x -> x +. s) row) a\n",
    "  \n",
    "  let sub_scalar (a: float array array) (s: float) = Array.map (fun row -> Array.map (fun x -> x -. s) row) a\n",
    "\n",
    "  let mult_scalar (s : float) (a : float array array) = Array.map (fun row -> Array.map (fun x -> x *. s) row) a\n",
    "  \n",
    "  let add_mat (m1 : float array array) (m2 : float array array) : float array array =\n",
    "    let n_rows1, n_cols1 = shape m1 in\n",
    "    let n_rows2, n_cols2 = shape m2 in\n",
    "    if n_rows1 <> n_rows2 || n_cols1 <> n_cols2 then\n",
    "    let m1_resized = Array.init n_rows1 (fun i -> Array.make n_cols2 m1.(i).(0)) in\n",
    "    for i = 0 to n_rows1 - 1 do\n",
    "      for j = 0 to n_cols2 - 1 do\n",
    "        m1_resized.(i).(j) <- m1.(i).(0)\n",
    "      done\n",
    "    done;\n",
    "    Array.map2 (Array.map2 (+.)) m1_resized m2\n",
    "    else\n",
    "    Array.map2 (Array.map2 (+.)) m1 m2\n",
    "\n",
    "  let sub_mat (l1: float array array) (l2: float array array) = \n",
    "    Array.map2 (fun row1 row2 -> Array.map2 (fun x y -> x -. y) row1 row2) l1 l2\n",
    "\n",
    "  let mult_mat (l1: float array array) (l2: float array array) = \n",
    "    Array.map2 (fun row1 row2 -> Array.map2 (fun x y -> x *. y) row1 row2) l1 l2\n",
    " \n",
    "  let sum_2d_matrix (matrix : float array array) : float =\n",
    "    Array.fold_left (fun acc row -> acc +. Array.fold_left (+.) 0.0 row) 0.0 matrix\n",
    "\n",
    "  let one_hot (y: int array): float array array =\n",
    "    let n = Array.fold_left max 0 y + 1 in\n",
    "    let temp = Array.init (Array.length y) (fun i -> Array.init n (fun j -> if j = y.(i) then 1.0 else 0.0)) in\n",
    "    transpose temp\n",
    "    \n",
    "  let init_params =\n",
    "    let w1 = float_2d 20 784 in\n",
    "    let b1 = float_2d 20 1 in\n",
    "    let v_w1 = float_2d_zeros 20 784 in\n",
    "    let v_b1 = 0.0 in\n",
    "    let w2 = float_2d 10 20 in\n",
    "    let b2 = float_2d 10 1 in\n",
    "    let v_w2 = float_2d_zeros 10 20 in\n",
    "    let v_b2 = 0.0 in\n",
    "    (w1, b1, w2, b2, v_w1, v_b1, v_w2, v_b2)\n",
    "    \n",
    "  let random_indices n x y =\n",
    "  let rec aux acc n =\n",
    "    if n = 0 then acc\n",
    "    else\n",
    "      let r = Random.int (y - x + 1) + x in\n",
    "      if Array.mem r acc then aux acc n\n",
    "      else aux (Array.append [|r|] acc) (n-1)\n",
    "  in aux [||] n\n",
    "\n",
    "  let select_indices matrix indices =\n",
    "    Array.map (fun i -> matrix.(i)) indices\n",
    "end"
   ]
  },
  {
   "cell_type": "code",
   "execution_count": 3,
   "id": "15adbea2-971a-4bd6-b1df-f08db562d620",
   "metadata": {},
   "outputs": [
    {
     "data": {
      "text/plain": [
       "module Activation :\n",
       "  sig\n",
       "    type 'a t = float array array\n",
       "    val relu : 'a t -> 'a t\n",
       "    val relu_derive : 'a t -> 'a t\n",
       "    val softmax : 'a t -> 'a t\n",
       "    val tanh : 'a t -> 'a t\n",
       "    val sigmoid : 'a t -> 'a t\n",
       "    val sigmoid_derive : 'a t -> 'a t\n",
       "  end\n"
      ]
     },
     "execution_count": 3,
     "metadata": {},
     "output_type": "execute_result"
    }
   ],
   "source": [
    "module Activation = struct\n",
    "  type 'a t = float array array\n",
    "  let relu (z : 'a t) : 'a t =\n",
    "    Array.map (fun arr -> Array.map (fun x -> max x 0.0) arr) z\n",
    "\n",
    "  let relu_derive (z : 'a t) : 'a t =\n",
    "    Array.map (fun arr -> Array.map (fun x -> if x > 0.0 then 1.0 else 0.0) arr) z\n",
    "\n",
    "  let softmax (z : 'a t) : 'a t =\n",
    "    let softmax_row row =\n",
    "      let exp_row = Array.map exp row in\n",
    "      let sum_exp_row = Array.fold_left (+.) 0.0 exp_row in\n",
    "      Array.map (fun x -> x /. sum_exp_row) exp_row\n",
    "    in\n",
    "    let smax = Array.map softmax_row (Util.transpose z) in\n",
    "    Util.transpose smax\n",
    "\n",
    "  let tanh (z : 'a t) : 'a t =\n",
    "    Array.map (fun arr -> Array.map (fun x -> tanh x) arr) z\n",
    "\n",
    "  let sigmoid (z : 'a t) : 'a t =\n",
    "    let sigmoid_scalar y = 1.0 /. (1.0 +. exp (-. y)) in\n",
    "    let sigmoid_row row = Array.map sigmoid_scalar row in\n",
    "    Array.map sigmoid_row z\n",
    "\n",
    "  let sigmoid_derive (z : 'a t) : 'a t =\n",
    "    let s = sigmoid z in\n",
    "    let s_sub = Util.sub_scalar s 1.0 in\n",
    "    Array.map2 (fun r1 r2 -> Array.map2 (fun v1 v2 -> v1 *. (-1. *. v2)) r1 r2) s s_sub\n",
    "end"
   ]
  },
  {
   "cell_type": "code",
   "execution_count": 4,
   "id": "f14506d9-ecc6-4dcf-b189-304473c7a402",
   "metadata": {},
   "outputs": [
    {
     "data": {
      "text/plain": [
       "val load_csv : string -> (string -> 'a) -> 'a array array = <fun>\n"
      ]
     },
     "execution_count": 4,
     "metadata": {},
     "output_type": "execute_result"
    }
   ],
   "source": [
    "#require \"Csv\"\n",
    "\n",
    "let load_csv (file_name: string) (f: string -> 'a) = \n",
    "  Csv.load file_name \n",
    "  |> List.map Array.of_list\n",
    "  |> Array.of_list\n",
    "  |> Array.map (Array.map f)"
   ]
  },
  {
   "cell_type": "code",
   "execution_count": 5,
   "id": "1a7db74b-574d-47bd-9ea8-f3153e9ed54e",
   "metadata": {},
   "outputs": [
    {
     "data": {
      "text/plain": [
       "val train_x : float array array =\n",
       "  [|[|0.; 0.; 0.; 0.; 0.; 0.; 0.; 0.; 0.; 0.; 0.; 0.; 0.; 0.; 0.; 0.; 0.; 0.;\n",
       "      0.; 0.; 0.; 0.; 0.; 0.; 0.; 0.; 0.; 0.; 0.; 0.; 0.; 0.; 0.; 0.; 0.; 0.;\n",
       "      0.; 0.; 0.; 0.; 0.; 0.; 0.; 0.; 0.; 0.; 0.; 0.; 0.; 0.; 0.; 0.; 0.; 0.;\n",
       "      0.; 0.; 0.; 0.; 0.; 0.; 0.; 0.; 0.; 0.; 0.; 0.; 0.; 0.; 0.; 0.; 0.; 0.;\n",
       "      0.; 0.; 0.; 0.; 0.; 0.; 0.; 0.; 0.; 0.; 0.; 0.; 0.; 0.; 0.; 0.; 0.; 0.;\n",
       "      0.; 0.; 0.; 0.; 0.; 0.; 0.; 0.; 0.; 0.; 0.; 0.; 0.; 0.; 0.; 0.; 0.; 0.;\n",
       "      0.; 0.; 0.; 0.; 0.; 0.; 0.; 0.; 0.; 0.; 0.; 0.; 0.; 0.; 0.; 0.; 0.; 0.;\n",
       "      0.; 0.; 0.; 0.; 0.; 0.; 0.; 0.; 0.; 0.; 0.; 0.; 0.; 0.; 0.; 0.; 0.; 0.;\n",
       "      0.; 0.; 0.; 0.; 0.; 0.; 0.; 0.; 0.; 0.; 0.; 0.; 0.; 0.; 0.; 0.; 0.; 0.;\n",
       "      0.; 0.; 0.; 0.; 0.; 0.; 0.; 0.; 0.; 0.; 0.; 0.; 0.; 0.; 0.; 0.; 0.; 0.;\n",
       "      0.; 0.; 0.; 0.; 0.; 0.; 0.; 0.; 0.; 0.; 0.; 0.; 0.; 0.; 0.; 0.; 0.; 0.;\n",
       "      0.; 0.; 0.; 0.; 0.; 0.; 0.; 0.; 0.; 0.; 0.; 0.; 0.; 0.; 0.; 0.; 0.; 0.;\n",
       "      0.; 0.; 0.; 0.; 0.; 0.; 0.; 0.; 0.; 0.; 0.; 0.; 0.; 0.; 0.; 0.; 0.; 0.;\n",
       "      0.; 0.; 0.; 0.; 0.; 0.; 0.; 0.; 0.; 0.; 0.; 0.; 0.; 0.; 0.; 0.; 0.; 0.;\n",
       "      0.; 0.; 0.; 0.; 0.; 0.; 0.; 0.; 0.; 0.; 0.; 0.; 0.; 0.; 0.; 0.; 0.; 0.;\n",
       "      0.; 0.; 0.; 0.; 0.; 0.; 0.; 0.; 0.; 0.; 0.; 0.; 0.; 0.; 0.; 0.; 0.; 0.;\n",
       "      0.; 0.; 0.; 0.; 0.; 0.; 0.; 0.; 0.; 0.; ...|];\n",
       "    ...|]\n"
      ]
     },
     "execution_count": 5,
     "metadata": {},
     "output_type": "execute_result"
    },
    {
     "data": {
      "text/plain": [
       "val train_y : int array =\n",
       "  [|1; 0; 1; 4; 0; 0; 7; 3; 5; 3; 8; 9; 1; 3; 3; 1; 2; 0; 7; 5; 8; 6; 2; 0;\n",
       "    2; 3; 6; 9; 9; 7; 8; 9; 4; 9; 2; 1; 3; 1; 1; 4; 9; 1; 4; 4; 2; 6; 3; 7;\n",
       "    7; 4; 7; 5; 1; 9; 0; 2; 2; 3; 9; 1; 1; 1; 5; 0; 6; 3; 4; 8; 1; 0; 3; 9;\n",
       "    6; 2; 6; 4; 7; 1; 4; 1; 5; 4; 8; 9; 2; 9; 9; 8; 9; 6; 3; 6; 4; 6; 2; 9;\n",
       "    1; 2; 0; 5; 9; 2; 7; 7; 2; 8; 8; 5; 0; 6; 0; 0; 2; 9; 0; 4; 7; 7; 1; 5;\n",
       "    7; 9; 4; 6; 1; 5; 7; 6; 5; 0; 4; 8; 7; 6; 1; 8; 7; 3; 7; 3; 1; 0; 3; 4;\n",
       "    5; 4; 0; 5; 4; 0; 3; 5; 1; 0; 8; 3; 7; 0; 9; 6; 6; 9; 5; 4; 6; 9; 3; 5;\n",
       "    4; 2; 4; 8; 7; 7; 5; 8; 8; 8; 2; 6; 9; 3; 1; 0; 4; 1; 5; 9; 0; 6; 2; 1;\n",
       "    3; 0; 6; 0; 0; 8; 3; 2; 0; 0; 6; 0; 0; 4; 7; 2; 7; 1; 9; 9; 3; 9; 8; 4;\n",
       "    6; 6; 5; 3; 8; 1; 8; 7; 1; 3; 7; 6; 3; 6; 3; 6; 3; 2; 3; 2; 2; 7; 9; 2;\n",
       "    3; 2; 7; 5; 5; 8; 8; 2; 0; 1; 4; 0; 6; 3; 7; 1; 1; 1; 4; 7; 0; 2; 9; 2;\n",
       "    0; 5; 6; 0; 8; 9; 6; 2; 0; 0; 7; 2; 0; 4; 2; 0; 9; 1; 6; 9; 3; 0; 0; 2;\n",
       "    0; 6; 8; 4; 0; 7; 2; 1; 9; 5; 2; ...|]\n"
      ]
     },
     "execution_count": 5,
     "metadata": {},
     "output_type": "execute_result"
    }
   ],
   "source": [
    "let train_x : float array array = \n",
    "  let temp = load_csv \"../data/train_small.csv\" float_of_string in\n",
    "  Util.transpose temp \n",
    "  |> Array.map (Array.map (fun x -> x /. 255.0))\n",
    "  \n",
    "let train_y : int array = \n",
    "  let temp = load_csv \"../data/train_small_labels.csv\" int_of_string in\n",
    "  Array.map (fun row -> row.(0)) temp"
   ]
  },
  {
   "cell_type": "code",
   "execution_count": 6,
   "id": "b2d01365-fdc4-4e7b-8479-d082c7f112e8",
   "metadata": {},
   "outputs": [
    {
     "data": {
      "text/plain": [
       "module Prop :\n",
       "  sig\n",
       "    val forward_prop :\n",
       "      float array array ->\n",
       "      float array array ->\n",
       "      float array array ->\n",
       "      float array array ->\n",
       "      float array array ->\n",
       "      float array array * float array array * float array array\n",
       "    val backward_prop :\n",
       "      float array array ->\n",
       "      float array array ->\n",
       "      float array array ->\n",
       "      float array array ->\n",
       "      float array array ->\n",
       "      float array array ->\n",
       "      float array array * float * float array array * float\n",
       "    val update_params_gd :\n",
       "      float array array ->\n",
       "      float array array ->\n",
       "      float array array ->\n",
       "      float array array ->\n",
       "      float array array ->\n",
       "      float ->\n",
       "      float array array ->\n",
       "      float ->\n",
       "      float ->\n",
       "      float array array * float array array * float array array *\n",
       "      float array array\n",
       "    val update_params_gdm :\n",
       "      float array array ->\n",
       "      float array array ->\n",
       "      float array array ->\n",
       "      float array array ->\n",
       "      float array array ->\n",
       "      float ->\n",
       "      float array array ->\n",
       "      float ->\n",
       "      float array array ->\n",
       "      float ->\n",
       "      float array array ->\n",
       "      float ->\n",
       "      float ->\n",
       "      float ->\n",
       "      float ->\n",
       "      float array array * float array array * float array array *\n",
       "      float array array * float array array * float * float array array *\n",
       "      float\n",
       "  end\n"
      ]
     },
     "execution_count": 6,
     "metadata": {},
     "output_type": "execute_result"
    }
   ],
   "source": [
    "module Prop  = struct\n",
    "  let forward_prop (w1: float array array) (b1: float array array) (w2: float array array) (b2: float array array) (train_x: float array array) = \n",
    "    let z1_dot = Util.dot_product w1 train_x in\n",
    "(*     let _ = asrt(10=100, \"\"^(string_of_int (fst (Util.shape b1)))^\" \"^(string_of_int (snd (Util.shape b1)))) in *)\n",
    "    let z1 = Util.add_mat b1 z1_dot in\n",
    "    let a1 = Activation.relu z1 in\n",
    "    let z2 = Util.dot_product w2 a1\n",
    "    |> Util.add_mat b2 in\n",
    "    let a2 = Activation.sigmoid z2 in\n",
    "    (z1, a1, a2)\n",
    "    \n",
    "  let backward_prop z1 a1 a2 w2 train_x train_y:\n",
    "    (float array array * float * float array array * float) =\n",
    "    let m_inv = (1. /. (float_of_int (Array.length train_y))) in\n",
    "    let dz2 = Util.sub_mat a2 train_y in\n",
    "    let dw2 = Util.dot_product dz2 (Util.transpose a1) \n",
    "    |> Util.mult_scalar m_inv in\n",
    "    let db2 = m_inv *. Util.sum_2d_matrix dz2 in\n",
    "    let dz1 = Util.dot_product (Util.transpose w2) dz2 \n",
    "    |> Util.mult_mat (Activation.relu_derive z1) in\n",
    "    let dw1 = Util.dot_product dz1 (Util.transpose train_x) \n",
    "    |> Util.mult_scalar m_inv in\n",
    "    let db1 = m_inv *. Util.sum_2d_matrix dz1 in\n",
    "    (dw1, db1, dw2, db2)\n",
    "    \n",
    "  let update_params_gd w1 b1 w2 b2 dw1 db1 dw2 db2 lr = \n",
    "    let w1 = Util.mult_scalar lr dw1 \n",
    "    |> Util.sub_mat w1 in\n",
    "    let b1 = lr *. db1 \n",
    "    |> Util.sub_scalar b1 in\n",
    "    let w2 = Util.mult_scalar lr dw2 \n",
    "    |> Util.sub_mat w2 in\n",
    "    let b2 = lr *. db2 \n",
    "    |> Util.sub_scalar b2 in\n",
    "    (w1, b1, w2, b2)\n",
    "    \n",
    "  let update_params_gdm w1 b1 w2 b2 dw1 db1 dw2 db2 v_dw1 v_db1 v_dw2 v_db2 lr beta1 beta2 = \n",
    "    let v_dw1 = Util.add_mat (Util.mult_scalar beta1 v_dw1) (Util.mult_scalar beta2 dw1) in\n",
    "    let v_db1 = (beta2 *. db1) +. (beta1 *. v_db1) in\n",
    "    let v_dw2 = Util.add_mat (Util.mult_scalar beta1 v_dw2) (Util.mult_scalar beta2 dw2) in\n",
    "    let v_db2 = (beta2 *. db2) +. (beta1 *. v_db2) in\n",
    "    let w1 = Util.sub_mat w1 (Util.mult_scalar lr v_dw1) in\n",
    "    let b1 = Util.sub_scalar b1 (lr *. v_db1) in\n",
    "    let w2 = Util.sub_mat w2 (Util.mult_scalar lr v_dw2) in\n",
    "    let b2 = Util.sub_scalar b2 (lr *. v_db2) in\n",
    "    (w1, b1, w2, b2, v_dw1, v_db1, v_dw2, v_db2)\n",
    "end"
   ]
  },
  {
   "cell_type": "code",
   "execution_count": 7,
   "id": "4983134a-29b3-4934-9c42-86d55ed2a9ca",
   "metadata": {},
   "outputs": [
    {
     "data": {
      "text/plain": [
       "module type MONAD =\n",
       "  sig\n",
       "    type 'a t\n",
       "    val return : 'a -> 'a t\n",
       "    val ( >>= ) : 'a t -> ('a -> 'b t) -> 'b t\n",
       "    val run : 'a t -> 'a\n",
       "  end\n"
      ]
     },
     "execution_count": 7,
     "metadata": {},
     "output_type": "execute_result"
    },
    {
     "data": {
      "text/plain": [
       "module Monad : MONAD\n"
      ]
     },
     "execution_count": 7,
     "metadata": {},
     "output_type": "execute_result"
    }
   ],
   "source": [
    "module type MONAD = sig\n",
    "  type 'a t\n",
    "  val return : 'a -> 'a t\n",
    "  val (>>=)  : 'a t -> ('a -> 'b t) -> 'b t\n",
    "  val run : 'a t -> 'a\n",
    "end\n",
    "\n",
    "module Monad : MONAD = struct\n",
    "  type 'a t = 'a\n",
    "  let return x = x\n",
    "  let (>>=) x f = f x\n",
    "  let run x = x\n",
    "end"
   ]
  },
  {
   "cell_type": "code",
   "execution_count": 8,
   "id": "810eb914-ba37-4b8c-9e8b-7ddeb3db47be",
   "metadata": {},
   "outputs": [
    {
     "data": {
      "text/plain": [
       "module Gd :\n",
       "  sig\n",
       "    type algorithm_type = GD | SGD | MBGD\n",
       "    val data :\n",
       "      float array array ->\n",
       "      float array array ->\n",
       "      algorithm_type -> float array array * float array array\n",
       "  end\n"
      ]
     },
     "execution_count": 8,
     "metadata": {},
     "output_type": "execute_result"
    }
   ],
   "source": [
    "module Gd = struct\n",
    "  type algorithm_type = GD | SGD | MBGD\n",
    "  let data x y type_ = \n",
    "    match type_ with\n",
    "    | GD -> (x, y)\n",
    "    | SGD -> \n",
    "      let size = snd (Util.shape x) in\n",
    "      let _ = asrt (snd (Util.shape x) = snd (Util.shape y), \"Shape error..\") in\n",
    "      let ri = Util.random_indices 1 0 (size-1) in\n",
    "      let x', y' = Util.select_indices (Util.transpose x) ri, Util.select_indices (Util.transpose y) ri in\n",
    "      (Util.transpose x', Util.transpose y')\n",
    "    | MBGD ->\n",
    "      let size = snd (Util.shape x) in\n",
    "      let _ = asrt (snd (Util.shape x) = snd (Util.shape y), \"Shape error..\") in\n",
    "      let ri = Util.random_indices 4 0 (size-1) in\n",
    "      let x', y' = Util.select_indices (Util.transpose x) ri, Util.select_indices (Util.transpose y) ri in\n",
    "      (Util.transpose x', Util.transpose y')\n",
    "end"
   ]
  },
  {
   "cell_type": "code",
   "execution_count": 9,
   "id": "3dadf313-3470-46ea-b091-9398ee614f67",
   "metadata": {},
   "outputs": [
    {
     "data": {
      "text/plain": [
       "type optim = VGD | GDM\n"
      ]
     },
     "execution_count": 9,
     "metadata": {},
     "output_type": "execute_result"
    }
   ],
   "source": [
    "type optim = VGD | GDM"
   ]
  },
  {
   "cell_type": "code",
   "execution_count": 10,
   "id": "43e18cc4-338a-4620-a9f6-7964af598ce2",
   "metadata": {},
   "outputs": [
    {
     "data": {
      "text/plain": [
       "val gradient_descent :\n",
       "  float array array ->\n",
       "  float array array ->\n",
       "  float ->\n",
       "  int ->\n",
       "  Gd.algorithm_type ->\n",
       "  optim ->\n",
       "  float ->\n",
       "  float ->\n",
       "  (float array array * float array array * float array array *\n",
       "   float array array)\n",
       "  Monad.t = <fun>\n"
      ]
     },
     "execution_count": 10,
     "metadata": {},
     "output_type": "execute_result"
    }
   ],
   "source": [
    "let gradient_descent train_x train_y lr iterations type_ optim_ beta1 beta2 =\n",
    "  let open Monad in\n",
    "  let w1, b1, w2, b2, v_w1, v_b1, v_w2, v_b2 = Util.init_params in\n",
    "  let rec batch_loop i w1 b1 w2 b2 v_w1 (v_b1: float) v_w2 (v_b2: float) iterations train_x train_y (x, y) lr =\n",
    "    if i = iterations then return (w1, b1, w2, b2)\n",
    "    else Prop.forward_prop w1 b1 w2 b2 x \n",
    "         |> return >>= fun (z1, a1, a2) ->\n",
    "         Prop.backward_prop z1 a1 a2 w2 x y \n",
    "         |> return >>= fun (dw1, db1, dw2, db2) ->\n",
    "         if optim_ = GDM then \n",
    "           Prop.update_params_gdm w1 b1 w2 b2 dw1 db1 dw2 db2 v_w1 v_b1 v_w2 v_b2 lr beta1 beta2\n",
    "           |> return >>= fun (w1', b1', w2', b2', v_dw1', v_db1', v_dw2', v_db2') ->\n",
    "           if i mod 10 = 0 then Printf.printf \"Iteration: %d\\n\" i;\n",
    "           batch_loop (i + 1) w1' b1' w2' b2' v_dw1' v_db1' v_dw2' v_db2' iterations train_x train_y (Gd.data train_x train_y type_) lr\n",
    "         else \n",
    "           Prop.update_params_gd w1 b1 w2 b2 dw1 db1 dw2 db2 lr \n",
    "           |> return >>= fun (w1', b1', w2', b2') ->\n",
    "           batch_loop (i + 1) w1' b1' w2' b2' v_w1 v_b1 v_w2 v_b2 iterations train_x train_y (Gd.data train_x train_y type_) lr\n",
    "  in\n",
    "  batch_loop 0 w1 b1 w2 b2 v_w1 v_b1 v_w2 v_b2 iterations train_x train_y (Gd.data train_x train_y type_) lr"
   ]
  },
  {
   "cell_type": "code",
   "execution_count": 11,
   "id": "1933240f-63a5-4966-a09a-3e3f7af59a83",
   "metadata": {},
   "outputs": [
    {
     "data": {
      "text/plain": [
       "- : int * int = (784, 4000)\n"
      ]
     },
     "execution_count": 11,
     "metadata": {},
     "output_type": "execute_result"
    },
    {
     "data": {
      "text/plain": [
       "- : int * int = (10, 4000)\n"
      ]
     },
     "execution_count": 11,
     "metadata": {},
     "output_type": "execute_result"
    }
   ],
   "source": [
    "(Util.shape train_x);; \n",
    "(Util.shape (Util.one_hot train_y));;"
   ]
  },
  {
   "cell_type": "code",
   "execution_count": 12,
   "id": "c09afd2e-7145-4f70-aefd-10b5185cce72",
   "metadata": {},
   "outputs": [
    {
     "data": {
      "text/plain": [
       "val result :\n",
       "  (float array array * float array array * float array array *\n",
       "   float array array)\n",
       "  Monad.t = <abstr>\n"
      ]
     },
     "execution_count": 12,
     "metadata": {},
     "output_type": "execute_result"
    },
    {
     "data": {
      "text/plain": [
       "val w1 : float array array =\n",
       "  [|[|0.426038888360971146; -0.158361411401767904; 0.0978229458531059137;\n",
       "      0.366881591014789565; 0.286668034537743921; 0.125315015859070122;\n",
       "      -0.409011015216012297; -0.188990030213231575; 0.059742196386998736;\n",
       "      -0.34615215119734255; -0.490233784604748313; 0.256637587325766692;\n",
       "      -0.251656740474212159; 0.152787092477089326; 0.48717731495272254;\n",
       "      -0.332554522532503172; 0.0574582248835058262; 0.258516786217372951;\n",
       "      0.18532904647625259; -0.0324781508558906196; -0.171649560924790556;\n",
       "      0.225258114528568254; 0.260843272481697697; 0.444543207513039773;\n",
       "      -0.0466829106219362466; 0.0396486806025953; 0.36819664704757471;\n",
       "      0.0449662633954558411; 0.130257917730493555; -0.42187402863574619;\n",
       "      -0.375256835869513194; -0.022730071996965362; -0.229233104415120292;\n",
       "      0.38945947157575922; -0.199121535032691421; -0.217841553708043145;\n",
       "      0.0565473408327369365; -0.395298547224043; 0.103989915708647573;\n",
       "      0.360497981031593695; 0.48943067314257882; -0.339694153338264859;\n",
       "      -0.426797908865498399; -0.135400126024697198; 0.0620857600008287713;\n",
       "      0.488592541624459198; -0.405824100775576957; 0.207942539774618851;\n",
       "      -0.351462418586837744; 0.448945076777336749; -0.239606332907712327;\n",
       "      -0.212734158871041967; 0.00853007567102504; -0.337843484576465458;\n",
       "      -0.122118054449384505; 0.376042480026804182; -0.313138545844993899;\n",
       "      -0.0596257194518746703; 0.246738814001851936; 0.0318424309062490529;\n",
       "      -0.27952546455631716; 0.0863902139273025; 0.223323576520247702;\n",
       "      -0.0127900205644769782; -0.0061764123802213744; 0.332331193660988067;\n",
       "      0.427882425360738838; 0.211524753968942769; 0.336785907389559602;\n",
       "      -0.172439437059254963; -0.383676682699600424; 0.305852076673340134;\n",
       "      -0.426088452502902115; -0.491982544372820463; 0.286661565155642784;\n",
       "      -0.0680300414191699; -0.00723035599197063839; -0.0432239300242296398;\n",
       "      -0.283197382480169402; 0.214949323585700069; 0.197996660137878422;\n",
       "      -0.163429852580197432; 0.0532280498237949207; -0.382350618403808;\n",
       "      0.060894172660677981; 0.149029289156137779; -0.417487863577329699;\n",
       "      0.0817998697415434073; -0.192981163695874536; -0.26403094307109;\n",
       "      -0.270114088887362658; -0.425902993493545878; 0.0889818500602555;\n",
       "      0.348100812443632; 0.422239627823871588; 0.000314420486310584835;\n",
       "      -0.184212926207080685; 0.255295741469514059; 0.32665689672518694;\n",
       "      0.271558629885892133; -0.303932676033982163; 0.206253521028400194;\n",
       "      0.0793103829867825849; 0.164561182273337492; -0.370257040672201221;\n",
       "      -0.00629762309347731142; 0.193655766031414767; 0.488946865116289153;\n",
       "      -0.216405009583590047; -0.0495505815514633574; -0.485958711732674686;\n",
       "      0.0584299011323263784; -0.0679344359060337077; 0.0357188362682961946;\n",
       "      -0.235698665575383492; 0.431517784813786331; -0.248545582868232862;\n",
       "      -0.120841175372247978; 0.432949757025500759; 0.28638173987964;\n",
       "      0.481852412893180593; 0.0913735510239407356; -0.284479602597751291;\n",
       "      0.320981688071338811; 0.34724901434157307; -0.354980964541364796;\n",
       "      0.0415249310717239958; 0.0128309519001300904; -0.437912707739950502;\n",
       "      0.279834357982156723; -0.131327477093327927; -0.19704023303280388;\n",
       "      0.130761910841631024; -0.246582399995048052; 0.02770451794062323;\n",
       "      -0.494296647817521695; 0.0264741808785566857; -0.408636975063175922;\n",
       "      -0.392774880649930158; -0.0216106871327469419; 0.113175606616649049;\n",
       "      0.252972584853219384; 0.185418949283025492; -0.3671122449959342;\n",
       "      -0.317253077109922732; 0.152251520342244095; -0.165262843201762;\n",
       "      -0.400077775968154192; -0.285335583038538565; -0.257499082156475545;\n",
       "      -0.235799766044362; 0.36443974102683574; -0.252431864090213898;\n",
       "      -0.429740097672946297; 0.20992968142595389; 0.408997307346911809;\n",
       "      0.423475040845516; 0.151371170317933373; -0.458273036303757708;\n",
       "      0.192344269389522565; -0.471816109349414758; 0.426338624716366;\n",
       "      0.365419363474884684; 0.381543536768877534; 0.38880306085677685;\n",
       "      0.472786600081123387; -0.292344560500406581; 0.156143126398680443;\n",
       "      0.42022529790391816; -0.0424375442557174964; -0.0624670131163351239;\n",
       "      0.490478996227236674; 0.19192222701971029; -0.145302679107613519;\n",
       "      0.0266875004173693364; -0.066913278032561252; 0.254838216348159952;\n",
       "      0.10527693437016479; 0.431927028303275395; -0.385138219978368113;\n",
       "      0.0702459975878723247; -0.47949452653026492; -0.163189606671981818;\n",
       "      0.0391120137039192087; -0.141631351585922882; -0.0490640140198732866;\n",
       "      -0.0215831010969302038; 0.419544926866554313; -0.292969066592470795;\n",
       "      -0.262307552260241883; 0.40112409870336474; 0.48771846230573046;\n",
       "      0.00408445917409028247; 0.00182434597839897794; -0.408082275520315896;\n",
       "      -0.499779674436377774; 0.369384380515687116; -0.184494641162808393;\n",
       "      0.108699856115614057; 0.450050088138203686; -0.0888803442478409145;\n",
       "      0.355089600947606332; -0.0184461632687538124; 0.470417481247673908;\n",
       "      -0.0473626023478799785; 0.0213367925726923105; -0.439386458811357739;\n",
       "      0.28001244510049994; 0.121499713060130313; -0.441029532596049378;\n",
       "      -0.160806135771397851; -0.163496286694520654; 0.0885513886770412095;\n",
       "      -0.246221998938315173; -0.287833962843938085; 0.269681535857647536;\n",
       "      -0.416399655901391608; -0.102782771737897835; 0.170993419720491313;\n",
       "      0.109241918621711398; -0.0772915929958952197; 0.474959572799448448;\n",
       "      0.376690494971428036; 0.0679071506315707119; -0.496496881831030523;\n",
       "      -0.297381370910329956; -0.432507610928979713; -0.223387052970157651;\n",
       "      0.0706380233158875326; -0.405974632959673898; -0.270310253187562632;\n",
       "      0.0874828088505478219; 0.43754374972125315; -0.284660637973800923;\n",
       "      -0.439489516932274171; -0.471327644105826948; 0.0455528508610672581;\n",
       "      0.0830115280263066108; -0.178882235117249877; 0.220189837061312954;\n",
       "      -0.358439744487292489; -0.464115822382107; -0.34398143243252377;\n",
       "      0.117106161441292031; -0.301566179485703523; -0.420969626103471;\n",
       "      0.201966472808907893; -0.00330891907520153294; 0.444170058109463972;\n",
       "      0.387243604466180891; -0.327407491450235844; 0.0381976297129990039;\n",
       "      -0.0903022321394401639; -0.337539348951350626; -0.310466294746944094;\n",
       "      0.0902945604138889468; 0.0638275553579281674; 0.478907840446829103;\n",
       "      0.293856567134014; -0.302060819968282712; -0.0891844196426322261;\n",
       "      0.132216680512049878; 0.0837901284873218827; -0.0981082556788451;\n",
       "      -0.276480378583815412; -0.34509668549974104; 0.00492301477284768241;\n",
       "      -0.356619375174442699; -0.25840192854467392; 0.170026365954702635;\n",
       "      -0.457530064382588142; -0.134278849187570049; 0.118259387109345138;\n",
       "      -0.210462157560446839; -0.0949547975362994845; 0.000402718498027199168;\n",
       "      -0.0120937504279070018; 0.203194672727106562; -0.370191783867660607;\n",
       "      -0.456680850177444253; -0.244966455142828332; 0.380889442112898102;\n",
       "      -0.246240695292371137; -0.2379746718956533; -0.173006256292844052;\n",
       "      0.237553316773125633; -0.0805472593382281; 0.405415875434309125;\n",
       "      -0.147501066854255902; -0.24368330039613248; -0.281357855749372276;\n",
       "      0.34488887899371673; 0.489869896714441477; -0.24616259351120881;\n",
       "      -0.29701224527992548; -0.312616611314224191; 0.0150756369016112387;\n",
       "      -0.459940077331095043; ...|];\n",
       "    ...|]\n",
       "val b1 : float array array =\n",
       "  [|[|-0.384065435200400096|]; [|-0.59099059814298871|];\n",
       "    [|-0.2719919790838215|]; [|0.0824708875160176658|];\n",
       "    [|-0.0575140718675254889|]; [|0.147216743412325657|];\n",
       "    [|-0.0216406260144305571|]; [|-0.0362931839308461776|];\n",
       "    [|0.193889432436345766|]; [|-0.294437836992555|];\n",
       "    [|0.00611862130450164382|]; [|0.193240521708987367|];\n",
       "    [|0.106449305666170224|]; [|0.386374478447795877|];\n",
       "    [|-0.320806071499788459|]; [|-0.0800168750876580348|];\n",
       "    [|-0.0791782475054183|]; [|0.207397755064778033|];\n",
       "    [|0.195262373752810581|]; [|0.301286069228035636|]|]\n",
       "val w2 : float array array =\n",
       "  [|[|0.234895165498954422; 0.301886450890525; -0.00844940326364102;\n",
       "      0.452091733618461056; -0.447126338211565388; -0.291105549242588468;\n",
       "      -0.253245543556321451; -0.326507302417624046; 0.380575260326418474;\n",
       "      -0.120656569705715463; -0.257156343334964; -0.352860837566951246;\n",
       "      0.394515643542127759; 0.0749690296647669; -0.0210300113002232607;\n",
       "      -0.445917027006198896; -0.484874379210212925; -0.0106485993747835357;\n",
       "      -0.211558415344008433; 0.321430182062220904|];\n",
       "    [|0.178224164499877713; 0.168451453623507608; 0.24126552023882375;\n",
       "      0.185479188472116696; -0.0192282517150891043; 0.0953736030963907577;\n",
       "      -0.0616586302713616266; -0.0159716210495667622; 0.401921602203761719;\n",
       "      0.0294879545996041062; 0.212241699402316741; 0.471701458154703324;\n",
       "      0.313238282120711364; -0.197291833569868097; -0.208750479195250915;\n",
       "      0.131487243670422582; -0.432243678618782101; -0.376806709457873479;\n",
       "      0.277343924408783082; -0.105233456001697673|];\n",
       "    [|0.245072302328706138; -0.0638266194613404114; -0.0540070201155930935;\n",
       "      -0.369169256001771084; -0.046938673215193627; -0.48264095218606462;\n",
       "      0.25324624974058324; 0.316810612318982332; 0.364149433163796832;\n",
       "      -0.414158536010333367; 0.147630669768153949; -0.492132673208577121;\n",
       "      -0.255964182428544851; -0.324270489566816922; 0.429170909467960549;\n",
       "      -0.443237134990497661; 0.0947337574640410851; 0.39799105225858461;\n",
       "      0.046642503093824679; -0.458531717567303765|];\n",
       "    [|0.215850295904388867; 0.134091167742590917; 0.148931945060482407;\n",
       "      -0.424510345321699; -0.409562318472694864; -0.160610848067737622;\n",
       "      -0.143902830155214462; -0.287964047808361878; -0.397978360400084497;\n",
       "      -0.17637801326414726; 0.0592483593275381637; 0.230912625346770067;\n",
       "      0.473055880987491184; -0.196449363916116115; 0.392213067494911471;\n",
       "      0.309828823985543456; -0.0557374832124167829; -0.176136801601629284;\n",
       "      0.374101204336495852; 0.356964468826354353|];\n",
       "    [|-0.407756651787502866; 0.4796352885604383; -0.0487954643336069;\n",
       "      0.202524513542845341; 0.0845801354265165867; 0.239766332681272343;\n",
       "      -0.155009013206222929; -0.0722613916725609595; -0.10400899508299645;\n",
       "      -0.0222658736389846519; -0.0960298742044217585; 0.26543636433512291;\n",
       "      0.449437420627645579; -0.435030322717584128; 0.0944288227672539088;\n",
       "      -0.161950695081472584; -0.283672440931063363; 0.322920211948095837;\n",
       "      -0.0470365168682400914; 0.36575798258414588|];\n",
       "    [|-0.265159703628210397; 0.0975957999709719665; 0.207771667649645164;\n",
       "      -0.139535106023644662; 0.25990316999487828; -0.277130255171206707;\n",
       "      -0.416751190127160553; -0.468272538203442; -0.112528858597232523;\n",
       "      0.212027771999166337; -0.115192889435688617; -0.479180667019818152;\n",
       "      0.0516753771256676306; -0.123829767082484318; -0.216160138691470549;\n",
       "      -0.171877044887995378; -0.283392113570401227; -0.463717544395005732;\n",
       "      -0.243165848972896781; 0.146708989627311437|];\n",
       "    [|0.0861119533002398102; 0.283969169276610311; 0.211559391913118428;\n",
       "      -0.277178221307933; -0.137146349021449732; -0.222746230287686892;\n",
       "      0.0615212617212417337; -0.000865930831465498; 0.269991567128293475;\n",
       "      -0.322621312063249399; 0.189365280367116057; 0.176607393445521038;\n",
       "      0.390652213171063523; 0.0461995483748910349; 0.292294755428916309;\n",
       "      0.243889459453865226; -0.140584753739844526; 0.362315956473789169;\n",
       "      -0.0646833537597661518; 0.0274011779384972405|];\n",
       "    [|-0.324435742490098766; 0.268037887273237851; -0.122875745616419979;\n",
       "      -0.00627852896381911763; -0.445339924878066395; -0.332634002644055182;\n",
       "      0.345636690363612331; 0.21833096545451966; 0.108493428583511478;\n",
       "      -0.439438247412696326; -0.389804540934731381; 0.156267967357689719;\n",
       "      -0.452064469273765; -0.447643904708137363; -0.226786871244417182;\n",
       "      0.243355998166624315; 0.166573944422304915; 0.368205806846710115;\n",
       "      0.0876614871960806341; -0.465455947741313103|];\n",
       "    [|-0.0241487580683621139; -0.161200671578076271; -0.491119250042458932;\n",
       "      -0.0702185722582583521; 0.343542343185456; 0.193897345697531698;\n",
       "      -0.15310719383778626; 0.232063484138978815; 0.320940736924166581;\n",
       "      0.431023479045732072; 0.468270933067564177; -0.456916070241470851;\n",
       "      -0.340948555051214; -0.42551060266418983; -0.00110077641157458033;\n",
       "      -0.0628815293003019; -0.42727760595608; -0.283349894456298379;\n",
       "      0.021757146707129478; 0.27709732490653155|];\n",
       "    [|-0.403498543121322772; 0.164955032290785869; -0.180248503874798821;\n",
       "      -0.309094336814564052; 0.236559442101375694; 0.198704457843463;\n",
       "      -0.112292106638860231; 0.160964456976631226; 0.236463765277611732;\n",
       "      -0.445420756581652755; -0.281650626215120548; -0.422112602157021732;\n",
       "      -0.173956343899941107; 0.193738180291597561; -0.144763938975583484;\n",
       "      -0.373995929845676478; 0.0501985800214744746; -0.228065242236511867;\n",
       "      0.204256890702481264; -0.261934746122854112|]|]\n",
       "val b2 : float array array =\n",
       "  [|[|0.163538823055426108|]; [|0.305249372574306732|];\n",
       "    [|0.154475074406246748|]; [|0.0369448795852612699|];\n",
       "    [|0.160735622166624181|]; [|0.0163574139692687082|];\n",
       "    [|-0.61519792392521444|]; [|0.233816633127250678|];\n",
       "    [|0.0664013751479836101|]; [|-0.119842510085854892|]|]\n"
      ]
     },
     "execution_count": 12,
     "metadata": {},
     "output_type": "execute_result"
    }
   ],
   "source": [
    "let result = gradient_descent train_x (Util.one_hot train_y) 0.06 2 MBGD VGD 0.9 0.1;;\n",
    "let w1, b1, w2, b2 = Monad.run result;;"
   ]
  },
  {
   "cell_type": "code",
   "execution_count": 13,
   "id": "9bc433f1-1ff3-4425-9de8-f7ecb53ab607",
   "metadata": {},
   "outputs": [
    {
     "data": {
      "text/plain": [
       "val get_predictions : float array array -> int array = <fun>\n"
      ]
     },
     "execution_count": 13,
     "metadata": {},
     "output_type": "execute_result"
    }
   ],
   "source": [
    "let get_predictions (a2 : float array array) : int array =\n",
    "  let n_rows = Array.length a2 in\n",
    "  let result = Array.make n_rows (-1) in\n",
    "  for i = 0 to n_rows - 1 do\n",
    "    let row = a2.(i) in\n",
    "    let n_cols = Array.length row in\n",
    "    let max_val = ref row.(0) in\n",
    "    let max_index = ref 0 in\n",
    "    for j = 1 to n_cols - 1 do\n",
    "      let x = row.(j) in\n",
    "      if x > !max_val then begin\n",
    "        max_val := x;\n",
    "        max_index := j;\n",
    "      end\n",
    "    done;\n",
    "    result.(i) <- !max_index\n",
    "  done;\n",
    "  result"
   ]
  },
  {
   "cell_type": "code",
   "execution_count": 14,
   "id": "7b77a10c-6068-4019-b445-195c374c55da",
   "metadata": {},
   "outputs": [],
   "source": [
    "(* let get_predictions (a2 : float array array) : int array =\n",
    "  let n_rows = Array.length a2 in\n",
    "  let rec loop acc i =\n",
    "    if i = n_rows then Array.of_list (List.rev acc)\n",
    "    else\n",
    "      let row = a2.(i) in\n",
    "      let (_, max_index) =\n",
    "        Array.fold_left (fun (max_val, max_index) x ->\n",
    "          let idx = max_index + 1 in\n",
    "          if x > max_val then (x, idx) else (max_val, max_index)) (0., -1) row in\n",
    "      loop (max_index :: acc) (i+1)\n",
    "  in\n",
    "  loop [] 0 *)"
   ]
  },
  {
   "cell_type": "code",
   "execution_count": 15,
   "id": "4ae6120e-c4f3-48a4-ab68-7e254a2b29b9",
   "metadata": {},
   "outputs": [
    {
     "data": {
      "text/plain": [
       "val get_accuracy : 'a array -> 'a array -> float = <fun>\n"
      ]
     },
     "execution_count": 15,
     "metadata": {},
     "output_type": "execute_result"
    }
   ],
   "source": [
    "let get_accuracy pred y : float =\n",
    "  let diff = Array.map2 (fun v1 v2 -> if v1 = v2 then 1 else 0) pred y in\n",
    "  let sum_and_len = Array.fold_left (fun (s,l) x -> s+x, l+1) (0,0) diff in\n",
    "  float_of_int (fst (sum_and_len)) /. float_of_int (snd (sum_and_len))"
   ]
  },
  {
   "cell_type": "code",
   "execution_count": 16,
   "id": "e56e6b4c-0caf-4441-a91a-4ed7bf838b6f",
   "metadata": {},
   "outputs": [
    {
     "data": {
      "text/plain": [
       "val test_x : float array array =\n",
       "  [|[|0.; 0.; 0.; 0.; 0.; 0.; 0.; 0.; 0.; 0.; 0.; 0.; 0.; 0.; 0.; 0.; 0.; 0.;\n",
       "      0.|];\n",
       "    [|0.; 0.; 0.; 0.; 0.; 0.; 0.; 0.; 0.; 0.; 0.; 0.; 0.; 0.; 0.; 0.; 0.; 0.;\n",
       "      0.|];\n",
       "    [|0.; 0.; 0.; 0.; 0.; 0.; 0.; 0.; 0.; 0.; 0.; 0.; 0.; 0.; 0.; 0.; 0.; 0.;\n",
       "      0.|];\n",
       "    [|0.; 0.; 0.; 0.; 0.; 0.; 0.; 0.; 0.; 0.; 0.; 0.; 0.; 0.; 0.; 0.; 0.; 0.;\n",
       "      0.|];\n",
       "    [|0.; 0.; 0.; 0.; 0.; 0.; 0.; 0.; 0.; 0.; 0.; 0.; 0.; 0.; 0.; 0.; 0.; 0.;\n",
       "      0.|];\n",
       "    [|0.; 0.; 0.; 0.; 0.; 0.; 0.; 0.; 0.; 0.; 0.; 0.; 0.; 0.; 0.; 0.; 0.; 0.;\n",
       "      0.|];\n",
       "    [|0.; 0.; 0.; 0.; 0.; 0.; 0.; 0.; 0.; 0.; 0.; 0.; 0.; 0.; 0.; 0.; 0.; 0.;\n",
       "      0.|];\n",
       "    [|0.; 0.; 0.; 0.; 0.; 0.; 0.; 0.; 0.; 0.; 0.; 0.; 0.; 0.; 0.; 0.; 0.; 0.;\n",
       "      0.|];\n",
       "    [|0.; 0.; 0.; 0.; 0.; 0.; 0.; 0.; 0.; 0.; 0.; 0.; 0.; 0.; 0.; 0.; 0.; 0.;\n",
       "      0.|];\n",
       "    [|0.; 0.; 0.; 0.; 0.; 0.; 0.; 0.; 0.; 0.; 0.; 0.; 0.; 0.; 0.; 0.; 0.; 0.;\n",
       "      0.|];\n",
       "    [|0.; 0.; 0.; 0.; 0.; 0.; 0.; 0.; 0.; 0.; 0.; 0.; 0.; 0.; 0.; 0.; 0.; 0.;\n",
       "      0.|];\n",
       "    [|0.; 0.; 0.; 0.; 0.; 0.; 0.; 0.; 0.; 0.; 0.; 0.; 0.; 0.; 0.; 0.; 0.; 0.;\n",
       "      0.|];\n",
       "    [|0.; 0.; 0.; 0.; 0.; 0.; 0.; 0.; 0.; 0.; 0.; 0.; 0.; 0.; 0.; 0.; 0.; 0.;\n",
       "      0.|];\n",
       "    [|0.; 0.; 0.; 0.; 0.; 0.; 0.; 0.; 0.; 0.; 0.; 0.; 0.; 0.; 0.; 0.; 0.; 0.;\n",
       "      0.|];\n",
       "    [|0.; 0.; 0.; 0.; 0.; 0.; 0.; 0.; 0.; 0.; 0.; 0.; 0.; 0.; 0.; 0.; 0.; 0.;\n",
       "      ...|];\n",
       "    ...|]\n"
      ]
     },
     "execution_count": 16,
     "metadata": {},
     "output_type": "execute_result"
    },
    {
     "data": {
      "text/plain": [
       "val test_y : int array =\n",
       "  [|1; 0; 1; 4; 0; 0; 7; 3; 5; 3; 8; 9; 1; 3; 3; 1; 2; 0; 7|]\n"
      ]
     },
     "execution_count": 16,
     "metadata": {},
     "output_type": "execute_result"
    }
   ],
   "source": [
    "let test_x : float array array = \n",
    "  let temp = load_csv \"../data/test_small.csv\" float_of_string in\n",
    "  Util.transpose temp \n",
    "  |> Array.map (Array.map (fun x -> x /. 255.0))\n",
    "  \n",
    "let test_y : int array = \n",
    "  let temp = load_csv \"../data/test_small_labels.csv\" int_of_string in\n",
    "  Array.map (fun row -> row.(0)) temp"
   ]
  },
  {
   "cell_type": "code",
   "execution_count": 17,
   "id": "4e4a816e-3439-4b89-a70d-875e069b5b42",
   "metadata": {},
   "outputs": [
    {
     "data": {
      "text/plain": [
       "- : int = 19\n"
      ]
     },
     "execution_count": 17,
     "metadata": {},
     "output_type": "execute_result"
    }
   ],
   "source": [
    "Array.length test_y"
   ]
  },
  {
   "cell_type": "code",
   "execution_count": 18,
   "id": "03be74c7-7e61-4d07-8955-7bcd93d3764d",
   "metadata": {},
   "outputs": [
    {
     "data": {
      "text/plain": [
       "- : int array * float =\n",
       "([|3; 3; 4; 1; 3; 6; 4; 1; 9; 8; 9; 0; 6; 6; 8; 6; 6; 1; 8|], 0.)\n"
      ]
     },
     "execution_count": 18,
     "metadata": {},
     "output_type": "execute_result"
    }
   ],
   "source": [
    "let _, _, a2 = Prop.forward_prop w1 b1 w2 b2 test_x in\n",
    "let preds = get_predictions (Util.transpose a2) in\n",
    "(preds, get_accuracy preds test_y)"
   ]
  },
  {
   "cell_type": "code",
   "execution_count": null,
   "id": "26e03caf-ea3a-4091-9c68-c26c03149548",
   "metadata": {},
   "outputs": [],
   "source": []
  }
 ],
 "metadata": {
  "kernelspec": {
   "display_name": "OCaml 4.12.1",
   "language": "OCaml",
   "name": "ocaml-jupyter-4.12.1"
  },
  "language_info": {
   "codemirror_mode": "text/x-ocaml",
   "file_extension": ".ml",
   "mimetype": "text/x-ocaml",
   "name": "OCaml",
   "nbconverter_exporter": null,
   "pygments_lexer": "OCaml",
   "version": "4.12.1"
  },
  "widgets": {
   "application/vnd.jupyter.widget-state+json": {
    "state": {},
    "version_major": 2,
    "version_minor": 0
   }
  }
 },
 "nbformat": 4,
 "nbformat_minor": 5
}
