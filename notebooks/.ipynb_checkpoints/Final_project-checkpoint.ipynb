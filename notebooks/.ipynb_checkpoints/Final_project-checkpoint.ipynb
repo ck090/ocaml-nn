{
 "cells": [
  {
   "cell_type": "code",
   "execution_count": 1,
   "metadata": {
    "vscode": {
     "languageId": "ocaml"
    }
   },
   "outputs": [
    {
     "data": {
      "text/plain": [
       "val asrt : bool * string -> unit = <fun>\n"
      ]
     },
     "execution_count": 1,
     "metadata": {},
     "output_type": "execute_result"
    }
   ],
   "source": [
    "(* Required definitions *)\n",
    "let asrt = function\n",
    " | (true,_) -> ()\n",
    " | (false, str) -> failwith (\"Assertion failure: \"^str)"
   ]
  },
  {
   "cell_type": "code",
   "execution_count": 2,
   "metadata": {
    "vscode": {
     "languageId": "ocaml"
    }
   },
   "outputs": [
    {
     "data": {
      "text/plain": [
       "module Util :\n",
       "  sig\n",
       "    type 'a t = float list list\n",
       "    val shape : 'a t -> int * int\n",
       "    val float_1d : int -> float list\n",
       "    val float_2d : int -> int -> float list list\n",
       "    val float_2d_zeros : int -> int -> float list list\n",
       "    val transpose : 'a list list -> 'a list list\n",
       "    val dot_product : float list list -> float list list -> float list list\n",
       "    val add_scalar : float -> float list list -> float list list\n",
       "    val sub_scalar : float list list -> float -> float list list\n",
       "    val mult_scalar : float -> float list list -> float list list\n",
       "    val add_mat : float list list -> float list list -> float list list\n",
       "    val sub_mat : float list list -> float list list -> float list list\n",
       "    val mult_mat : float list list -> float list list -> float list list\n",
       "    val sum_2d_matrix : float list list -> float\n",
       "    val one_hot : int list -> float list list\n",
       "    val init_params :\n",
       "      float list list * float list list * float list list * float list list *\n",
       "      float list list * float * float list list * float\n",
       "    val random_indices : int -> int -> int -> int list\n",
       "    val select_indices : 'a list -> int list -> 'a list\n",
       "  end\n"
      ]
     },
     "execution_count": 2,
     "metadata": {},
     "output_type": "execute_result"
    }
   ],
   "source": [
    "module Util = struct\n",
    "  type 'a t = float list list\n",
    "  let shape (l: 'a t) = (List.length l, List.length (List.nth l 0))\n",
    "  \n",
    "  let float_1d size = List.init size (fun _ -> (Random.float 1.0) -. 0.5)\n",
    "  \n",
    "  let float_2d rows cols = List.init rows (fun _ -> List.init cols (fun _ -> (Random.float 1.0) -. 0.5))\n",
    "  \n",
    "  let float_2d_zeros rows cols = List.init rows (fun _ -> List.init cols (fun _ -> 0.0))\n",
    "  \n",
    "  let transpose (lst : 'a list list) : 'a list list =\n",
    "    let rec transpose_helper acc lst = match lst with\n",
    "    | [] -> acc\n",
    "    | [] :: _ -> acc\n",
    "    | _ ->\n",
    "        let column = List.map List.hd lst in\n",
    "        let remainder = List.map List.tl lst in\n",
    "        transpose_helper (column :: acc) remainder\n",
    "    in\n",
    "    List.rev (transpose_helper [] lst)\n",
    "  \n",
    "  let dot_product (lst1 : float list list) (lst2 : float list list) : float list list =\n",
    "    let dot_helper (lst1 : float list) (lst2 : float list) : float =\n",
    "      List.fold_left2 (fun acc x y -> acc +. x *. y) 0. lst1 lst2 in\n",
    "    let transposed = transpose lst2 in\n",
    "      List.map (fun row -> List.map (dot_helper row) transposed) lst1\n",
    "      \n",
    "  let add_scalar (s : float) (lst : float list list) = List.map (fun row -> List.map (fun x -> x +. s) row) lst\n",
    "  \n",
    "  let sub_scalar (lst: float list list) (s: float) = List.map (fun row -> List.map (fun x -> x -. s) row) lst\n",
    "  \n",
    "  let mult_scalar (s : float) (lst : float list list) = List.map (fun row -> List.map (fun x -> x *. s) row) lst\n",
    "  \n",
    "  let add_mat (m1 : float list list) (m2 : float list list) : float list list =\n",
    "    let n_rows1, n_cols1 = shape m1 in\n",
    "    let n_rows2, n_cols2 = shape m2 in\n",
    "    if n_rows1 <> n_rows2 || n_cols1 <> n_cols2 then\n",
    "      let rec repeat_column col n = match n with\n",
    "      | 0 -> []\n",
    "      | _ -> col :: (repeat_column col (n-1))\n",
    "      in\n",
    "      let m1_resized = List.map (fun row -> repeat_column (List.hd row) n_cols2) m1 in\n",
    "      List.map2 (List.map2 (+.)) m1_resized m2\n",
    "    else\n",
    "      List.map2 (fun row1 row2 -> List.map2 (fun x y -> x +. y) row1 row2) m1 m2\n",
    "  \n",
    "  let sub_mat (l1: float list list) (l2: float list list) = \n",
    "    List.map2 (fun row1 row2 -> List.map2 (fun x y -> x -. y) row1 row2) l1 l2\n",
    "    \n",
    "  let mult_mat (l1: float list list) (l2: float list list) = \n",
    "    List.map2 (fun row1 row2 -> List.map2 (fun x y -> x *. y) row1 row2) l1 l2\n",
    "  \n",
    "  let sum_2d_matrix (matrix : float list list) : float =\n",
    "    List.fold_left (fun acc row -> acc +. List.fold_left (+.) 0. row) 0. matrix\n",
    "\n",
    "  let one_hot (y: int list): float list list =\n",
    "    let n = List.fold_left max 0 y + 1 in\n",
    "    let temp = List.init (List.length y) (fun i -> List.init n (fun j -> if j = List.nth y i then 1.0 else 0.0)) in\n",
    "    transpose temp\n",
    "    \n",
    "  let init_params =\n",
    "    let w1 = float_2d 10 784 in\n",
    "    let b1 = float_2d 10 1 in\n",
    "    let v_w1 = float_2d_zeros 10 784 in\n",
    "    let v_b1 = 0.0 in\n",
    "    let w2 = float_2d 10 10 in\n",
    "    let b2 = float_2d 10 1 in\n",
    "    let v_w2 = float_2d_zeros 10 10 in\n",
    "    let v_b2 = 0.0 in\n",
    "    (w1, b1, w2, b2, v_w1, v_b1, v_w2, v_b2)\n",
    "\n",
    "  let random_indices n x y =\n",
    "    let rec aux acc n =\n",
    "    if n = 0 then acc\n",
    "    else\n",
    "      let r = Random.int (y - x + 1) + x in\n",
    "      if List.mem r acc then aux acc n\n",
    "      else aux (r :: acc) (n-1)\n",
    "    in aux [] n\n",
    "\n",
    "  let select_indices matrix indices =\n",
    "    List.map (fun i -> List.nth matrix i) indices\n",
    "end"
   ]
  },
  {
   "cell_type": "code",
   "execution_count": 3,
   "metadata": {},
   "outputs": [
    {
     "data": {
      "text/plain": [
       "module Activation :\n",
       "  sig\n",
       "    type 'a t = float list list\n",
       "    val relu : 'a t -> 'a t\n",
       "    val relu_derive : 'a t -> 'a t\n",
       "    val softmax : 'a t -> 'a t\n",
       "    val tanh : 'a t -> 'a t\n",
       "    val sigmoid : 'a t -> 'a t\n",
       "    val sigmoid_derive : 'a t -> 'a t\n",
       "  end\n"
      ]
     },
     "execution_count": 3,
     "metadata": {},
     "output_type": "execute_result"
    }
   ],
   "source": [
    "module Activation = struct\n",
    "  type 'a t = float list list\n",
    "  let relu (z : 'a t) : 'a t =\n",
    "  List.map (fun arr -> List.map (fun x -> max x 0.0) arr) z\n",
    "\n",
    "  let relu_derive (z : 'a t) : 'a t =\n",
    "    List.map (fun arr -> List.map (fun x -> if x > 0.0 then 1.0 else 0.0) arr) z\n",
    "\n",
    "  let softmax (z : 'a t) : 'a t =\n",
    "    let softmax_row row =\n",
    "    let exp_row = List.map exp row in\n",
    "    let sum_exp_row = List.fold_left (+.) 0.0 exp_row in\n",
    "        List.map (fun x -> x /. sum_exp_row) exp_row\n",
    "    in\n",
    "    let smax = List.map softmax_row (Util.transpose z) in\n",
    "    Util.transpose smax\n",
    "\n",
    "  let tanh (z : 'a t) : 'a t =\n",
    "    List.map (fun arr -> List.map (fun x -> tanh x) arr) z\n",
    "\n",
    "  let sigmoid (z : 'a t) : 'a t =\n",
    "    let sigmoid_scalar y = 1.0 /. (1.0 +. exp (-. y)) in\n",
    "    let sigmoid_row row = List.map sigmoid_scalar row in\n",
    "    List.map sigmoid_row z\n",
    "\n",
    "  let sigmoid_derive (z : 'a t) : 'a t =\n",
    "    let s = sigmoid z in\n",
    "    let s_sub = Util.sub_scalar s 1.0 in\n",
    "    List.map2 (fun r1 r2 -> List.map2 (fun v1 v2 -> v1 *. (-1. *. v2)) r1 r2) s s_sub\n",
    "end"
   ]
  },
  {
   "cell_type": "code",
   "execution_count": 4,
   "metadata": {
    "vscode": {
     "languageId": "ocaml"
    }
   },
   "outputs": [
    {
     "data": {
      "text/plain": [
       "val load_csv : string -> (string -> 'a) -> 'a list list = <fun>\n"
      ]
     },
     "execution_count": 4,
     "metadata": {},
     "output_type": "execute_result"
    }
   ],
   "source": [
    "#require \"Csv\"\n",
    "\n",
    "let load_csv (file_name: string) (f: string -> 'a) = \n",
    "  Csv.load file_name \n",
    "  |> List.map (fun row -> List.map f row)"
   ]
  },
  {
   "cell_type": "code",
   "execution_count": 5,
   "metadata": {
    "vscode": {
     "languageId": "ocaml"
    }
   },
   "outputs": [
    {
     "data": {
      "text/plain": [
       "val train_x : float list list =\n",
       "  [[0.; 0.; 0.; 0.; 0.; 0.; 0.; 0.; 0.; 0.; 0.; 0.; 0.; 0.; 0.; 0.; 0.; 0.;\n",
       "    0.; 0.; 0.; 0.; 0.; 0.; 0.; 0.; 0.; 0.; 0.; 0.; 0.; 0.; 0.; 0.; 0.; 0.;\n",
       "    0.; 0.; 0.; 0.; 0.; 0.; 0.; 0.; 0.; 0.; 0.; 0.; 0.; 0.; 0.; 0.; 0.; 0.;\n",
       "    0.; 0.; 0.; 0.; 0.; 0.; 0.; 0.; 0.; 0.; 0.; 0.; 0.; 0.; 0.; 0.; 0.; 0.;\n",
       "    0.; 0.; 0.; 0.; 0.; 0.; 0.; 0.; 0.; 0.; 0.; 0.; 0.; 0.; 0.; 0.; 0.; 0.;\n",
       "    0.; 0.; 0.; 0.; 0.; 0.; 0.; 0.; 0.; 0.; 0.; 0.; 0.; 0.; 0.; 0.; 0.; 0.;\n",
       "    0.; 0.; 0.; 0.; 0.; 0.; 0.; 0.; 0.; 0.; 0.; 0.; 0.; 0.; 0.; 0.; 0.; 0.;\n",
       "    0.; 0.; 0.; 0.; 0.; 0.; 0.; 0.; 0.; 0.; 0.; 0.; 0.; 0.; 0.; 0.; 0.; 0.;\n",
       "    0.; 0.; 0.; 0.; 0.; 0.; 0.; 0.; 0.; 0.; 0.; 0.; 0.; 0.; 0.; 0.; 0.; 0.;\n",
       "    0.; 0.; 0.; 0.; 0.; 0.; 0.; 0.; 0.; 0.; 0.; 0.; 0.; 0.; 0.; 0.; 0.; 0.;\n",
       "    0.; 0.; 0.; 0.; 0.; 0.; 0.; 0.; 0.; 0.; 0.; 0.; 0.; 0.; 0.; 0.; 0.; 0.;\n",
       "    0.; 0.; 0.; 0.; 0.; 0.; 0.; 0.; 0.; 0.; 0.; 0.; 0.; 0.; 0.; 0.; 0.; 0.;\n",
       "    0.; 0.; 0.; 0.; 0.; 0.; 0.; 0.; 0.; 0.; 0.; 0.; 0.; 0.; 0.; 0.; 0.; 0.;\n",
       "    0.; 0.; 0.; 0.; 0.; 0.; 0.; 0.; 0.; 0.; 0.; 0.; 0.; 0.; 0.; 0.; 0.; 0.;\n",
       "    0.; 0.; 0.; 0.; 0.; 0.; 0.; 0.; 0.; 0.; 0.; 0.; 0.; 0.; 0.; 0.; 0.; 0.;\n",
       "    0.; 0.; 0.; 0.; 0.; 0.; 0.; 0.; 0.; 0.; 0.; 0.; 0.; 0.; 0.; 0.; 0.; 0.;\n",
       "    0.; 0.; 0.; 0.; 0.; 0.; 0.; 0.; 0.; 0.; ...];\n",
       "   ...]\n"
      ]
     },
     "execution_count": 5,
     "metadata": {},
     "output_type": "execute_result"
    },
    {
     "data": {
      "text/plain": [
       "val train_y : int list =\n",
       "  [1; 0; 1; 4; 0; 0; 7; 3; 5; 3; 8; 9; 1; 3; 3; 1; 2; 0; 7; 5; 8; 6; 2; 0; 2;\n",
       "   3; 6; 9; 9; 7; 8; 9; 4; 9; 2; 1; 3; 1; 1; 4; 9; 1; 4; 4; 2; 6; 3; 7; 7; 4;\n",
       "   7; 5; 1; 9; 0; 2; 2; 3; 9; 1; 1; 1; 5; 0; 6; 3; 4; 8; 1; 0; 3; 9; 6; 2; 6;\n",
       "   4; 7; 1; 4; 1; 5; 4; 8; 9; 2; 9; 9; 8; 9; 6; 3; 6; 4; 6; 2; 9; 1; 2; 0; 5;\n",
       "   9; 2; 7; 7; 2; 8; 8; 5; 0; 6; 0; 0; 2; 9; 0; 4; 7; 7; 1; 5; 7; 9; 4; 6; 1;\n",
       "   5; 7; 6; 5; 0; 4; 8; 7; 6; 1; 8; 7; 3; 7; 3; 1; 0; 3; 4; 5; 4; 0; 5; 4; 0;\n",
       "   3; 5; 1; 0; 8; 3; 7; 0; 9; 6; 6; 9; 5; 4; 6; 9; 3; 5; 4; 2; 4; 8; 7; 7; 5;\n",
       "   8; 8; 8; 2; 6; 9; 3; 1; 0; 4; 1; 5; 9; 0; 6; 2; 1; 3; 0; 6; 0; 0; 8; 3; 2;\n",
       "   0; 0; 6; 0; 0; 4; 7; 2; 7; 1; 9; 9; 3; 9; 8; 4; 6; 6; 5; 3; 8; 1; 8; 7; 1;\n",
       "   3; 7; 6; 3; 6; 3; 6; 3; 2; 3; 2; 2; 7; 9; 2; 3; 2; 7; 5; 5; 8; 8; 2; 0; 1;\n",
       "   4; 0; 6; 3; 7; 1; 1; 1; 4; 7; 0; 2; 9; 2; 0; 5; 6; 0; 8; 9; 6; 2; 0; 0; 7;\n",
       "   2; 0; 4; 2; 0; 9; 1; 6; 9; 3; 0; 0; 2; 0; 6; 8; 4; 0; 7; 2; 1; 9; 5; 2;\n",
       "   ...]\n"
      ]
     },
     "execution_count": 5,
     "metadata": {},
     "output_type": "execute_result"
    }
   ],
   "source": [
    "let train_x : 'a list list = \n",
    "  let temp = load_csv \"../data/train_small.csv\" float_of_string in\n",
    "  Util.transpose temp \n",
    "  |> List.map (fun row -> List.map (fun x -> x /. 255.0) row)\n",
    "  \n",
    "let train_y : 'a list = \n",
    "  let temp = load_csv \"../data/train_small_labels.csv\" int_of_string in\n",
    "  0 |> List.nth (Util.transpose temp)"
   ]
  },
  {
   "cell_type": "code",
   "execution_count": 6,
   "metadata": {
    "vscode": {
     "languageId": "ocaml"
    }
   },
   "outputs": [
    {
     "data": {
      "text/plain": [
       "module Prop :\n",
       "  sig\n",
       "    val forward_prop :\n",
       "      float list list ->\n",
       "      float list list ->\n",
       "      float list list ->\n",
       "      float list list ->\n",
       "      float list list -> float list list * float list list * float list list\n",
       "    val backward_prop :\n",
       "      float list list ->\n",
       "      float list list ->\n",
       "      float list list ->\n",
       "      float list list ->\n",
       "      float list list ->\n",
       "      float list list -> float list list * float * float list list * float\n",
       "    val update_params_gd :\n",
       "      float list list ->\n",
       "      float list list ->\n",
       "      float list list ->\n",
       "      float list list ->\n",
       "      float list list ->\n",
       "      float ->\n",
       "      float list list ->\n",
       "      float ->\n",
       "      float ->\n",
       "      float list list * float list list * float list list * float list list\n",
       "    val update_params_gdm :\n",
       "      float list list ->\n",
       "      float list list ->\n",
       "      float list list ->\n",
       "      float list list ->\n",
       "      float list list ->\n",
       "      float ->\n",
       "      float list list ->\n",
       "      float ->\n",
       "      float list list ->\n",
       "      float ->\n",
       "      float list list ->\n",
       "      float ->\n",
       "      float ->\n",
       "      float ->\n",
       "      float ->\n",
       "      float list list * float list list * float list list * float list list *\n",
       "      float list list * float * float list list * float\n",
       "  end\n"
      ]
     },
     "execution_count": 6,
     "metadata": {},
     "output_type": "execute_result"
    }
   ],
   "source": [
    "module Prop  = struct\n",
    "  let forward_prop (w1: float list list) (b1: float list list) (w2: float list list) (b2: float list list) (train_x: float list list) = \n",
    "    let z1_dot = Util.dot_product w1 train_x in\n",
    "    let z1 = Util.add_mat b1 z1_dot in\n",
    "(*     let _ = asrt(10=100, \"\"^(string_of_int (fst (Util.shape z1)))^\" \"^(string_of_int (snd (Util.shape z1)))) in *)\n",
    "    let a1 = Activation.relu z1 in\n",
    "    let z2 = Util.dot_product w2 a1\n",
    "    |> Util.add_mat b2 in\n",
    "    let a2 = Activation.sigmoid z2 in\n",
    "    (z1, a1, a2)\n",
    "    \n",
    "  let backward_prop z1 a1 a2 w2 train_x train_y:\n",
    "    (float list list * float * float list list * float) =\n",
    "    let m_inv = (1. /. (float_of_int (List.length train_y))) in\n",
    "    let dz2 = Util.sub_mat a2 train_y in\n",
    "    let dw2 = Util.dot_product dz2 (Util.transpose a1) \n",
    "    |> Util.mult_scalar m_inv in\n",
    "    let db2 = m_inv *. Util.sum_2d_matrix dz2 in\n",
    "    let dz1 = Util.dot_product (Util.transpose w2) dz2 \n",
    "    |> Util.mult_mat (Activation.relu_derive z1) in\n",
    "    let dw1 = Util.dot_product dz1 (Util.transpose train_x) \n",
    "    |> Util.mult_scalar m_inv in\n",
    "    let db1 = m_inv *. Util.sum_2d_matrix dz1 in\n",
    "    (dw1, db1, dw2, db2)\n",
    "\n",
    "    \n",
    "  let update_params_gd w1 b1 w2 b2 dw1 db1 dw2 db2 lr = \n",
    "    let w1 = Util.mult_scalar lr dw1 \n",
    "    |> Util.sub_mat w1 in\n",
    "    let b1 = lr *. db1 \n",
    "    |> Util.sub_scalar b1 in\n",
    "    let w2 = Util.mult_scalar lr dw2 \n",
    "    |> Util.sub_mat w2 in\n",
    "    let b2 = lr *. db2 \n",
    "    |> Util.sub_scalar b2 in\n",
    "    (w1, b1, w2, b2)\n",
    "    \n",
    "  let update_params_gdm w1 b1 w2 b2 dw1 db1 dw2 db2 v_dw1 v_db1 v_dw2 v_db2 lr beta1 beta2 = \n",
    "    let v_dw1 = Util.add_mat (Util.mult_scalar beta1 v_dw1) (Util.mult_scalar beta2 dw1) in\n",
    "    let v_db1 = (beta2 *. db1) +. (beta1 *. v_db1) in\n",
    "    let v_dw2 = Util.add_mat (Util.mult_scalar beta1 v_dw2) (Util.mult_scalar beta2 dw2) in\n",
    "    let v_db2 = (beta2 *. db2) +. (beta1 *. v_db2) in\n",
    "    let w1 = Util.sub_mat w1 (Util.mult_scalar lr v_dw1) in\n",
    "    let b1 = Util.sub_scalar b1 (lr *. v_db1) in\n",
    "    let w2 = Util.sub_mat w2 (Util.mult_scalar lr v_dw2) in\n",
    "    let b2 = Util.sub_scalar b2 (lr *. v_db2) in\n",
    "    (w1, b1, w2, b2, v_dw1, v_db1, v_dw2, v_db2)\n",
    "end"
   ]
  },
  {
   "cell_type": "code",
   "execution_count": 7,
   "metadata": {},
   "outputs": [
    {
     "data": {
      "text/plain": [
       "module type MONAD =\n",
       "  sig\n",
       "    type 'a t\n",
       "    val return : 'a -> 'a t\n",
       "    val ( >>= ) : 'a t -> ('a -> 'b t) -> 'b t\n",
       "    val run : 'a t -> 'a\n",
       "  end\n"
      ]
     },
     "execution_count": 7,
     "metadata": {},
     "output_type": "execute_result"
    },
    {
     "data": {
      "text/plain": [
       "module Monad : MONAD\n"
      ]
     },
     "execution_count": 7,
     "metadata": {},
     "output_type": "execute_result"
    }
   ],
   "source": [
    "module type MONAD = sig\n",
    "  type 'a t\n",
    "  val return : 'a -> 'a t\n",
    "  val (>>=)  : 'a t -> ('a -> 'b t) -> 'b t\n",
    "  val run : 'a t -> 'a\n",
    "end\n",
    "\n",
    "module Monad : MONAD = struct\n",
    "  type 'a t = 'a\n",
    "  let return x = x\n",
    "  let (>>=) x f = f x\n",
    "  let run x = x\n",
    "end"
   ]
  },
  {
   "cell_type": "code",
   "execution_count": 8,
   "metadata": {},
   "outputs": [],
   "source": [
    "(* List.nth (Util.transpose train_x) ((0+1000) mod 1000) *)"
   ]
  },
  {
   "cell_type": "code",
   "execution_count": 9,
   "metadata": {},
   "outputs": [
    {
     "data": {
      "text/plain": [
       "module Gd :\n",
       "  sig\n",
       "    type algorithm_type = GD | SGD | MBGD\n",
       "    val data :\n",
       "      float list list ->\n",
       "      float list list -> algorithm_type -> float list list * float list list\n",
       "  end\n"
      ]
     },
     "execution_count": 9,
     "metadata": {},
     "output_type": "execute_result"
    }
   ],
   "source": [
    "module Gd = struct\n",
    "  type algorithm_type = GD | SGD | MBGD\n",
    "  let data x y type_ = \n",
    "    match type_ with\n",
    "    | GD -> (x, y)\n",
    "    | SGD -> \n",
    "      let size = snd (Util.shape x) in\n",
    "      let _ = asrt (snd (Util.shape x) = snd (Util.shape y), \"Shape error..\") in\n",
    "      let ri = Util.random_indices 1 0 (size-1) in\n",
    "      let x', y' = Util.select_indices (Util.transpose x) ri, Util.select_indices (Util.transpose y) ri in\n",
    "      (Util.transpose x', Util.transpose y')\n",
    "    | MBGD ->\n",
    "      let size = snd (Util.shape x) in\n",
    "      let _ = asrt (snd (Util.shape x) = snd (Util.shape y), \"Shape error..\") in\n",
    "      let ri = Util.random_indices 4 0 (size-1) in\n",
    "      let x', y' = Util.select_indices (Util.transpose x) ri, Util.select_indices (Util.transpose y) ri in\n",
    "      (Util.transpose x', Util.transpose y')\n",
    "end"
   ]
  },
  {
   "cell_type": "code",
   "execution_count": 10,
   "metadata": {},
   "outputs": [
    {
     "data": {
      "text/plain": [
       "type optim = VGD | GDM\n"
      ]
     },
     "execution_count": 10,
     "metadata": {},
     "output_type": "execute_result"
    }
   ],
   "source": [
    "type optim = VGD | GDM"
   ]
  },
  {
   "cell_type": "code",
   "execution_count": 11,
   "metadata": {},
   "outputs": [
    {
     "data": {
      "text/plain": [
       "val gradient_descent :\n",
       "  float list list ->\n",
       "  float list list ->\n",
       "  float ->\n",
       "  int ->\n",
       "  Gd.algorithm_type ->\n",
       "  optim ->\n",
       "  float ->\n",
       "  float ->\n",
       "  (float list list * float list list * float list list * float list list)\n",
       "  Monad.t = <fun>\n"
      ]
     },
     "execution_count": 11,
     "metadata": {},
     "output_type": "execute_result"
    }
   ],
   "source": [
    "let gradient_descent train_x train_y lr iterations type_ optim_ beta1 beta2 =\n",
    "  let open Monad in\n",
    "  let w1, b1, w2, b2, v_w1, v_b1, v_w2, v_b2 = Util.init_params in\n",
    "  let rec batch_loop i w1 b1 w2 b2 v_w1 (v_b1: float) v_w2 (v_b2: float) iterations train_x train_y (x, y) lr =\n",
    "    if i = iterations then return (w1, b1, w2, b2)\n",
    "    else Prop.forward_prop w1 b1 w2 b2 x \n",
    "         |> return >>= fun (z1, a1, a2) ->\n",
    "         Prop.backward_prop z1 a1 a2 w2 x y \n",
    "         |> return >>= fun (dw1, db1, dw2, db2) ->\n",
    "         if optim_ = GDM then \n",
    "           Prop.update_params_gdm w1 b1 w2 b2 dw1 db1 dw2 db2 v_w1 v_b1 v_w2 v_b2 lr beta1 beta2\n",
    "           |> return >>= fun (w1', b1', w2', b2', v_dw1', v_db1', v_dw2', v_db2') ->\n",
    "           if i mod 10 = 0 then Printf.printf \"Iteration: %d\\n\" i;\n",
    "           batch_loop (i + 1) w1' b1' w2' b2' v_dw1' v_db1' v_dw2' v_db2' iterations train_x train_y (Gd.data train_x train_y type_) lr\n",
    "         else \n",
    "           Prop.update_params_gd w1 b1 w2 b2 dw1 db1 dw2 db2 lr \n",
    "           |> return >>= fun (w1', b1', w2', b2') ->\n",
    "           batch_loop (i + 1) w1' b1' w2' b2' v_w1 v_b1 v_w2 v_b2 iterations train_x train_y (Gd.data train_x train_y type_) lr\n",
    "  in\n",
    "  batch_loop 0 w1 b1 w2 b2 v_w1 v_b1 v_w2 v_b2 iterations train_x train_y (Gd.data train_x train_y type_) lr"
   ]
  },
  {
   "cell_type": "code",
   "execution_count": 12,
   "metadata": {},
   "outputs": [
    {
     "data": {
      "text/plain": [
       "- : int * int = (784, 4000)\n"
      ]
     },
     "execution_count": 12,
     "metadata": {},
     "output_type": "execute_result"
    },
    {
     "data": {
      "text/plain": [
       "- : int * int = (10, 4000)\n"
      ]
     },
     "execution_count": 12,
     "metadata": {},
     "output_type": "execute_result"
    }
   ],
   "source": [
    "(Util.shape train_x);; \n",
    "(Util.shape (Util.one_hot train_y));;"
   ]
  },
  {
   "cell_type": "code",
   "execution_count": 13,
   "metadata": {
    "vscode": {
     "languageId": "ocaml"
    }
   },
   "outputs": [
    {
     "data": {
      "text/plain": [
       "val result :\n",
       "  (float list list * float list list * float list list * float list list)\n",
       "  Monad.t = <abstr>\n"
      ]
     },
     "execution_count": 13,
     "metadata": {},
     "output_type": "execute_result"
    },
    {
     "data": {
      "text/plain": [
       "val w1 : float list list =\n",
       "  [[0.426038888360971146; -0.158361411401767904; 0.0978229458531059137;\n",
       "    0.366881591014789565; 0.286668034537743921; 0.125315015859070122;\n",
       "    -0.409011015216012297; -0.188990030213231575; 0.059742196386998736;\n",
       "    -0.34615215119734255; -0.490233784604748313; 0.256637587325766692;\n",
       "    -0.251656740474212159; 0.152787092477089326; 0.48717731495272254;\n",
       "    -0.332554522532503172; 0.0574582248835058262; 0.258516786217372951;\n",
       "    0.18532904647625259; -0.0324781508558906196; -0.171649560924790556;\n",
       "    0.225258114528568254; 0.260843272481697697; 0.444543207513039773;\n",
       "    -0.0466829106219362466; 0.0396486806025953; 0.36819664704757471;\n",
       "    0.0449662633954558411; 0.130257917730493555; -0.42187402863574619;\n",
       "    -0.375256835869513194; -0.022730071996965362; -0.229233104415120292;\n",
       "    0.38945947157575922; -0.199121535032691421; -0.217841553708043145;\n",
       "    0.0565473408327369365; -0.395298547224043; 0.103989915708647573;\n",
       "    0.360497981031593695; 0.48943067314257882; -0.339694153338264859;\n",
       "    -0.426797908865498399; -0.135400126024697198; 0.0620857600008287713;\n",
       "    0.488592541624459198; -0.405824100775576957; 0.207942539774618851;\n",
       "    -0.351462418586837744; 0.448945076777336749; -0.239606332907712327;\n",
       "    -0.212734158871041967; 0.00853007567102504; -0.337843484576465458;\n",
       "    -0.122118054449384505; 0.376042480026804182; -0.313138545844993899;\n",
       "    -0.0596257194518746703; 0.246738814001851936; 0.0318424309062490529;\n",
       "    -0.27952546455631716; 0.0863902139273025; 0.223323576520247702;\n",
       "    -0.0127900205644769782; -0.0061764123802213744; 0.332331193660988067;\n",
       "    0.427882425360738838; 0.204842488143925; 0.330103641564541805;\n",
       "    -0.172439437059254963; -0.382123996083546413; 0.307404763289394145;\n",
       "    -0.424925459782642068; -0.491982544372820463; 0.286661565155642784;\n",
       "    -0.0680300414191699; -0.00723035599197063839; -0.0432239300242296398;\n",
       "    -0.283197382480169402; 0.214949323585700069; 0.197996660137878422;\n",
       "    -0.163429852580197432; 0.0532280498237949207; -0.382350618403808;\n",
       "    0.060894172660677981; 0.149029289156137779; -0.417487863577329699;\n",
       "    0.0817998697415434073; -0.192981163695874536; -0.26403094307109;\n",
       "    -0.270114088887362658; -0.425902993493545878; 0.0889818500602555;\n",
       "    0.348100812443632; 0.422239627823871588; -0.00860692917536235759;\n",
       "    -0.191971283148493571; 0.250166162260550273; 0.328209583341240951;\n",
       "    0.272594573837755427; -0.303098318506061393; 0.205529513449451695;\n",
       "    0.0790321369368337523; 0.164561182273337492; -0.370257040672201221;\n",
       "    -0.00629762309347731142; 0.193655766031414767; 0.488946865116289153;\n",
       "    -0.216405009583590047; -0.0495505815514633574; -0.485958711732674686;\n",
       "    0.0584299011323263784; -0.0679344359060337077; 0.0357188362682961946;\n",
       "    -0.235698665575383492; 0.431517784813786331; -0.248545582868232862;\n",
       "    -0.120841175372247978; 0.432949757025500759; 0.28638173987964;\n",
       "    0.481852412893180593; 0.0913735510239407356; -0.284479602597751291;\n",
       "    0.312839726201253721; 0.33988035129595412; -0.362349627586983747;\n",
       "    0.0430179935342175357; 0.0138129501892482187; -0.437075510966622061;\n",
       "    0.279895416685611353; -0.131835702021295686; -0.196290988851265058;\n",
       "    0.134243692626429101; -0.244393431699964025; 0.02770451794062323;\n",
       "    -0.494296647817521695; 0.0264741808785566857; -0.408636975063175922;\n",
       "    -0.392774880649930158; -0.0216106871327469419; 0.113175606616649049;\n",
       "    0.252972584853219384; 0.185418949283025492; -0.3671122449959342;\n",
       "    -0.317253077109922732; 0.152251520342244095; -0.165262843201762;\n",
       "    -0.400077775968154192; -0.285335583038538565; -0.257499082156475545;\n",
       "    -0.235410072148568073; 0.357071077981216789; -0.259800527135832848;\n",
       "    -0.437368600129375673; 0.210453880700624568; 0.40857114698492053;\n",
       "    0.421272063934549357; 0.148368046410604942; -0.459835714596698475;\n",
       "    0.194312945978487972; -0.470351454363932719; 0.427719584580378731;\n",
       "    0.365419363474884684; 0.381543536768877534; 0.38880306085677685;\n",
       "    0.472786600081123387; -0.292344560500406581; 0.156143126398680443;\n",
       "    0.42022529790391816; -0.0424375442557174964; -0.0624670131163351239;\n",
       "    0.490478996227236674; 0.19192222701971029; -0.145302679107613519;\n",
       "    0.0266875004173693364; -0.066913278032561252; 0.254838216348159952;\n",
       "    0.10566662826595874; 0.433090021023535443; -0.392506883023987063;\n",
       "    0.0628773345422533742; -0.48862830557345821; -0.165768819763595615;\n",
       "    0.0356623877506737699; -0.145997580081183825; -0.0539330966610971213;\n",
       "    -0.024821234475092456; 0.419125703158774732; -0.293370370340884146;\n",
       "    -0.263295276148133528; 0.400389831023707621; 0.48771846230573046;\n",
       "    0.00408445917409028247; 0.00182434597839897794; -0.408082275520315896;\n",
       "    -0.499779674436377774; 0.369384380515687116; -0.184494641162808393;\n",
       "    0.108699856115614057; 0.450050088138203686; -0.0888803442478409145;\n",
       "    0.355089600947606332; -0.0184461632687538124; 0.470417481247673908;\n",
       "    -0.0473626023478799785; 0.0221161803642802024; -0.437833772195303728;\n",
       "    0.276316405790495434; 0.111552667654221796; -0.452722968008161197;\n",
       "    -0.165445006818332824; -0.168364073224770899; 0.0836925621264740793;\n",
       "    -0.250331026440908; -0.288450918073979157; 0.269762527877688452;\n",
       "    -0.415297226197475167; -0.10376307878054046; 0.169866059242633954;\n",
       "    0.109241918621711398; -0.0772915929958952197; 0.474959572799448448;\n",
       "    0.376690494971428036; 0.0679071506315707119; -0.496496881831030523;\n",
       "    -0.297381370910329956; -0.432507610928979713; -0.223387052970157651;\n",
       "    0.0706380233158875326; -0.405974632959673898; -0.270310253187562632;\n",
       "    0.0874828088505478219; 0.437933443617047113; -0.283107951357746912;\n",
       "    -0.438767426817230244; -0.4722892266478253; 0.0349987396892234;\n",
       "    0.0695209548456459242; -0.185962225545105941; 0.215331010510745824;\n",
       "    -0.362268173374301; -0.466236920757664708; -0.342318439955625164;\n",
       "    0.119029274353172787; -0.300299885354344098; -0.422713868390035552;\n",
       "    0.200839112331050534; -0.00330891907520153294; 0.444170058109463972;\n",
       "    0.387243604466180891; -0.327407491450235844; 0.0381976297129990039;\n",
       "    -0.0903022321394401639; -0.337539348951350626; -0.310466294746944094;\n",
       "    0.0902945604138889468; 0.0638275553579281674; 0.478907840446829103;\n",
       "    0.293856567134014; -0.302060819968282712; -0.0876317330265782291;\n",
       "    0.132356959947227876; 0.0838853753223054721; -0.097758594709154;\n",
       "    -0.28439801066884618; -0.358127062664006846; -0.00224093696475706223;\n",
       "    -0.358358389661538768; -0.259599513328588494; 0.170303033333106396;\n",
       "    -0.454397399753513564; -0.131909682080498109; 0.117776387676127761;\n",
       "    -0.214112695385716867; -0.096333037445284167; 0.000402718498027199168;\n",
       "    -0.0120937504279070018; 0.203194672727106562; -0.370191783867660607;\n",
       "    -0.456680850177444253; -0.244966455142828332; 0.380889442112898102;\n",
       "    -0.246240695292371137; -0.2379746718956533; -0.173006256292844052;\n",
       "    0.237553316773125633; -0.0805472593382281; 0.404905156592371362;\n",
       "    -0.147617540561020222; -0.243380381894175185; -0.280199056036482597;\n",
       "    0.344898784694797234; 0.483921248083458155; -0.256818380060136409;\n",
       "    -0.306730670082063672; -0.313332101156949761; 0.0143601470588856639;\n",
       "    -0.459415536672934388; ...];\n",
       "   ...]\n",
       "val b1 : float list list =\n",
       "  [[0.162436433018258303]; [-0.299052965853020547]; [-0.274545047660417485];\n",
       "   [-0.233598860444110684]; [-0.083699928574552912]; [-0.296244136370879];\n",
       "   [-0.127442104961334929]; [0.429562229198107548]; [0.0527987374480562294];\n",
       "   [0.28778744685982488]]\n",
       "val w2 : float list list =\n",
       "  [[-0.0554240456158108241; 0.00255782766707813702; -0.127618943035047228;\n",
       "    -0.332585690503393816; 0.345038860162153238; -0.141834404412132353;\n",
       "    0.350232575192268136; 0.217616134422945418; -0.382255726092792514;\n",
       "    -0.480915007157576568];\n",
       "   [-0.343059977718481568; -0.0667277305816947469; 0.235204876782096395;\n",
       "    -0.416925671976937806; -0.243018022531431871; -0.489239880724200105;\n",
       "    -0.126043557292606467; -0.214080505150805761; -0.103180202986638089;\n",
       "    -0.254855856593222851];\n",
       "   [-0.355071580684735377; 0.446363988727758065; 0.203317270792554461;\n",
       "    0.429877017810456341; -0.0328672466418109821; 0.0510966187549190681;\n",
       "    -0.2778095273772348; -0.190720137269040718; -0.504102856094107543;\n",
       "    0.382176996999736285];\n",
       "   [0.41959119167854575; 0.395956609401766246; -0.494134896444341498;\n",
       "    -0.447827700808732576; 0.104515511037859263; -0.109974619885001609;\n",
       "    0.147445609981734588; -0.18390431214368852; -0.343294564816765957;\n",
       "    -0.155279597087155274];\n",
       "   [0.0316580461079245604; -0.324924012271291862; 0.0255363052262046752;\n",
       "    0.00279663073461139389; 0.358145506240763911; 0.078477574896004;\n",
       "    0.0989975155393611; -0.17854709143068051; -0.314731817895665567;\n",
       "    0.0537232793778180881];\n",
       "   [0.438417103964122312; 0.303190327921786407; 0.279476509572015308;\n",
       "    0.110173486998254216; 0.131237969091230811; -0.199690585181699076;\n",
       "    -0.254423412106131397; -0.430749894965803182; -0.0802278082161472506;\n",
       "    0.119801476597014317];\n",
       "   [0.319469405770481774; 0.0934875785135588361; -0.397877119015834668;\n",
       "    -0.0678244101347725; -0.488108099918870775; -0.185069842014276509;\n",
       "    0.261513050613369824; -0.211795028740507374; 0.0950064731731341261;\n",
       "    0.386536469873250688];\n",
       "   [0.45899029028322752; 0.466056256006362; -0.217710245228226795;\n",
       "    0.432964971308512858; 0.116421540274464663; -0.433652055852410512;\n",
       "    0.256444763066304648; 0.124919222438424737; -0.383025430837427461;\n",
       "    -0.490769816616562771];\n",
       "   [0.306308857984106453; 0.00150379222192457192; 0.185383605662448797;\n",
       "    -0.452567960225004562; 0.44536044676351294; 0.359784963520145662;\n",
       "    -0.0730803713981245662; -0.472697409206937813; -0.0529266149326985264;\n",
       "    -0.118888798016642178];\n",
       "   [0.279433780455546066; -0.469050278452559366; -0.387055272285579621;\n",
       "    -0.269230317211061276; -0.0367153541929328767; 0.0234922429353343273;\n",
       "    0.382835767350829; 0.277057509711432615; 0.183403261311040261;\n",
       "    -0.416491108677154942]]\n",
       "val b2 : float list list =\n",
       "  [[0.14574163692915898]; [-0.00351122703340342457];\n",
       "   [-0.00867353394811640199]; [-0.423252093666630691];\n",
       "   [0.0824523578095486404]; [0.19866348319868965]; [0.170998342972408124];\n",
       "   [0.0994253194252328193]; [0.318910774492550453]; [-0.316554987314071556]]\n"
      ]
     },
     "execution_count": 13,
     "metadata": {},
     "output_type": "execute_result"
    }
   ],
   "source": [
    "let result = gradient_descent train_x (Util.one_hot train_y) 0.06 2 MBGD VGD 0.9 0.1;;\n",
    "let w1, b1, w2, b2 = Monad.run result;;"
   ]
  },
  {
   "cell_type": "code",
   "execution_count": 14,
   "metadata": {},
   "outputs": [
    {
     "data": {
      "text/plain": [
       "- : unit = ()\n"
      ]
     },
     "execution_count": 14,
     "metadata": {},
     "output_type": "execute_result"
    }
   ],
   "source": [
    "flush_all();"
   ]
  },
  {
   "cell_type": "code",
   "execution_count": 15,
   "metadata": {
    "vscode": {
     "languageId": "ocaml"
    }
   },
   "outputs": [
    {
     "data": {
      "text/plain": [
       "val get_predictions : float list list -> int list = <fun>\n"
      ]
     },
     "execution_count": 15,
     "metadata": {},
     "output_type": "execute_result"
    }
   ],
   "source": [
    "let get_predictions (a2 : float list list) : int list =\n",
    "  let rec loop acc = function\n",
    "    | [] -> List.rev acc\n",
    "    | row :: rest ->\n",
    "      let (_, max_index) =\n",
    "        List.fold_left (fun (max_val, max_index) (x, i) ->\n",
    "          if x > max_val then (x, i) else (max_val, max_index)) (0., 0) (List.mapi (fun i x -> (x, i)) row) in\n",
    "      loop (max_index :: acc) rest\n",
    "  in\n",
    "  loop [] a2"
   ]
  },
  {
   "cell_type": "code",
   "execution_count": 16,
   "metadata": {},
   "outputs": [
    {
     "data": {
      "text/plain": [
       "val get_accuracy : 'a list -> 'a list -> float = <fun>\n"
      ]
     },
     "execution_count": 16,
     "metadata": {},
     "output_type": "execute_result"
    }
   ],
   "source": [
    "let get_accuracy pred y : float =\n",
    "  let diff = List.map2 (fun v1 v2 -> if v1 = v2 then 1 else 0) pred y in\n",
    "  let sum_and_len = List.fold_left (fun (s,l) x -> s+x, l+1) (0,0) diff in\n",
    "  float_of_int (fst (sum_and_len)) /. float_of_int (snd (sum_and_len))"
   ]
  },
  {
   "cell_type": "code",
   "execution_count": 17,
   "metadata": {
    "vscode": {
     "languageId": "ocaml"
    }
   },
   "outputs": [
    {
     "data": {
      "text/plain": [
       "val test_x : float list list =\n",
       "  [[0.; 0.; 0.; 0.; 0.; 0.; 0.; 0.; 0.; 0.; 0.; 0.; 0.; 0.; 0.; 0.; 0.; 0.;\n",
       "    0.];\n",
       "   [0.; 0.; 0.; 0.; 0.; 0.; 0.; 0.; 0.; 0.; 0.; 0.; 0.; 0.; 0.; 0.; 0.; 0.;\n",
       "    0.];\n",
       "   [0.; 0.; 0.; 0.; 0.; 0.; 0.; 0.; 0.; 0.; 0.; 0.; 0.; 0.; 0.; 0.; 0.; 0.;\n",
       "    0.];\n",
       "   [0.; 0.; 0.; 0.; 0.; 0.; 0.; 0.; 0.; 0.; 0.; 0.; 0.; 0.; 0.; 0.; 0.; 0.;\n",
       "    0.];\n",
       "   [0.; 0.; 0.; 0.; 0.; 0.; 0.; 0.; 0.; 0.; 0.; 0.; 0.; 0.; 0.; 0.; 0.; 0.;\n",
       "    0.];\n",
       "   [0.; 0.; 0.; 0.; 0.; 0.; 0.; 0.; 0.; 0.; 0.; 0.; 0.; 0.; 0.; 0.; 0.; 0.;\n",
       "    0.];\n",
       "   [0.; 0.; 0.; 0.; 0.; 0.; 0.; 0.; 0.; 0.; 0.; 0.; 0.; 0.; 0.; 0.; 0.; 0.;\n",
       "    0.];\n",
       "   [0.; 0.; 0.; 0.; 0.; 0.; 0.; 0.; 0.; 0.; 0.; 0.; 0.; 0.; 0.; 0.; 0.; 0.;\n",
       "    0.];\n",
       "   [0.; 0.; 0.; 0.; 0.; 0.; 0.; 0.; 0.; 0.; 0.; 0.; 0.; 0.; 0.; 0.; 0.; 0.;\n",
       "    0.];\n",
       "   [0.; 0.; 0.; 0.; 0.; 0.; 0.; 0.; 0.; 0.; 0.; 0.; 0.; 0.; 0.; 0.; 0.; 0.;\n",
       "    0.];\n",
       "   [0.; 0.; 0.; 0.; 0.; 0.; 0.; 0.; 0.; 0.; 0.; 0.; 0.; 0.; 0.; 0.; 0.; 0.;\n",
       "    0.];\n",
       "   [0.; 0.; 0.; 0.; 0.; 0.; 0.; 0.; 0.; 0.; 0.; 0.; 0.; 0.; 0.; 0.; 0.; 0.;\n",
       "    0.];\n",
       "   [0.; 0.; 0.; 0.; 0.; 0.; 0.; 0.; 0.; 0.; 0.; 0.; 0.; 0.; 0.; 0.; 0.; 0.;\n",
       "    0.];\n",
       "   [0.; 0.; 0.; 0.; 0.; 0.; 0.; 0.; 0.; 0.; 0.; 0.; 0.; 0.; 0.; 0.; 0.; 0.;\n",
       "    0.];\n",
       "   [0.; 0.; 0.; 0.; 0.; 0.; 0.; 0.; 0.; 0.; 0.; 0.; 0.; 0.; 0.; 0.; 0.; 0.;\n",
       "    ...];\n",
       "   ...]\n"
      ]
     },
     "execution_count": 17,
     "metadata": {},
     "output_type": "execute_result"
    },
    {
     "data": {
      "text/plain": [
       "val test_y : int list =\n",
       "  [1; 0; 1; 4; 0; 0; 7; 3; 5; 3; 8; 9; 1; 3; 3; 1; 2; 0; 7]\n"
      ]
     },
     "execution_count": 17,
     "metadata": {},
     "output_type": "execute_result"
    }
   ],
   "source": [
    "let test_x = \n",
    "  let temp = load_csv \"../data/test_small.csv\" float_of_string in\n",
    "  Util.transpose temp \n",
    "  |> List.map (fun row -> List.map (fun x -> x /. 255.0) row)\n",
    "  \n",
    "let test_y = \n",
    "  let temp = load_csv \"../data/test_small_labels.csv\" int_of_string in\n",
    "  0 |> List.nth (Util.transpose temp)"
   ]
  },
  {
   "cell_type": "code",
   "execution_count": 18,
   "metadata": {},
   "outputs": [
    {
     "data": {
      "text/plain": [
       "- : int = 19\n"
      ]
     },
     "execution_count": 18,
     "metadata": {},
     "output_type": "execute_result"
    }
   ],
   "source": [
    "List.length test_y"
   ]
  },
  {
   "cell_type": "code",
   "execution_count": 19,
   "metadata": {
    "vscode": {
     "languageId": "ocaml"
    }
   },
   "outputs": [
    {
     "data": {
      "text/plain": [
       "- : int list * float =\n",
       "([9; 2; 0; 9; 2; 8; 9; 6; 9; 0; 9; 7; 0; 6; 9; 6; 5; 0; 2],\n",
       " 0.0526315789473684181)\n"
      ]
     },
     "execution_count": 19,
     "metadata": {},
     "output_type": "execute_result"
    }
   ],
   "source": [
    "let _, _, a2 = Prop.forward_prop w1 b1 w2 b2 test_x in\n",
    "let preds = get_predictions (Util.transpose a2) in\n",
    "(preds, get_accuracy preds test_y)"
   ]
  },
  {
   "cell_type": "code",
   "execution_count": 20,
   "metadata": {},
   "outputs": [],
   "source": [
    "(* let gradient_descent train_x train_y lr iterations m_inv =\n",
    "  let w1, b1, w2, b2 = Util.init_params in\n",
    "  let rec loop i w1 b1 w2 b2 iterations train_x train_y lr m_inv =\n",
    "    if i = iterations then (w1, b1, w2, b2)\n",
    "    else\n",
    "      let z1, a1, z2, a2 = Prop.forward_prop w1 b1 w2 b2 train_x in\n",
    "      let dw1, db1, dw2, db2 = Prop.backward_prop z1 a1 z2 a2 w1 w2 train_x train_y m_inv in\n",
    "      let w1', b1', w2', b2' = Prop.update_params w1 b1 w2 b2 dw1 db1 dw2 db2 lr in\n",
    "      let _ = print_endline \"Iteration\" in\n",
    "      loop (i + 1) w1' b1' w2' b2' iterations train_x train_y lr m_inv\n",
    "  in\n",
    "  loop 0 w1 b1 w2 b2 iterations train_x train_y lr m_inv *)"
   ]
  },
  {
   "cell_type": "code",
   "execution_count": null,
   "metadata": {},
   "outputs": [],
   "source": []
  }
 ],
 "metadata": {
  "kernelspec": {
   "display_name": "OCaml 4.12.1",
   "language": "OCaml",
   "name": "ocaml-jupyter-4.12.1"
  },
  "language_info": {
   "codemirror_mode": "text/x-ocaml",
   "file_extension": ".ml",
   "mimetype": "text/x-ocaml",
   "name": "OCaml",
   "nbconverter_exporter": null,
   "pygments_lexer": "OCaml",
   "version": "4.12.1"
  },
  "widgets": {
   "application/vnd.jupyter.widget-state+json": {
    "state": {},
    "version_major": 2,
    "version_minor": 0
   }
  }
 },
 "nbformat": 4,
 "nbformat_minor": 4
}
