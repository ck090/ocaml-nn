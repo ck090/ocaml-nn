{
 "cells": [
  {
   "cell_type": "code",
   "execution_count": 1,
   "metadata": {
    "vscode": {
     "languageId": "ocaml"
    }
   },
   "outputs": [
    {
     "data": {
      "text/plain": [
       "val asrt : bool * string -> unit = <fun>\n"
      ]
     },
     "execution_count": 1,
     "metadata": {},
     "output_type": "execute_result"
    }
   ],
   "source": [
    "(* Required definitions *)\n",
    "let asrt = function\n",
    " | (true,_) -> ()\n",
    " | (false, str) -> failwith (\"Assertion failure: \"^str)"
   ]
  },
  {
   "cell_type": "code",
   "execution_count": 2,
   "metadata": {
    "vscode": {
     "languageId": "ocaml"
    }
   },
   "outputs": [
    {
     "data": {
      "text/plain": [
       "module Util :\n",
       "  sig\n",
       "    type 'a t = float list list\n",
       "    val get_shape : 'a t -> int * int\n",
       "    val float_1d : int -> float list\n",
       "    val float_2d : int -> int -> float list list\n",
       "    val float_2d_zeros : int -> int -> float list list\n",
       "    val transpose : 'a list list -> 'a list list\n",
       "    val dot_product : float list list -> float list list -> float list list\n",
       "    val add_scalar : float -> float list list -> float list list\n",
       "    val sub_scalar : float list list -> float -> float list list\n",
       "    val mult_scalar : float -> float list list -> float list list\n",
       "    val add_mat : float list list -> float list list -> float list list\n",
       "    val sub_mat : float list list -> float list list -> float list list\n",
       "    val mult_mat : float list list -> float list list -> float list list\n",
       "    val sum_2d_matrix : float list list -> float\n",
       "    val one_hot : int list -> float list list\n",
       "    val init_params :\n",
       "      float list list * float list list * float list list * float list list *\n",
       "      float list list * float * float list list * float\n",
       "    val random_indices : int -> int -> int -> int list\n",
       "    val select_indices : 'a list -> int list -> 'a list\n",
       "  end\n"
      ]
     },
     "execution_count": 2,
     "metadata": {},
     "output_type": "execute_result"
    }
   ],
   "source": [
    "module Util = struct\n",
    "  type 'a t = float list list\n",
    "  let get_shape (l: 'a t) = (List.length l, List.length (List.nth l 0))\n",
    "  \n",
    "  let float_1d size = List.init size (fun _ -> (Random.float 1.0) -. 0.5)\n",
    "  \n",
    "  let float_2d rows cols = List.init rows (fun _ -> List.init cols (fun _ -> (Random.float 1.0) -. 0.5))\n",
    "  \n",
    "  let float_2d_zeros rows cols = List.init rows (fun _ -> List.init cols (fun _ -> 0.0))\n",
    "  \n",
    "  let transpose (lst : 'a list list) : 'a list list =\n",
    "    let rec transpose_helper acc lst = match lst with\n",
    "    | [] -> acc\n",
    "    | [] :: _ -> acc\n",
    "    | _ ->\n",
    "        let column = List.map List.hd lst in\n",
    "        let remainder = List.map List.tl lst in\n",
    "        transpose_helper (column :: acc) remainder\n",
    "    in\n",
    "    List.rev (transpose_helper [] lst)\n",
    "  \n",
    "  let dot_product (lst1 : float list list) (lst2 : float list list) : float list list =\n",
    "    let dot_helper (lst1 : float list) (lst2 : float list) : float =\n",
    "      List.fold_left2 (fun acc x y -> acc +. x *. y) 0. lst1 lst2 in\n",
    "    let transposed = transpose lst2 in\n",
    "      List.map (fun row -> List.map (dot_helper row) transposed) lst1\n",
    "      \n",
    "  let add_scalar (s : float) (lst : float list list) = List.map (fun row -> List.map (fun x -> x +. s) row) lst\n",
    "  \n",
    "  let sub_scalar (lst: float list list) (s: float) = List.map (fun row -> List.map (fun x -> x -. s) row) lst\n",
    "  \n",
    "  let mult_scalar (s : float) (lst : float list list) = List.map (fun row -> List.map (fun x -> x *. s) row) lst\n",
    "  \n",
    "  let add_mat (m1 : float list list) (m2 : float list list) : float list list =\n",
    "    let n_rows1, n_cols1 = get_shape m1 in\n",
    "    let n_rows2, n_cols2 = get_shape m2 in\n",
    "    if n_rows1 <> n_rows2 || n_cols1 <> n_cols2 then\n",
    "      let rec repeat_column col n = match n with\n",
    "      | 0 -> []\n",
    "      | _ -> col :: (repeat_column col (n-1))\n",
    "      in\n",
    "      let m1_resized = List.map (fun row -> repeat_column (List.hd row) n_cols2) m1 in\n",
    "      List.map2 (List.map2 (+.)) m1_resized m2\n",
    "    else\n",
    "      List.map2 (fun row1 row2 -> List.map2 (fun x y -> x +. y) row1 row2) m1 m2\n",
    "  \n",
    "  let sub_mat (l1: float list list) (l2: float list list) = \n",
    "    List.map2 (fun row1 row2 -> List.map2 (fun x y -> x -. y) row1 row2) l1 l2\n",
    "    \n",
    "  let mult_mat (l1: float list list) (l2: float list list) = \n",
    "    List.map2 (fun row1 row2 -> List.map2 (fun x y -> x *. y) row1 row2) l1 l2\n",
    "  \n",
    "  let sum_2d_matrix (matrix : float list list) : float =\n",
    "    List.fold_left (fun acc row -> acc +. List.fold_left (+.) 0. row) 0. matrix\n",
    "\n",
    "  let one_hot (y: int list): float list list =\n",
    "    let n = List.fold_left max 0 y + 1 in\n",
    "    let temp = List.init (List.length y) (fun i -> List.init n (fun j -> if j = List.nth y i then 1.0 else 0.0)) in\n",
    "    transpose temp\n",
    "    \n",
    "  let init_params =\n",
    "    let w1 = float_2d 10 784 in\n",
    "    let b1 = float_2d 10 1 in\n",
    "    let v_w1 = float_2d_zeros 10 784 in\n",
    "    let v_b1 = 0.0 in\n",
    "    let w2 = float_2d 10 10 in\n",
    "    let b2 = float_2d 10 1 in\n",
    "    let v_w2 = float_2d_zeros 10 10 in\n",
    "    let v_b2 = 0.0 in\n",
    "    (w1, b1, w2, b2, v_w1, v_b1, v_w2, v_b2)\n",
    "\n",
    "  let random_indices n x y =\n",
    "    let rec aux acc n =\n",
    "    if n = 0 then acc\n",
    "    else\n",
    "      let r = Random.int (y - x + 1) + x in\n",
    "      if List.mem r acc then aux acc n\n",
    "      else aux (r :: acc) (n-1)\n",
    "    in aux [] n\n",
    "\n",
    "  let select_indices matrix indices =\n",
    "    List.map (fun i -> List.nth matrix i) indices\n",
    "end"
   ]
  },
  {
   "cell_type": "code",
   "execution_count": 4,
   "metadata": {
    "vscode": {
     "languageId": "ocaml"
    }
   },
   "outputs": [
    {
     "data": {
      "text/plain": [
       "module Activation :\n",
       "  sig\n",
       "    val relu : float list list -> float list list\n",
       "    val relu_derive : float list list -> float list list\n",
       "    val softmax : float list list -> float list list\n",
       "    val tanh : float list list -> float list list\n",
       "    val sigmoid : float list list -> float list list\n",
       "    val sigmoid_deriv : float list list -> float list list\n",
       "  end\n"
      ]
     },
     "execution_count": 4,
     "metadata": {},
     "output_type": "execute_result"
    }
   ],
   "source": [
    "module Activation = struct\n",
    "  let relu z =\n",
    "    List.map (fun arr -> List.map (fun x -> max x 0.0) arr) z\n",
    "    \n",
    "  let relu_derive z =\n",
    "    List.map (fun arr -> List.map (fun x -> if x > 0.0 then 1.0 else 0.0) arr) z\n",
    "\n",
    "  let softmax z =\n",
    "    let softmax_row row =\n",
    "      let exp_row = List.map exp row in\n",
    "      let sum_exp_row = List.fold_left (+.) 0.0 exp_row in\n",
    "      List.map (fun x -> x /. sum_exp_row) exp_row\n",
    "    in\n",
    "    let smax = List.map softmax_row (Util.transpose z) in\n",
    "    Util.transpose smax\n",
    "    \n",
    "  let tanh z =\n",
    "    List.map (fun arr -> List.map (fun x -> tanh x) arr) z\n",
    "    \n",
    "  let sigmoid x: float list list =\n",
    "    let sigmoid_scalar y = 1.0 /. (1.0 +. exp (-. y)) in\n",
    "    let sigmoid_row row = List.map sigmoid_scalar row in\n",
    "    List.map sigmoid_row x\n",
    "\n",
    "  let sigmoid_deriv x =\n",
    "    let s = sigmoid x in\n",
    "    let s_sub = Util.sub_scalar s 1.0 in\n",
    "    List.map2 (fun r1 r2 -> List.map2 (fun v1 v2 -> v1 *. (-1. *. v2)) r1 r2) s s_sub\n",
    "end"
   ]
  },
  {
   "cell_type": "code",
   "execution_count": 5,
   "metadata": {
    "vscode": {
     "languageId": "ocaml"
    }
   },
   "outputs": [
    {
     "data": {
      "text/plain": [
       "val y : float list list =\n",
       "  [[-0.242357893343187691]; [-0.442208289612322614]; [-0.18428942593249692];\n",
       "   [-0.0377401342069466073]; [0.151533737435963545]; [0.293204072045188613];\n",
       "   [0.401172424990578036]; [-0.0804601055617197858]; [0.429920766124172959];\n",
       "   [-0.479364296168792337]]\n"
      ]
     },
     "execution_count": 5,
     "metadata": {},
     "output_type": "execute_result"
    }
   ],
   "source": [
    "let y = Util.float_2d 10 1"
   ]
  },
  {
   "cell_type": "code",
   "execution_count": 6,
   "metadata": {
    "vscode": {
     "languageId": "ocaml"
    }
   },
   "outputs": [
    {
     "data": {
      "text/plain": [
       "- : float list list =\n",
       "[[0.]; [0.]; [0.]; [0.]; [0.151533737435963545]; [0.293204072045188613];\n",
       " [0.401172424990578036]; [0.]; [0.429920766124172959]; [0.]]\n"
      ]
     },
     "execution_count": 6,
     "metadata": {},
     "output_type": "execute_result"
    }
   ],
   "source": [
    "Activation.relu y"
   ]
  },
  {
   "cell_type": "code",
   "execution_count": 7,
   "metadata": {
    "vscode": {
     "languageId": "ocaml"
    }
   },
   "outputs": [
    {
     "data": {
      "text/plain": [
       "- : float list list =\n",
       "[[0.]; [0.]; [0.]; [0.]; [1.]; [1.]; [1.]; [0.]; [1.]; [0.]]\n"
      ]
     },
     "execution_count": 7,
     "metadata": {},
     "output_type": "execute_result"
    }
   ],
   "source": [
    "Activation.relu_derive y"
   ]
  },
  {
   "cell_type": "code",
   "execution_count": 8,
   "metadata": {
    "vscode": {
     "languageId": "ocaml"
    }
   },
   "outputs": [
    {
     "data": {
      "text/plain": [
       "- : float list list =\n",
       "[[0.0761994501950166297]; [0.0623961672434873299]; [0.0807552289486868635];\n",
       " [0.0935009883207629233]; [0.112983961855530515]; [0.130179753259953068];\n",
       " [0.14502187102652217]; [0.0895907461579066727]; [0.149251515577674021];\n",
       " [0.0601203174144598063]]\n"
      ]
     },
     "execution_count": 8,
     "metadata": {},
     "output_type": "execute_result"
    }
   ],
   "source": [
    "Activation.softmax y"
   ]
  },
  {
   "cell_type": "code",
   "execution_count": 9,
   "metadata": {
    "vscode": {
     "languageId": "ocaml"
    }
   },
   "outputs": [
    {
     "data": {
      "text/plain": [
       "- : float list list =\n",
       "[[0.; 0.; 0.; 0.; 0.; 0.; 1.]; [1.; 0.; 1.; 0.; 0.; 0.; 0.];\n",
       " [0.; 0.; 0.; 1.; 1.; 0.; 0.]; [0.; 0.; 0.; 0.; 0.; 0.; 0.];\n",
       " [0.; 0.; 0.; 0.; 0.; 0.; 0.]; [0.; 0.; 0.; 0.; 0.; 0.; 0.];\n",
       " [0.; 0.; 0.; 0.; 0.; 0.; 0.]; [0.; 0.; 0.; 0.; 0.; 1.; 0.];\n",
       " [0.; 0.; 0.; 0.; 0.; 0.; 0.]; [0.; 1.; 0.; 0.; 0.; 0.; 0.]]\n"
      ]
     },
     "execution_count": 9,
     "metadata": {},
     "output_type": "execute_result"
    }
   ],
   "source": [
    "Util.one_hot [1; 9; 1; 2; 2; 7; 0]"
   ]
  },
  {
   "cell_type": "code",
   "execution_count": 10,
   "metadata": {
    "vscode": {
     "languageId": "ocaml"
    }
   },
   "outputs": [],
   "source": [
    "(* let lst1 = [[1.; 2.; 3.]; [0.; 0.; 0.]; [7.; 8.; 9.]];;\n",
    "let lst2 = [[9.; 8.]; [0.; 0.]; [3.; 1.]];;\n",
    "\n",
    "Util.transpose lst1;;\n",
    "Util.dot_product lst1 lst2;;\n",
    "Util.add_mat lst1 lst2;; *)"
   ]
  },
  {
   "cell_type": "code",
   "execution_count": 11,
   "metadata": {
    "vscode": {
     "languageId": "ocaml"
    }
   },
   "outputs": [
    {
     "data": {
      "text/plain": [
       "val load_csv : string -> (string -> 'a) -> 'a list list = <fun>\n"
      ]
     },
     "execution_count": 11,
     "metadata": {},
     "output_type": "execute_result"
    }
   ],
   "source": [
    "#require \"Csv\"\n",
    "\n",
    "let load_csv (file_name: string) (f: string -> 'a) = \n",
    "  Csv.load file_name \n",
    "  |> List.map (fun row -> List.map f row)"
   ]
  },
  {
   "cell_type": "code",
   "execution_count": 12,
   "metadata": {
    "vscode": {
     "languageId": "ocaml"
    }
   },
   "outputs": [
    {
     "data": {
      "text/plain": [
       "val train_x : float list list =\n",
       "  [[0.; 0.; 0.; 0.; 0.; 0.; 0.; 0.; 0.; 0.; 0.; 0.; 0.; 0.; 0.; 0.; 0.; 0.;\n",
       "    0.; 0.; 0.; 0.; 0.; 0.; 0.; 0.; 0.; 0.; 0.; 0.; 0.; 0.; 0.; 0.; 0.; 0.;\n",
       "    0.; 0.; 0.; 0.; 0.; 0.; 0.; 0.; 0.; 0.; 0.; 0.; 0.; 0.; 0.; 0.; 0.; 0.;\n",
       "    0.; 0.; 0.; 0.; 0.; 0.; 0.; 0.; 0.; 0.; 0.; 0.; 0.; 0.; 0.; 0.; 0.; 0.;\n",
       "    0.; 0.; 0.; 0.; 0.; 0.; 0.; 0.; 0.; 0.; 0.; 0.; 0.; 0.; 0.; 0.; 0.; 0.;\n",
       "    0.; 0.; 0.; 0.; 0.; 0.; 0.; 0.; 0.; 0.; 0.; 0.; 0.; 0.; 0.; 0.; 0.; 0.;\n",
       "    0.; 0.; 0.; 0.; 0.; 0.; 0.; 0.; 0.; 0.; 0.; 0.; 0.; 0.; 0.; 0.; 0.; 0.;\n",
       "    0.; 0.; 0.; 0.; 0.; 0.; 0.; 0.; 0.; 0.; 0.; 0.; 0.; 0.; 0.; 0.; 0.; 0.;\n",
       "    0.; 0.; 0.; 0.; 0.; 0.; 0.; 0.; 0.; 0.; 0.; 0.; 0.; 0.; 0.; 0.; 0.; 0.;\n",
       "    0.; 0.; 0.; 0.; 0.; 0.; 0.; 0.; 0.; 0.; 0.; 0.; 0.; 0.; 0.; 0.; 0.; 0.;\n",
       "    0.; 0.; 0.; 0.; 0.; 0.; 0.; 0.; 0.; 0.; 0.; 0.; 0.; 0.; 0.; 0.; 0.; 0.;\n",
       "    0.; 0.; 0.; 0.; 0.; 0.; 0.; 0.; 0.; 0.; 0.; 0.; 0.; 0.; 0.; 0.; 0.; 0.;\n",
       "    0.; 0.; 0.; 0.; 0.; 0.; 0.; 0.; 0.; 0.; 0.; 0.; 0.; 0.; 0.; 0.; 0.; 0.;\n",
       "    0.; 0.; 0.; 0.; 0.; 0.; 0.; 0.; 0.; 0.; 0.; 0.; 0.; 0.; 0.; 0.; 0.; 0.;\n",
       "    0.; 0.; 0.; 0.; 0.; 0.; 0.; 0.; 0.; 0.; 0.; 0.; 0.; 0.; 0.; 0.; 0.; 0.;\n",
       "    0.; 0.; 0.; 0.; 0.; 0.; 0.; 0.; 0.; 0.; 0.; 0.; 0.; 0.; 0.; 0.; 0.; 0.;\n",
       "    0.; 0.; 0.; 0.; 0.; 0.; 0.; 0.; 0.; 0.; ...];\n",
       "   ...]\n"
      ]
     },
     "execution_count": 12,
     "metadata": {},
     "output_type": "execute_result"
    },
    {
     "data": {
      "text/plain": [
       "val train_y : int list =\n",
       "  [1; 0; 1; 4; 0; 0; 7; 3; 5; 3; 8; 9; 1; 3; 3; 1; 2; 0; 7; 5; 8; 6; 2; 0; 2;\n",
       "   3; 6; 9; 9; 7; 8; 9; 4; 9; 2; 1; 3; 1; 1; 4; 9; 1; 4; 4; 2; 6; 3; 7; 7; 4;\n",
       "   7; 5; 1; 9; 0; 2; 2; 3; 9; 1; 1; 1; 5; 0; 6; 3; 4; 8; 1; 0; 3; 9; 6; 2; 6;\n",
       "   4; 7; 1; 4; 1; 5; 4; 8; 9; 2; 9; 9; 8; 9; 6; 3; 6; 4; 6; 2; 9; 1; 2; 0; 5;\n",
       "   9; 2; 7; 7; 2; 8; 8; 5; 0; 6; 0; 0; 2; 9; 0; 4; 7; 7; 1; 5; 7; 9; 4; 6; 1;\n",
       "   5; 7; 6; 5; 0; 4; 8; 7; 6; 1; 8; 7; 3; 7; 3; 1; 0; 3; 4; 5; 4; 0; 5; 4; 0;\n",
       "   3; 5; 1; 0; 8; 3; 7; 0; 9; 6; 6; 9; 5; 4; 6; 9; 3; 5; 4; 2; 4; 8; 7; 7; 5;\n",
       "   8; 8; 8; 2; 6; 9; 3; 1; 0; 4; 1; 5; 9; 0; 6; 2; 1; 3; 0; 6; 0; 0; 8; 3; 2;\n",
       "   0; 0; 6; 0; 0; 4; 7; 2; 7; 1; 9; 9; 3; 9; 8; 4; 6; 6; 5; 3; 8; 1; 8; 7; 1;\n",
       "   3; 7; 6; 3; 6; 3; 6; 3; 2; 3; 2; 2; 7; 9; 2; 3; 2; 7; 5; 5; 8; 8; 2; 0; 1;\n",
       "   4; 0; 6; 3; 7; 1; 1; 1; 4; 7; 0; 2; 9; 2; 0; 5; 6; 0; 8; 9; 6; 2; 0; 0; 7;\n",
       "   2; 0; 4; 2; 0; 9; 1; 6; 9; 3; 0; 0; 2; 0; 6; 8; 4; 0; 7; 2; 1; 9; 5; 2;\n",
       "   ...]\n"
      ]
     },
     "execution_count": 12,
     "metadata": {},
     "output_type": "execute_result"
    }
   ],
   "source": [
    "let train_x = \n",
    "  let temp = load_csv \"../data/train_small.csv\" float_of_string in\n",
    "  Util.transpose temp \n",
    "  |> List.map (fun row -> List.map (fun x -> x /. 255.0) row)\n",
    "  \n",
    "let train_y = \n",
    "  let temp = load_csv \"../data/train_small_labels.csv\" int_of_string in\n",
    "  0 |> List.nth (Util.transpose temp)"
   ]
  },
  {
   "cell_type": "code",
   "execution_count": 13,
   "metadata": {
    "vscode": {
     "languageId": "ocaml"
    }
   },
   "outputs": [
    {
     "data": {
      "text/plain": [
       "- : int * int = (784, 1000)\n"
      ]
     },
     "execution_count": 13,
     "metadata": {},
     "output_type": "execute_result"
    },
    {
     "data": {
      "text/plain": [
       "- : int = 1000\n"
      ]
     },
     "execution_count": 13,
     "metadata": {},
     "output_type": "execute_result"
    }
   ],
   "source": [
    "Util.get_shape train_x;;\n",
    "List.length train_y;;"
   ]
  },
  {
   "cell_type": "code",
   "execution_count": 14,
   "metadata": {
    "vscode": {
     "languageId": "ocaml"
    }
   },
   "outputs": [
    {
     "data": {
      "text/plain": [
       "module Prop :\n",
       "  sig\n",
       "    val forward_prop :\n",
       "      float list list ->\n",
       "      float list list ->\n",
       "      float list list ->\n",
       "      float list list ->\n",
       "      float list list ->\n",
       "      float list list * float list list * float list list * float list list\n",
       "    val backward_prop :\n",
       "      float list list ->\n",
       "      float list list ->\n",
       "      float list list ->\n",
       "      float list list ->\n",
       "      float list list ->\n",
       "      float list list ->\n",
       "      float list list ->\n",
       "      float list list -> float list list * float * float list list * float\n",
       "    val update_params_gd :\n",
       "      float list list ->\n",
       "      float list list ->\n",
       "      float list list ->\n",
       "      float list list ->\n",
       "      float list list ->\n",
       "      float ->\n",
       "      float list list ->\n",
       "      float ->\n",
       "      float ->\n",
       "      float list list * float list list * float list list * float list list\n",
       "    val update_params_gdm :\n",
       "      float list list ->\n",
       "      float list list ->\n",
       "      float list list ->\n",
       "      float list list ->\n",
       "      float list list ->\n",
       "      float ->\n",
       "      float list list ->\n",
       "      float ->\n",
       "      float list list ->\n",
       "      float ->\n",
       "      float list list ->\n",
       "      float ->\n",
       "      float ->\n",
       "      float ->\n",
       "      float ->\n",
       "      float list list * float list list * float list list * float list list *\n",
       "      float list list * float * float list list * float\n",
       "  end\n"
      ]
     },
     "execution_count": 14,
     "metadata": {},
     "output_type": "execute_result"
    }
   ],
   "source": [
    "module Prop  = struct\n",
    "  let forward_prop (w1: float list list) (b1: float list list) (w2: float list list) (b2: float list list) (train_x: float list list) = \n",
    "    let z1 = Util.dot_product w1 train_x\n",
    "    |> Util.add_mat b1 in\n",
    "    let a1 = Activation.relu z1 in\n",
    "    let z2 = Util.dot_product w2 a1\n",
    "    |> Util.add_mat b2 in\n",
    "    let a2 = Activation.sigmoid z2 in\n",
    "    (z1, a1, z2, a2)\n",
    "    \n",
    "  let backward_prop z1 a1 (z2: float list list) a2 (w1: float list list) w2 train_x train_y:\n",
    "    (float list list * float * float list list * float) =\n",
    "    let m_inv = (1. /. (float_of_int (List.length train_y))) in\n",
    "    let dz2 = Util.sub_mat a2 train_y in\n",
    "    let dw2 = Util.dot_product dz2 (Util.transpose a1) \n",
    "    |> Util.mult_scalar m_inv in\n",
    "    let db2 = m_inv *. Util.sum_2d_matrix dz2 in\n",
    "    let dz1 = Util.dot_product (Util.transpose w2) dz2 \n",
    "    |> Util.mult_mat (Activation.relu_derive z1) in\n",
    "    let dw1 = Util.dot_product dz1 (Util.transpose train_x) \n",
    "    |> Util.mult_scalar m_inv in\n",
    "    let db1 = m_inv *. Util.sum_2d_matrix dz1 in\n",
    "    (dw1, db1, dw2, db2)\n",
    "\n",
    "    \n",
    "  let update_params_gd w1 b1 w2 b2 dw1 db1 dw2 db2 lr = \n",
    "    let w1 = Util.mult_scalar lr dw1 \n",
    "    |> Util.sub_mat w1 in\n",
    "    let b1 = lr *. db1 \n",
    "    |> Util.sub_scalar b1 in\n",
    "    let w2 = Util.mult_scalar lr dw2 \n",
    "    |> Util.sub_mat w2 in\n",
    "    let b2 = lr *. db2 \n",
    "    |> Util.sub_scalar b2 in\n",
    "    (w1, b1, w2, b2)\n",
    "    \n",
    "  let update_params_gdm w1 b1 w2 b2 dw1 db1 dw2 db2 v_dw1 v_db1 v_dw2 v_db2 lr beta1 beta2 = \n",
    "    let v_dw1 = Util.add_mat (Util.mult_scalar beta1 v_dw1) (Util.mult_scalar beta2 dw1) in\n",
    "    let v_db1 = (beta2 *. db1) +. (beta1 *. v_db1) in\n",
    "    let v_dw2 = Util.add_mat (Util.mult_scalar beta1 v_dw2) (Util.mult_scalar beta2 dw2) in\n",
    "    let v_db2 = (beta2 *. db2) +. (beta1 *. v_db2) in\n",
    "    let w1 = Util.sub_mat w1 (Util.mult_scalar lr v_dw1) in\n",
    "    let b1 = Util.sub_scalar b1 (lr *. v_db1) in\n",
    "    let w2 = Util.sub_mat w2 (Util.mult_scalar lr v_dw2) in\n",
    "    let b2 = Util.sub_scalar b2 (lr *. v_db2) in\n",
    "    (w1, b1, w2, b2, v_dw1, v_db1, v_dw2, v_db2)\n",
    "end"
   ]
  },
  {
   "cell_type": "code",
   "execution_count": 15,
   "metadata": {},
   "outputs": [
    {
     "data": {
      "text/plain": [
       "module type MONAD =\n",
       "  sig\n",
       "    type 'a t\n",
       "    val return : 'a -> 'a t\n",
       "    val ( >>= ) : 'a t -> ('a -> 'b t) -> 'b t\n",
       "    val run : 'a t -> 'a\n",
       "  end\n"
      ]
     },
     "execution_count": 15,
     "metadata": {},
     "output_type": "execute_result"
    },
    {
     "data": {
      "text/plain": [
       "module Monad : MONAD\n"
      ]
     },
     "execution_count": 15,
     "metadata": {},
     "output_type": "execute_result"
    }
   ],
   "source": [
    "module type MONAD = sig\n",
    "  type 'a t\n",
    "  val return : 'a -> 'a t\n",
    "  val (>>=)  : 'a t -> ('a -> 'b t) -> 'b t\n",
    "  val run : 'a t -> 'a\n",
    "end\n",
    "\n",
    "module Monad : MONAD = struct\n",
    "  type 'a t = 'a\n",
    "  let return x = x\n",
    "  let (>>=) x f = f x\n",
    "  let run x = x\n",
    "end"
   ]
  },
  {
   "cell_type": "code",
   "execution_count": 16,
   "metadata": {},
   "outputs": [],
   "source": [
    "(* List.nth (Util.transpose train_x) ((0+1000) mod 1000) *)"
   ]
  },
  {
   "cell_type": "code",
   "execution_count": 17,
   "metadata": {},
   "outputs": [
    {
     "data": {
      "text/plain": [
       "module Gd :\n",
       "  sig\n",
       "    type algorithm_type = GD | SGD | MBGD\n",
       "    val data :\n",
       "      float list list ->\n",
       "      float list list -> algorithm_type -> float list list * float list list\n",
       "  end\n"
      ]
     },
     "execution_count": 17,
     "metadata": {},
     "output_type": "execute_result"
    }
   ],
   "source": [
    "module Gd = struct\n",
    "  type algorithm_type = GD | SGD | MBGD\n",
    "  let data x y type_ = \n",
    "    match type_ with\n",
    "    | GD -> (x, y)\n",
    "    | SGD -> \n",
    "      let size = snd (Util.get_shape x) in\n",
    "      let _ = asrt (snd (Util.get_shape x) = snd (Util.get_shape y), \"Shape error..\") in\n",
    "      let ri = Util.random_indices 1 0 (size-1) in\n",
    "      let x', y' = Util.select_indices (Util.transpose x) ri, Util.select_indices (Util.transpose y) ri in\n",
    "      (Util.transpose x', Util.transpose y')\n",
    "    | MBGD ->\n",
    "      let size = snd (Util.get_shape x) in\n",
    "      let _ = asrt (snd (Util.get_shape x) = snd (Util.get_shape y), \"Shape error..\") in\n",
    "      let ri = Util.random_indices 4 0 (size-1) in\n",
    "      let x', y' = Util.select_indices (Util.transpose x) ri, Util.select_indices (Util.transpose y) ri in\n",
    "      (Util.transpose x', Util.transpose y')\n",
    "end"
   ]
  },
  {
   "cell_type": "code",
   "execution_count": 18,
   "metadata": {},
   "outputs": [
    {
     "data": {
      "text/plain": [
       "type optim = VGD | GDM\n"
      ]
     },
     "execution_count": 18,
     "metadata": {},
     "output_type": "execute_result"
    }
   ],
   "source": [
    "type optim = VGD | GDM"
   ]
  },
  {
   "cell_type": "code",
   "execution_count": 19,
   "metadata": {},
   "outputs": [
    {
     "data": {
      "text/plain": [
       "val gradient_descent :\n",
       "  float list list ->\n",
       "  float list list ->\n",
       "  float ->\n",
       "  int ->\n",
       "  Gd.algorithm_type ->\n",
       "  optim ->\n",
       "  float ->\n",
       "  float ->\n",
       "  (float list list * float list list * float list list * float list list)\n",
       "  Monad.t = <fun>\n"
      ]
     },
     "execution_count": 19,
     "metadata": {},
     "output_type": "execute_result"
    }
   ],
   "source": [
    "let gradient_descent train_x train_y lr iterations type_ optim_ beta1 beta2 =\n",
    "  let open Monad in\n",
    "  let w1, b1, w2, b2, v_w1, v_b1, v_w2, v_b2 = Util.init_params in\n",
    "  let rec batch_loop i w1 b1 w2 b2 v_w1 (v_b1: float) v_w2 (v_b2: float) iterations train_x train_y (x, y) lr =\n",
    "    if i = iterations then return (w1, b1, w2, b2)\n",
    "    else Prop.forward_prop w1 b1 w2 b2 x \n",
    "         |> return >>= fun (z1, a1, z2, a2) ->\n",
    "         Prop.backward_prop z1 a1 z2 a2 w1 w2 x y \n",
    "         |> return >>= fun (dw1, db1, dw2, db2) ->\n",
    "         if optim_ = GDM then \n",
    "           Prop.update_params_gdm w1 b1 w2 b2 dw1 db1 dw2 db2 v_w1 v_b1 v_w2 v_b2 lr beta1 beta2\n",
    "           |> return >>= fun (w1', b1', w2', b2', v_dw1', v_db1', v_dw2', v_db2') ->\n",
    "           batch_loop (i + 1) w1' b1' w2' b2' v_dw1' v_db1' v_dw2' v_db2' iterations train_x train_y (Gd.data train_x train_y type_) lr\n",
    "         else \n",
    "           Prop.update_params_gd w1 b1 w2 b2 dw1 db1 dw2 db2 lr \n",
    "           |> return >>= fun (w1', b1', w2', b2') ->\n",
    "           batch_loop (i + 1) w1' b1' w2' b2' v_w1 v_b1 v_w2 v_b2 iterations train_x train_y (Gd.data train_x train_y type_) lr\n",
    "  in\n",
    "  batch_loop 0 w1 b1 w2 b2 v_w1 v_b1 v_w2 v_b2 iterations train_x train_y (Gd.data train_x train_y type_) lr"
   ]
  },
  {
   "cell_type": "code",
   "execution_count": 20,
   "metadata": {
    "vscode": {
     "languageId": "ocaml"
    }
   },
   "outputs": [
    {
     "data": {
      "text/plain": [
       "val result :\n",
       "  (float list list * float list list * float list list * float list list)\n",
       "  Monad.t = <abstr>\n"
      ]
     },
     "execution_count": 20,
     "metadata": {},
     "output_type": "execute_result"
    }
   ],
   "source": [
    "let result = gradient_descent train_x (Util.one_hot train_y) 0.06 300 MBGD VGD 0.9 0.1;;"
   ]
  },
  {
   "cell_type": "code",
   "execution_count": 21,
   "metadata": {},
   "outputs": [
    {
     "data": {
      "text/plain": [
       "val w1 : float list list =\n",
       "  [[0.426038888360971146; -0.158361411401767904; 0.0978229458531059137;\n",
       "    0.366881591014789565; 0.286668034537743921; 0.125315015859070122;\n",
       "    -0.409011015216012297; -0.188990030213231575; 0.059742196386998736;\n",
       "    -0.34615215119734255; -0.490233784604748313; 0.256637587325766692;\n",
       "    -0.251656740474212159; 0.152787092477089326; 0.48717731495272254;\n",
       "    -0.332554522532503172; 0.0574582248835058262; 0.258516786217372951;\n",
       "    0.18532904647625259; -0.0324781508558906196; -0.171649560924790556;\n",
       "    0.225258114528568254; 0.260843272481697697; 0.444543207513039773;\n",
       "    -0.0466829106219362466; 0.0396486806025953; 0.36819664704757471;\n",
       "    0.0449662633954558411; 0.130257917730493555; -0.42187402863574619;\n",
       "    -0.375256835869513194; -0.022730071996965362; -0.229233104415120292;\n",
       "    0.38945947157575922; -0.199121535032691421; -0.217841553708043145;\n",
       "    0.0565473408327369365; -0.395461978569951134; 0.103794293340060614;\n",
       "    0.360497981031593695; 0.48943067314257882; -0.339694153338264859;\n",
       "    -0.426797908865498399; -0.135400126024697198; 0.0620857600008287713;\n",
       "    0.488592541624459198; -0.405824100775576957; 0.207942539774618851;\n",
       "    -0.351462418586837744; 0.448945076777336749; -0.239606332907712327;\n",
       "    -0.212734158871041967; 0.00853007567102504; -0.337843484576465458;\n",
       "    -0.122118054449384505; 0.376042480026804182; -0.313138545844993899;\n",
       "    -0.0596257194518746703; 0.246738814001851936; 0.0318424309062490529;\n",
       "    -0.27952546455631716; 0.0865412357043414127; 0.223323576520247702;\n",
       "    -0.0127900205644769782; -0.0061764123802213744; 0.332062522433245189;\n",
       "    0.427926818268650144; 0.212099805615889286; 0.33831626306849;\n",
       "    -0.169258099618318558; -0.378300575802952177; 0.30976343360957842;\n",
       "    -0.422292744316748125; -0.485161090738512379; 0.293369463945672315;\n",
       "    -0.0624765111590933619; -0.0017480014554741765; -0.0398440010765412286;\n",
       "    -0.28255349781075656; 0.214949323585700069; 0.197996660137878422;\n",
       "    -0.163429852580197432; 0.0532280498237949207; -0.382350618403808;\n",
       "    0.060894172660677981; 0.149029289156137779; -0.417487863577329699;\n",
       "    0.0817998697415434073; -0.192981163695874536; -0.264450399731531172;\n",
       "    -0.271203482057387202; -0.428100995489070379; 0.0865692363092341877;\n",
       "    0.345809019505703141; 0.421283102761559614; -0.000218692632868462374;\n",
       "    -0.185426543961288354; 0.253406006875079692; 0.328915069120648829;\n",
       "    0.269174443861875223; -0.302403243526870646; 0.215579338487017075;\n",
       "    0.088829915009829119; 0.171738828645361025; -0.364034958387188912;\n",
       "    -0.000229592405794570289; 0.196845089407976764; 0.488946865116289153;\n",
       "    -0.216405009583590047; -0.0495505815514633574; -0.485958711732674686;\n",
       "    0.0584299011323263784; -0.0679344359060337077; 0.0357188362682961946;\n",
       "    -0.235698665575383492; 0.431517784813786331; -0.248576427567973546;\n",
       "    -0.124127062024765325; 0.429005109078850255; 0.281408107959067455;\n",
       "    0.47792976773779472; 0.0886489317203298099; -0.281136887389439483;\n",
       "    0.33114778758261787; 0.362444289289516275; -0.338813254685559784;\n",
       "    0.0600908442408621749; 0.0196899473453797207; -0.432542552176562178;\n",
       "    0.291539781672781773; -0.125729819521591263; -0.186193060926820725;\n",
       "    0.147853943226556983; -0.23222042146544547; 0.0309250836775958;\n",
       "    -0.493875088578054; 0.0264508390794229512; -0.408724094123492698;\n",
       "    -0.392774880649930158; -0.0216106871327469419; 0.113175606616649049;\n",
       "    0.252972584853219384; 0.185418949283025492; -0.3671122449959342;\n",
       "    -0.317325619274127724; 0.149120608400707066; -0.168723319386988119;\n",
       "    -0.40169816682176851; -0.283662460435912755; -0.253871287538070922;\n",
       "    -0.227439552313369486; 0.379645420744525675; -0.23633604353488788;\n",
       "    -0.410416026679440715; 0.233632383936343446; 0.427174643628288664;\n",
       "    0.443434961501044222; 0.172098531272782185; -0.444580986373383835;\n",
       "    0.217757159454431526; -0.450795193164992225; 0.434177503152977207;\n",
       "    0.363208004011373708; 0.370935102605147393; 0.376613183219002612;\n",
       "    0.466998826396107292; -0.291294769775864; 0.156267443721323646;\n",
       "    0.42022529790391816; -0.0424375442557174964; -0.0624670131163351239;\n",
       "    0.490521678552029161; 0.190924974818948406; -0.148283981047238639;\n",
       "    0.0211411350342017822; -0.0677689519871168405; 0.252646877688527449;\n",
       "    0.0993491680653103; 0.431193250499030845; -0.38277096473544342;\n",
       "    0.072856096728414; -0.459483815237640647; -0.132081787702170883;\n",
       "    0.0513128173145611238; -0.130293726815017941; -0.0316723228496259418;\n",
       "    0.00127845375701532296; 0.450120424391835527; -0.270046529747939;\n",
       "    -0.266792339210756; 0.389856672259835391; 0.476728021783508149;\n",
       "    -0.00458929193705035453; -0.00137654677234944349; -0.405977236406354136;\n",
       "    -0.499406722468448139; 0.369384380515687116; -0.184494641162808393;\n",
       "    0.108699856115614057; 0.450223277177991321; -0.0883976924915049478;\n",
       "    0.35282162847346088; -0.0277562102065642101; 0.456524058214744677;\n",
       "    -0.0587639521233751932; 0.0185658032664244438; -0.434012429410057465;\n",
       "    0.284544405776892328; 0.124907226957882561; -0.426253384984667194;\n",
       "    -0.146270801932314065; -0.166287089427359064; 0.0877285202662927421;\n",
       "    -0.244487538261570658; -0.285050121193380801; 0.275732399185466881;\n",
       "    -0.414867589975850826; -0.12130721244460678; 0.151169287848416628;\n",
       "    0.0899093798932110583; -0.0808268932968335269; 0.474462191067047179;\n",
       "    0.376887594711761531; 0.0679071506315707119; -0.496496881831030523;\n",
       "    -0.297381370910329956; -0.432507610928979713; -0.22293565479171476;\n",
       "    0.0710993612208882103; -0.40764834532231925; -0.286532595421061742;\n",
       "    0.0686243460634933; 0.430459417644166564; -0.27157158288961436;\n",
       "    -0.430351838414626264; -0.459126036537356452; 0.0660156799536453;\n",
       "    0.101510886039380507; -0.174260218846437193; 0.200014575401831513;\n",
       "    -0.381385375005039717; -0.485916029800892324; -0.367790036838236523;\n",
       "    0.0883930598330580769; -0.323446145480449865; -0.452961007612689481;\n",
       "    0.172161786766335034; -0.0172017633430569146; 0.442181002229598608;\n",
       "    0.388207044749511954; -0.325919960202974479; 0.0381976297129990039;\n",
       "    -0.0903022321394401639; -0.337539348951350626; -0.310466294746944094;\n",
       "    0.090512359190764391; 0.0642616581838530154; 0.47402289160232669;\n",
       "    0.274420492077336875; -0.318440395674415067; -0.0808232903116104379;\n",
       "    0.153043269366928497; 0.0970880457268748914; -0.0881310741094717;\n",
       "    -0.250104928686263106; -0.325564089345002472; 0.0103982773232239884;\n",
       "    -0.373208698070914169; -0.285262580502648522; 0.14117293525904398;\n",
       "    -0.507034802829848585; -0.169333524300457755; 0.0807885655513534834;\n",
       "    -0.244956041739022412; -0.111744375636794291; -0.00184112925771238783;\n",
       "    -0.0127749606213087112; 0.205054194386926875; -0.368622433119599857;\n",
       "    -0.456680850177444253; -0.244966455142828332; 0.380889442112898102;\n",
       "    -0.246240695292371137; -0.237865647733038282; -0.173587470852724773;\n",
       "    0.235768269716534; -0.0884372449104299518; 0.403951658125530688;\n",
       "    -0.135564378150623333; -0.223060741988160588; -0.273415476668519841;\n",
       "    0.358877895089927734; 0.516503279438582319; -0.227369538418198347;\n",
       "    -0.290115410170358079; -0.321873030761979151; -0.0101512385424060783;\n",
       "    -0.498873238381120465; ...];\n",
       "   ...]\n",
       "val b1 : float list list =\n",
       "  [[0.325107554396220633]; [-0.136381844475057773]; [-0.111873926282454794];\n",
       "   [-0.0709277390661480905]; [0.0789711928034098204];\n",
       "   [-0.133573014992916211]; [0.0352290164166276093]; [0.592233350576070294];\n",
       "   [0.215469858826018962]; [0.450458568237787182]]\n",
       "val w2 : float list list =\n",
       "  [[-0.173147780298384429; 0.0706349502512793881; -0.0352592462515655819;\n",
       "    -0.47573256843823164; 0.121783980293778876; 0.149142548907813588;\n",
       "    0.442907241296838838; -0.076840187360671372; -0.663600325872368;\n",
       "    -0.4886603846738517];\n",
       "   [-0.378274648664653768; -0.157426996399050029; -0.0946406022453434304;\n",
       "    -0.520050654789274702; -0.274379975690950795; -0.512535688168743508;\n",
       "    -0.169566953315333502; 0.236237133388547821; -0.2161287359360336;\n",
       "    -0.255960685444567404];\n",
       "   [-0.385737291924979464; 0.139355258696393119; 0.394651205794561699;\n",
       "    0.23053024381623527; 0.066470050767062791; -0.277844890557114643;\n",
       "    -0.347815166730279124; -0.23769833241101479; -0.400500161452558;\n",
       "    0.256635678595855];\n",
       "   [0.350845966126389408; 0.433363977597590433; -0.738902832757391548;\n",
       "    -0.534806497701320827; 0.0952472841528817227; 0.26965156795948042;\n",
       "    0.0770062453889772; 0.0370702943188546408; -0.085675887978138;\n",
       "    -0.120203411375515989];\n",
       "   [0.276687327931990079; -0.424939945312403422; -0.268608647887375596;\n",
       "    0.102210196900143754; 0.220023761106751287; -0.167141556900606475;\n",
       "    0.000465362455047092435; -0.564946336400481863; 0.326244007561274862;\n",
       "    -0.0692910125731983906];\n",
       "   [0.413845499733336064; 0.340079302904744751; -0.1104686236019123;\n",
       "    -0.163719982930188357; -0.0344432515494964842; 0.0178724921708321924;\n",
       "    -0.221473597571137326; -0.130100526175520592; -0.214710603295881958;\n",
       "    0.182646842471553689];\n",
       "   [0.264706368548365212; -0.0123412910578065797; 0.373827035989355627;\n",
       "    -0.309138543928373866; -0.469486695763514; -0.213690019044644242;\n",
       "    0.0974446465470821671; -0.554517676077120769; 0.0751198305535132616;\n",
       "    0.308218366627547535];\n",
       "   [0.145195522801758098; 0.303625224560765905; -0.593061685841065223;\n",
       "    0.452522912997354421; 0.0986767399637936693; -0.332044468829327533;\n",
       "    0.188824014741636015; 0.0650035520216527413; -0.159965818670652432;\n",
       "    -0.420535977943578887];\n",
       "   [0.252252179042961211; -0.13064601360389913; -0.00784560287891998206;\n",
       "    -0.432123435296075442; 0.19953636303809158; 0.101475759685469846;\n",
       "    -0.0445609647196933828; -0.21946149972070586; 0.0825609718188680397;\n",
       "    -0.177762491182158505];\n",
       "   [0.0547879799954999469; -0.51009485654296538; -0.450316405873808112;\n",
       "    0.136041475614432361; -0.0401811930041405183; 0.0890982549206351671;\n",
       "    0.187954356120720728; -0.132057075406269486; 0.284489962381660966;\n",
       "    -0.502990149921070828]]\n",
       "val b2 : float list list =\n",
       "  [[-1.20006613903590265]; [-1.34931900299846608]; [-1.35448130991317894];\n",
       "   [-1.76905986963169259]; [-1.26335541815551355]; [-1.1471442927663722];\n",
       "   [-1.1748094329926535]; [-1.2463824565398296]; [-1.02689700147251073];\n",
       "   [-1.66236276327913313]]\n"
      ]
     },
     "execution_count": 21,
     "metadata": {},
     "output_type": "execute_result"
    }
   ],
   "source": [
    "let w1, b1, w2, b2 = Monad.run result"
   ]
  },
  {
   "cell_type": "code",
   "execution_count": 22,
   "metadata": {
    "vscode": {
     "languageId": "ocaml"
    }
   },
   "outputs": [
    {
     "data": {
      "text/plain": [
       "val get_predictions : float list list -> int list = <fun>\n"
      ]
     },
     "execution_count": 22,
     "metadata": {},
     "output_type": "execute_result"
    }
   ],
   "source": [
    "let get_predictions (a2 : float list list) : int list =\n",
    "  let rec loop acc = function\n",
    "    | [] -> List.rev acc\n",
    "    | row :: rest ->\n",
    "      let (_, max_index) =\n",
    "        List.fold_left (fun (max_val, max_index) (x, i) ->\n",
    "          if x > max_val then (x, i) else (max_val, max_index)) (0., 0) (List.mapi (fun i x -> (x, i)) row) in\n",
    "      loop (max_index :: acc) rest\n",
    "  in\n",
    "  loop [] a2"
   ]
  },
  {
   "cell_type": "code",
   "execution_count": 23,
   "metadata": {},
   "outputs": [
    {
     "data": {
      "text/plain": [
       "val get_accuracy : 'a list -> 'a list -> float = <fun>\n"
      ]
     },
     "execution_count": 23,
     "metadata": {},
     "output_type": "execute_result"
    }
   ],
   "source": [
    "let get_accuracy pred y : float =\n",
    "  let diff = List.map2 (fun v1 v2 -> if v1 = v2 then 1 else 0) pred y in\n",
    "  let sum_and_len = List.fold_left (fun (s,l) x -> s+x, l+1) (0,0) diff in\n",
    "  float_of_int (fst (sum_and_len)) /. float_of_int (snd (sum_and_len))"
   ]
  },
  {
   "cell_type": "code",
   "execution_count": 24,
   "metadata": {
    "vscode": {
     "languageId": "ocaml"
    }
   },
   "outputs": [
    {
     "data": {
      "text/plain": [
       "val test_x : float list list =\n",
       "  [[0.; 0.; 0.; 0.; 0.; 0.; 0.; 0.; 0.; 0.; 0.; 0.; 0.; 0.; 0.; 0.; 0.; 0.;\n",
       "    0.];\n",
       "   [0.; 0.; 0.; 0.; 0.; 0.; 0.; 0.; 0.; 0.; 0.; 0.; 0.; 0.; 0.; 0.; 0.; 0.;\n",
       "    0.];\n",
       "   [0.; 0.; 0.; 0.; 0.; 0.; 0.; 0.; 0.; 0.; 0.; 0.; 0.; 0.; 0.; 0.; 0.; 0.;\n",
       "    0.];\n",
       "   [0.; 0.; 0.; 0.; 0.; 0.; 0.; 0.; 0.; 0.; 0.; 0.; 0.; 0.; 0.; 0.; 0.; 0.;\n",
       "    0.];\n",
       "   [0.; 0.; 0.; 0.; 0.; 0.; 0.; 0.; 0.; 0.; 0.; 0.; 0.; 0.; 0.; 0.; 0.; 0.;\n",
       "    0.];\n",
       "   [0.; 0.; 0.; 0.; 0.; 0.; 0.; 0.; 0.; 0.; 0.; 0.; 0.; 0.; 0.; 0.; 0.; 0.;\n",
       "    0.];\n",
       "   [0.; 0.; 0.; 0.; 0.; 0.; 0.; 0.; 0.; 0.; 0.; 0.; 0.; 0.; 0.; 0.; 0.; 0.;\n",
       "    0.];\n",
       "   [0.; 0.; 0.; 0.; 0.; 0.; 0.; 0.; 0.; 0.; 0.; 0.; 0.; 0.; 0.; 0.; 0.; 0.;\n",
       "    0.];\n",
       "   [0.; 0.; 0.; 0.; 0.; 0.; 0.; 0.; 0.; 0.; 0.; 0.; 0.; 0.; 0.; 0.; 0.; 0.;\n",
       "    0.];\n",
       "   [0.; 0.; 0.; 0.; 0.; 0.; 0.; 0.; 0.; 0.; 0.; 0.; 0.; 0.; 0.; 0.; 0.; 0.;\n",
       "    0.];\n",
       "   [0.; 0.; 0.; 0.; 0.; 0.; 0.; 0.; 0.; 0.; 0.; 0.; 0.; 0.; 0.; 0.; 0.; 0.;\n",
       "    0.];\n",
       "   [0.; 0.; 0.; 0.; 0.; 0.; 0.; 0.; 0.; 0.; 0.; 0.; 0.; 0.; 0.; 0.; 0.; 0.;\n",
       "    0.];\n",
       "   [0.; 0.; 0.; 0.; 0.; 0.; 0.; 0.; 0.; 0.; 0.; 0.; 0.; 0.; 0.; 0.; 0.; 0.;\n",
       "    0.];\n",
       "   [0.; 0.; 0.; 0.; 0.; 0.; 0.; 0.; 0.; 0.; 0.; 0.; 0.; 0.; 0.; 0.; 0.; 0.;\n",
       "    0.];\n",
       "   [0.; 0.; 0.; 0.; 0.; 0.; 0.; 0.; 0.; 0.; 0.; 0.; 0.; 0.; 0.; 0.; 0.; 0.;\n",
       "    ...];\n",
       "   ...]\n"
      ]
     },
     "execution_count": 24,
     "metadata": {},
     "output_type": "execute_result"
    },
    {
     "data": {
      "text/plain": [
       "val test_y : int list =\n",
       "  [1; 0; 1; 4; 0; 0; 7; 3; 5; 3; 8; 9; 1; 3; 3; 1; 2; 0; 7]\n"
      ]
     },
     "execution_count": 24,
     "metadata": {},
     "output_type": "execute_result"
    }
   ],
   "source": [
    "let test_x = \n",
    "  let temp = load_csv \"../data/test_small.csv\" float_of_string in\n",
    "  Util.transpose temp \n",
    "  |> List.map (fun row -> List.map (fun x -> x /. 255.0) row)\n",
    "  \n",
    "let test_y = \n",
    "  let temp = load_csv \"../data/test_small_labels.csv\" int_of_string in\n",
    "  0 |> List.nth (Util.transpose temp)"
   ]
  },
  {
   "cell_type": "code",
   "execution_count": 25,
   "metadata": {
    "vscode": {
     "languageId": "ocaml"
    }
   },
   "outputs": [
    {
     "data": {
      "text/plain": [
       "- : int list * float =\n",
       "([8; 0; 1; 4; 0; 0; 7; 3; 3; 0; 9; 7; 1; 3; 3; 1; 1; 0; 7],\n",
       " 0.684210526315789491)\n"
      ]
     },
     "execution_count": 25,
     "metadata": {},
     "output_type": "execute_result"
    }
   ],
   "source": [
    "let _, _, _, a2 = Prop.forward_prop w1 b1 w2 b2 test_x in\n",
    "let preds = get_predictions (Util.transpose a2) in\n",
    "(preds, get_accuracy preds test_y)"
   ]
  },
  {
   "cell_type": "code",
   "execution_count": 26,
   "metadata": {},
   "outputs": [],
   "source": [
    "(* let gradient_descent train_x train_y lr iterations m_inv =\n",
    "  let w1, b1, w2, b2 = Util.init_params in\n",
    "  let rec loop i w1 b1 w2 b2 iterations train_x train_y lr m_inv =\n",
    "    if i = iterations then (w1, b1, w2, b2)\n",
    "    else\n",
    "      let z1, a1, z2, a2 = Prop.forward_prop w1 b1 w2 b2 train_x in\n",
    "      let dw1, db1, dw2, db2 = Prop.backward_prop z1 a1 z2 a2 w1 w2 train_x train_y m_inv in\n",
    "      let w1', b1', w2', b2' = Prop.update_params w1 b1 w2 b2 dw1 db1 dw2 db2 lr in\n",
    "      let _ = print_endline \"Iteration\" in\n",
    "      loop (i + 1) w1' b1' w2' b2' iterations train_x train_y lr m_inv\n",
    "  in\n",
    "  loop 0 w1 b1 w2 b2 iterations train_x train_y lr m_inv *)"
   ]
  },
  {
   "cell_type": "code",
   "execution_count": null,
   "metadata": {},
   "outputs": [],
   "source": []
  }
 ],
 "metadata": {
  "kernelspec": {
   "display_name": "OCaml 4.12.1",
   "language": "OCaml",
   "name": "ocaml-jupyter-4.12.1"
  },
  "language_info": {
   "codemirror_mode": "text/x-ocaml",
   "file_extension": ".ml",
   "mimetype": "text/x-ocaml",
   "name": "OCaml",
   "nbconverter_exporter": null,
   "pygments_lexer": "OCaml",
   "version": "4.12.1"
  },
  "widgets": {
   "application/vnd.jupyter.widget-state+json": {
    "state": {},
    "version_major": 2,
    "version_minor": 0
   }
  }
 },
 "nbformat": 4,
 "nbformat_minor": 4
}
